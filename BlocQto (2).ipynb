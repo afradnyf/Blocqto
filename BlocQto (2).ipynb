{
  "nbformat": 4,
  "nbformat_minor": 0,
  "metadata": {
    "kernelspec": {
      "display_name": "Python 3",
      "language": "python",
      "name": "python3"
    },
    "language_info": {
      "codemirror_mode": {
        "name": "ipython",
        "version": 3
      },
      "file_extension": ".py",
      "mimetype": "text/x-python",
      "name": "python",
      "nbconvert_exporter": "python",
      "pygments_lexer": "ipython3",
      "version": "3.7.1"
    },
    "colab": {
      "name": "BlocQto.ipynb",
      "provenance": [],
      "collapsed_sections": []
    }
  },
  "cells": [
    {
      "cell_type": "markdown",
      "metadata": {
        "id": "LZ24ylnJd3jw",
        "colab_type": "text"
      },
      "source": [
        "# BlocQto - The 2 player Strategy Game for built for a Quantum Computer\n"
      ]
    },
    {
      "cell_type": "markdown",
      "metadata": {
        "id": "Nu2Kgs_hQ2sZ",
        "colab_type": "text"
      },
      "source": [
        "\n",
        "If you're reading this, the intrigue you had when you clicked our Medium article has grown into interest, and for that, we are happy. Through this Jupyter notebook, we will understand the mechanics (or quantum mechanics?) of the game and then actually play the game. So let's get started."
      ]
    },
    {
      "cell_type": "markdown",
      "metadata": {
        "id": "7ILSbY3cdzZu",
        "colab_type": "text"
      },
      "source": [
        "## Installing and Importing Packages"
      ]
    },
    {
      "cell_type": "markdown",
      "metadata": {
        "id": "CeUJ0xmKR-Gm",
        "colab_type": "text"
      },
      "source": [
        "\n",
        "\n",
        "We install Qiskit, the open source software development libraries in python by IBM. The game is written completely in python and extensively uses Qiskit. This is useful to run the game in an actual quantum computer.\n"
      ]
    },
    {
      "cell_type": "code",
      "metadata": {
        "id": "I23i7MG90rOK",
        "colab_type": "code",
        "colab": {
          "base_uri": "https://localhost:8080/",
          "height": 1000
        },
        "outputId": "da5ce4b5-403e-4bae-faff-d013f4c5026a"
      },
      "source": [
        "#Uncomment the following line to install qiskit if you haven't already.\n",
        "#pip install qiskit"
      ],
      "execution_count": 2,
      "outputs": [
        {
          "output_type": "stream",
          "text": [
            "Collecting qiskit\n",
            "  Downloading https://files.pythonhosted.org/packages/9e/2d/4c09bc1292a3be92f8c003b8491215ac9a0d81b014384e95a659a58ddf57/qiskit-0.13.0.tar.gz\n",
            "Collecting qiskit-terra==0.10.0\n",
            "\u001b[?25l  Downloading https://files.pythonhosted.org/packages/09/97/1be77cc1b22f3bd341024b1bae89d71ca9ee147ac047f793364cadc873a8/qiskit_terra-0.10.0-cp36-cp36m-manylinux1_x86_64.whl (1.6MB)\n",
            "\u001b[K     |████████████████████████████████| 1.6MB 5.0MB/s \n",
            "\u001b[?25hCollecting qiskit-aer==0.3.2\n",
            "\u001b[?25l  Downloading https://files.pythonhosted.org/packages/57/aa/8f6d5515f6e70e41d9f7e5ee2b3ce18cabe5fb21001a169757d1f1f8ff1f/qiskit_aer-0.3.2-cp36-cp36m-manylinux2010_x86_64.whl (17.3MB)\n",
            "\u001b[K     |████████████████████████████████| 17.3MB 136kB/s \n",
            "\u001b[?25hCollecting qiskit-ibmq-provider==0.3.3\n",
            "\u001b[?25l  Downloading https://files.pythonhosted.org/packages/cb/6a/ae5f648a565492dd6a39d2472e8940434f2df36c9c4422a39bc9535bfe01/qiskit-ibmq-provider-0.3.3.tar.gz (57kB)\n",
            "\u001b[K     |████████████████████████████████| 61kB 6.5MB/s \n",
            "\u001b[?25hCollecting qiskit-ignis==0.2.0\n",
            "\u001b[?25l  Downloading https://files.pythonhosted.org/packages/78/f2/f4f89c65d2c13f473092f7e800519836611ddeeaab8d4591a70555b26a37/qiskit_ignis-0.2.0-py3-none-any.whl (100kB)\n",
            "\u001b[K     |████████████████████████████████| 102kB 11.6MB/s \n",
            "\u001b[?25hCollecting qiskit-aqua==0.6.1\n",
            "\u001b[?25l  Downloading https://files.pythonhosted.org/packages/47/2b/632c195974804d17dca01554caa013dd0c3023f4e4e6b91213c3381ce514/qiskit_aqua-0.6.1-py3-none-any.whl (979kB)\n",
            "\u001b[K     |████████████████████████████████| 983kB 48.4MB/s \n",
            "\u001b[?25hCollecting sympy>=1.3\n",
            "\u001b[?25l  Downloading https://files.pythonhosted.org/packages/21/21/f4105795ca7f35c541d82c5b06be684dd2f5cb4f508fb487cd7aea4de776/sympy-1.4-py2.py3-none-any.whl (5.3MB)\n",
            "\u001b[K     |████████████████████████████████| 5.3MB 47.3MB/s \n",
            "\u001b[?25hRequirement already satisfied: numpy>=1.13 in /usr/local/lib/python3.6/dist-packages (from qiskit-terra==0.10.0->qiskit) (1.17.4)\n",
            "Requirement already satisfied: psutil>=5 in /usr/local/lib/python3.6/dist-packages (from qiskit-terra==0.10.0->qiskit) (5.4.8)\n",
            "Requirement already satisfied: jsonschema>=2.6 in /usr/local/lib/python3.6/dist-packages (from qiskit-terra==0.10.0->qiskit) (2.6.0)\n",
            "Collecting marshmallow-polyfield<6,>=5.7\n",
            "  Downloading https://files.pythonhosted.org/packages/d7/6c/416e7e529d03362bb57bb4be16a0bb1ada6325b12adf3e31fec4c10ef1b1/marshmallow-polyfield-5.7.tar.gz\n",
            "Requirement already satisfied: networkx>=2.2 in /usr/local/lib/python3.6/dist-packages (from qiskit-terra==0.10.0->qiskit) (2.4)\n",
            "Requirement already satisfied: scipy>=1.0 in /usr/local/lib/python3.6/dist-packages (from qiskit-terra==0.10.0->qiskit) (1.3.3)\n",
            "Collecting ply>=3.10\n",
            "\u001b[?25l  Downloading https://files.pythonhosted.org/packages/a3/58/35da89ee790598a0700ea49b2a66594140f44dec458c07e8e3d4979137fc/ply-3.11-py2.py3-none-any.whl (49kB)\n",
            "\u001b[K     |████████████████████████████████| 51kB 7.3MB/s \n",
            "\u001b[?25hCollecting marshmallow<4,>=3\n",
            "\u001b[?25l  Downloading https://files.pythonhosted.org/packages/6e/76/01224f14737627166b94eb3bf0e334372c014edca781e39db320ce977755/marshmallow-3.3.0-py2.py3-none-any.whl (45kB)\n",
            "\u001b[K     |████████████████████████████████| 51kB 6.9MB/s \n",
            "\u001b[?25hCollecting nest-asyncio==1.0.0\n",
            "  Downloading https://files.pythonhosted.org/packages/62/18/4c6a895c925e8822e72535d774861e9ca07089c4b938ed20002b1aaab66a/nest_asyncio-1.0.0-py3-none-any.whl\n",
            "Requirement already satisfied: requests>=2.19 in /usr/local/lib/python3.6/dist-packages (from qiskit-ibmq-provider==0.3.3->qiskit) (2.21.0)\n",
            "Collecting requests-ntlm>=1.1.0\n",
            "  Downloading https://files.pythonhosted.org/packages/03/4b/8b9a1afde8072c4d5710d9fa91433d504325821b038e00237dc8d6d833dc/requests_ntlm-1.1.0-py2.py3-none-any.whl\n",
            "Collecting websockets<8,>=7\n",
            "\u001b[?25l  Downloading https://files.pythonhosted.org/packages/43/71/8bfa882b9c502c36e5c9ef6732969533670d2b039cbf95a82ced8f762b80/websockets-7.0-cp36-cp36m-manylinux1_x86_64.whl (63kB)\n",
            "\u001b[K     |████████████████████████████████| 71kB 9.1MB/s \n",
            "\u001b[?25hRequirement already satisfied: setuptools>=40.1.0 in /usr/local/lib/python3.6/dist-packages (from qiskit-ignis==0.2.0->qiskit) (42.0.1)\n",
            "Collecting docplex\n",
            "\u001b[?25l  Downloading https://files.pythonhosted.org/packages/77/6b/b8a71573c8cca835cd2d6b36ae341ab93ab44bd27208fe20d5bf3c00c990/docplex-2.11.176.tar.gz (557kB)\n",
            "\u001b[K     |████████████████████████████████| 563kB 49.5MB/s \n",
            "\u001b[?25hRequirement already satisfied: h5py in /usr/local/lib/python3.6/dist-packages (from qiskit-aqua==0.6.1->qiskit) (2.8.0)\n",
            "Requirement already satisfied: fastdtw in /usr/local/lib/python3.6/dist-packages (from qiskit-aqua==0.6.1->qiskit) (0.3.4)\n",
            "Collecting quandl\n",
            "  Downloading https://files.pythonhosted.org/packages/12/64/6314547cb01fa75697ddba6d6d43a9f1d023c1730ffc6abf3db7a0c89222/Quandl-3.4.8-py2.py3-none-any.whl\n",
            "Collecting pyscf; sys_platform != \"win32\"\n",
            "\u001b[?25l  Downloading https://files.pythonhosted.org/packages/0e/ce/c20e3d841eb489a83d8d8c63af48d0a407acbcea35fa37c0d08710072a6d/pyscf-1.6.5-cp36-cp36m-manylinux1_x86_64.whl (21.7MB)\n",
            "\u001b[K     |████████████████████████████████| 21.7MB 108kB/s \n",
            "\u001b[?25hCollecting dlx\n",
            "  Downloading https://files.pythonhosted.org/packages/54/c0/b8fb5bb727e983b6f5251433ef941b48f38c65bb0bd6ec509e9185bcd406/dlx-1.0.4.tar.gz\n",
            "Requirement already satisfied: cvxopt in /usr/local/lib/python3.6/dist-packages (from qiskit-aqua==0.6.1->qiskit) (1.2.3)\n",
            "Requirement already satisfied: scikit-learn>=0.20.0 in /usr/local/lib/python3.6/dist-packages (from qiskit-aqua==0.6.1->qiskit) (0.21.3)\n",
            "Requirement already satisfied: mpmath>=0.19 in /usr/local/lib/python3.6/dist-packages (from sympy>=1.3->qiskit-terra==0.10.0->qiskit) (1.1.0)\n",
            "Requirement already satisfied: six in /usr/local/lib/python3.6/dist-packages (from marshmallow-polyfield<6,>=5.7->qiskit-terra==0.10.0->qiskit) (1.12.0)\n",
            "Requirement already satisfied: decorator>=4.3.0 in /usr/local/lib/python3.6/dist-packages (from networkx>=2.2->qiskit-terra==0.10.0->qiskit) (4.4.1)\n",
            "Requirement already satisfied: chardet<3.1.0,>=3.0.2 in /usr/local/lib/python3.6/dist-packages (from requests>=2.19->qiskit-ibmq-provider==0.3.3->qiskit) (3.0.4)\n",
            "Requirement already satisfied: certifi>=2017.4.17 in /usr/local/lib/python3.6/dist-packages (from requests>=2.19->qiskit-ibmq-provider==0.3.3->qiskit) (2019.11.28)\n",
            "Requirement already satisfied: urllib3<1.25,>=1.21.1 in /usr/local/lib/python3.6/dist-packages (from requests>=2.19->qiskit-ibmq-provider==0.3.3->qiskit) (1.24.3)\n",
            "Requirement already satisfied: idna<2.9,>=2.5 in /usr/local/lib/python3.6/dist-packages (from requests>=2.19->qiskit-ibmq-provider==0.3.3->qiskit) (2.8)\n",
            "Collecting ntlm-auth>=1.0.2\n",
            "  Downloading https://files.pythonhosted.org/packages/50/09/5e397eb18685b14fd8b209e26cdb4fa6451c82c1bcc651fef05fa73e7b27/ntlm_auth-1.4.0-py2.py3-none-any.whl\n",
            "Collecting cryptography>=1.3\n",
            "\u001b[?25l  Downloading https://files.pythonhosted.org/packages/ca/9a/7cece52c46546e214e10811b36b2da52ce1ea7fa203203a629b8dfadad53/cryptography-2.8-cp34-abi3-manylinux2010_x86_64.whl (2.3MB)\n",
            "\u001b[K     |████████████████████████████████| 2.3MB 40.5MB/s \n",
            "\u001b[?25hCollecting docloud>=1.0.375\n",
            "  Downloading https://files.pythonhosted.org/packages/89/1c/fcb7ea86ae5cb7137a22f00bcaa785de2d102bd4a2b16383ec4a877a835b/docloud-1.0.375.tar.gz\n",
            "Collecting inflection>=0.3.1\n",
            "  Downloading https://files.pythonhosted.org/packages/d5/35/a6eb45b4e2356fe688b21570864d4aa0d0a880ce387defe9c589112077f8/inflection-0.3.1.tar.gz\n",
            "Collecting ndg-httpsclient\n",
            "  Downloading https://files.pythonhosted.org/packages/fb/67/c2f508c00ed2a6911541494504b7cac16fe0b0473912568df65fd1801132/ndg_httpsclient-0.5.1-py3-none-any.whl\n",
            "Requirement already satisfied: pandas>=0.14 in /usr/local/lib/python3.6/dist-packages (from quandl->qiskit-aqua==0.6.1->qiskit) (0.25.3)\n",
            "Requirement already satisfied: pyasn1 in /usr/local/lib/python3.6/dist-packages (from quandl->qiskit-aqua==0.6.1->qiskit) (0.4.8)\n",
            "Collecting pyOpenSSL\n",
            "\u001b[?25l  Downloading https://files.pythonhosted.org/packages/9e/de/f8342b68fa9e981d348039954657bdf681b2ab93de27443be51865ffa310/pyOpenSSL-19.1.0-py2.py3-none-any.whl (53kB)\n",
            "\u001b[K     |████████████████████████████████| 61kB 8.0MB/s \n",
            "\u001b[?25hCollecting more-itertools<=5.0.0\n",
            "\u001b[?25l  Downloading https://files.pythonhosted.org/packages/a4/a6/42f17d065bda1fac255db13afc94c93dbfb64393eae37c749b4cb0752fc7/more_itertools-5.0.0-py3-none-any.whl (52kB)\n",
            "\u001b[K     |████████████████████████████████| 61kB 8.2MB/s \n",
            "\u001b[?25hRequirement already satisfied: python-dateutil in /usr/local/lib/python3.6/dist-packages (from quandl->qiskit-aqua==0.6.1->qiskit) (2.6.1)\n",
            "Requirement already satisfied: joblib>=0.11 in /usr/local/lib/python3.6/dist-packages (from scikit-learn>=0.20.0->qiskit-aqua==0.6.1->qiskit) (0.14.0)\n",
            "Requirement already satisfied: cffi!=1.11.3,>=1.8 in /usr/local/lib/python3.6/dist-packages (from cryptography>=1.3->requests-ntlm>=1.1.0->qiskit-ibmq-provider==0.3.3->qiskit) (1.13.2)\n",
            "Requirement already satisfied: pytz>=2017.2 in /usr/local/lib/python3.6/dist-packages (from pandas>=0.14->quandl->qiskit-aqua==0.6.1->qiskit) (2018.9)\n",
            "Requirement already satisfied: pycparser in /usr/local/lib/python3.6/dist-packages (from cffi!=1.11.3,>=1.8->cryptography>=1.3->requests-ntlm>=1.1.0->qiskit-ibmq-provider==0.3.3->qiskit) (2.19)\n",
            "Building wheels for collected packages: qiskit, qiskit-ibmq-provider, marshmallow-polyfield, docplex, dlx, docloud, inflection\n",
            "  Building wheel for qiskit (setup.py) ... \u001b[?25l\u001b[?25hdone\n",
            "  Created wheel for qiskit: filename=qiskit-0.13.0-cp36-none-any.whl size=1399 sha256=d20e0fc405ba1a9f8c68922e51cf96c87f5c9da36abee8bdf4c539c5e6789aeb\n",
            "  Stored in directory: /root/.cache/pip/wheels/4e/f0/27/e914f739445603aa0229efc92a205fbbe3535aa1054b5a1f67\n",
            "  Building wheel for qiskit-ibmq-provider (setup.py) ... \u001b[?25l\u001b[?25hdone\n",
            "  Created wheel for qiskit-ibmq-provider: filename=qiskit_ibmq_provider-0.3.3-cp36-none-any.whl size=85719 sha256=1c86b602bd00248834e0757a41a83178822fe28972aabd3ea7a0d2f8a39a229b\n",
            "  Stored in directory: /root/.cache/pip/wheels/52/ff/94/ed9ed05fff0099b4de0a27df50fcf3bc7a0db91b356819dc1c\n",
            "  Building wheel for marshmallow-polyfield (setup.py) ... \u001b[?25l\u001b[?25hdone\n",
            "  Created wheel for marshmallow-polyfield: filename=marshmallow_polyfield-5.7-cp36-none-any.whl size=8580 sha256=379d880a9b06069cd7822d729e0e4f9a6a0910277675dc434badfd8076e62cc5\n",
            "  Stored in directory: /root/.cache/pip/wheels/68/f5/09/1dcfa8613b095bb326caadfb4b111d7fc945875948b75f5c14\n",
            "  Building wheel for docplex (setup.py) ... \u001b[?25l\u001b[?25hdone\n",
            "  Created wheel for docplex: filename=docplex-2.11.176-cp36-none-any.whl size=618499 sha256=669e64a89116068a24f1c57da44a0bdcfad775a692cf72e404bb132bff551b63\n",
            "  Stored in directory: /root/.cache/pip/wheels/67/f9/a4/a1ea7f35c16adca0337cc3d996bdebd489ed4244896a9d089d\n",
            "  Building wheel for dlx (setup.py) ... \u001b[?25l\u001b[?25hdone\n",
            "  Created wheel for dlx: filename=dlx-1.0.4-cp36-none-any.whl size=5710 sha256=55c11c885fd787379f61ab0ed0f221c90f2fb1b519f6f724ffdfd59112a2d0b8\n",
            "  Stored in directory: /root/.cache/pip/wheels/bb/ba/15/fdd0deb104df3254912998150ba9245668db06b00af5912d1a\n",
            "  Building wheel for docloud (setup.py) ... \u001b[?25l\u001b[?25hdone\n",
            "  Created wheel for docloud: filename=docloud-1.0.375-cp36-none-any.whl size=19479 sha256=d1556d688932a3aa5452dd99fbc838bbde4f69c5fea2d5d1ff8b8bec5c301a79\n",
            "  Stored in directory: /root/.cache/pip/wheels/4e/24/19/9b0e57545d7543ecec35c5faff78c058bf0c2506369c8b1d31\n",
            "  Building wheel for inflection (setup.py) ... \u001b[?25l\u001b[?25hdone\n",
            "  Created wheel for inflection: filename=inflection-0.3.1-cp36-none-any.whl size=6076 sha256=6c8e5fcc1eaf85ed6af12c539d9f4b6c30cd28f511d3a21d2fb8e5db6ed6f86f\n",
            "  Stored in directory: /root/.cache/pip/wheels/9f/5a/d3/6fc3bf6516d2a3eb7e18f9f28b472110b59325f3f258fe9211\n",
            "Successfully built qiskit qiskit-ibmq-provider marshmallow-polyfield docplex dlx docloud inflection\n",
            "\u001b[31mERROR: datascience 0.10.6 has requirement folium==0.2.1, but you'll have folium 0.8.3 which is incompatible.\u001b[0m\n",
            "Installing collected packages: sympy, marshmallow, marshmallow-polyfield, ply, qiskit-terra, qiskit-aer, nest-asyncio, ntlm-auth, cryptography, requests-ntlm, websockets, qiskit-ibmq-provider, qiskit-ignis, docloud, docplex, inflection, pyOpenSSL, ndg-httpsclient, more-itertools, quandl, pyscf, dlx, qiskit-aqua, qiskit\n",
            "  Found existing installation: sympy 1.1.1\n",
            "    Uninstalling sympy-1.1.1:\n",
            "      Successfully uninstalled sympy-1.1.1\n",
            "  Found existing installation: more-itertools 8.0.0\n",
            "    Uninstalling more-itertools-8.0.0:\n",
            "      Successfully uninstalled more-itertools-8.0.0\n",
            "Successfully installed cryptography-2.8 dlx-1.0.4 docloud-1.0.375 docplex-2.11.176 inflection-0.3.1 marshmallow-3.3.0 marshmallow-polyfield-5.7 more-itertools-5.0.0 ndg-httpsclient-0.5.1 nest-asyncio-1.0.0 ntlm-auth-1.4.0 ply-3.11 pyOpenSSL-19.1.0 pyscf-1.6.5 qiskit-0.13.0 qiskit-aer-0.3.2 qiskit-aqua-0.6.1 qiskit-ibmq-provider-0.3.3 qiskit-ignis-0.2.0 qiskit-terra-0.10.0 quandl-3.4.8 requests-ntlm-1.1.0 sympy-1.4 websockets-7.0\n"
          ],
          "name": "stdout"
        }
      ]
    },
    {
      "cell_type": "code",
      "metadata": {
        "id": "xpU96jjbrSQN",
        "colab_type": "code",
        "colab": {}
      },
      "source": [
        "from qiskit import *\n",
        "import numpy as np\n",
        "import math\n",
        "from qiskit.visualization import plot_histogram\n",
        "import matplotlib as mpl\n",
        "import operator\n",
        "import pandas as pd\n",
        "from random import choices, seed\n",
        "from itertools import permutations\n",
        "import random\n",
        "from IPython.display import display, HTML\n",
        "import getpass"
      ],
      "execution_count": 0,
      "outputs": []
    },
    {
      "cell_type": "markdown",
      "metadata": {
        "id": "ZkIhCH-2dqVE",
        "colab_type": "text"
      },
      "source": [
        "## The Physics and Mathematics of BlocQto"
      ]
    },
    {
      "cell_type": "markdown",
      "metadata": {
        "id": "WAYGOZfTS7qD",
        "colab_type": "text"
      },
      "source": [
        "\n",
        "\n",
        "We first give a brief introduction to and explanation of the game mechanics. A more detailed explanation of the math and physics of the game is available in the accompanying Medium articles.\n",
        "\n",
        "The game is designed to be played for six rounds divided into two halves of 3 rounds each. The mechanics of each round is the same, except for the differences in results caused by the strategies adopted by the players. Throughout this notebook, we will refer to Player 1 as Alice and Player 2 as Bob. \n",
        "\n",
        "The game as a whole is played as follows:\n",
        "\n",
        "1.   Alice and Bob enter four troop configurations (which are just 6 numbers, real or imaginary, but not complex) each for the first half of three rounds.\n",
        "2. Rounds 1 is played, where both Alice and Bob picks one out of their entered configuration, and then pick an island each as their control qubits for entanglement. Round mechanics, which will be explained shortly, are conducted. Scores and other relavant statistics are displayed.\n",
        "3. Each island can only be selected once as control for entanglement by a player, barring the last round, where the player is free to chose any island as control for entanglement.\n",
        "4. Round 2 and 3 are played out similarly. \n",
        "5. First half has ended. Players enter four more troop configurations each for the next three rounds. The one remaining pair of configurations is discarded.\n",
        "6. Round 4, 5, 6 are played out.\n",
        "7. The player with higher score, which is the cumulative scores of all the rounds, is the winner.\n",
        "\n",
        "This is the overall structure of the game. We now explain the mechanics of a single round.\n",
        "\n",
        "A single round consists of the following steps:\n",
        "1. Quantum state preparation through application of rotation gates. \n",
        "2. Transformation of states to simulate measurement on a different basis.\n",
        "3. Application of CNOT gates to entangle qubits.\n",
        "4. Measure the qubits and display the results.\n",
        "\n",
        "Each of the above step have mathematics and physics behind it which we will now explain briefly. Detailed explanations are available in the accompanying articles.\n",
        "\n",
        "### Quantum State Preparation\n",
        "The input each round is the troop configuration by Alice and Bob. Let us call one pair of such configuration $C_A$ and $C_B$. where $C_A = [a_i]_{i=1}^6$ and $C_B = [b_i]_{i=1}^6$. Let each island, which corresponds to  single qubit, represented by a state vector $|\\psi_i\\rangle$. Through state preparation, we would like to take each qubit from $|0\\rangle$ to $|\\psi_i\\rangle$ which is defined as $\\alpha_i|0\\rangle + \\beta_i|1\\rangle$ where\n",
        "\n",
        "$$|\\psi_i\\rangle = \\begin{bmatrix}\\alpha_i \\\\ \\beta_i\\end{bmatrix} = \\frac{1}{\\sqrt{a_i^2 + b_i^2}} \\begin{bmatrix}a_i \\\\ b_i\\end{bmatrix}$$\n",
        "\n",
        "We see that $|\\psi_i\\rangle$ are simply the normalised representation of the troops in each island. By the rules of the game, $a_i,b_i$ can only be purely imaginary or purely real, hence so will be $\\alpha_i$ and $\\beta_i$.\n",
        "\n",
        "We must now construct transformations $R_i$ for each island such that $$R_i|0\\rangle = |\\psi_i\\rangle$$\n",
        "as the qubits are always initialised in $|0\\rangle$.\n",
        "\n",
        "This is done through the $R_y$ and  $R_z$ gates which are standard single qubit gates of the form\n",
        "$$R_y(\\theta) = \\begin{bmatrix} cos\\frac{\\theta}{2} & -sin\\frac{\\theta}{2} \\\\ sin\\frac{\\theta}{2}& cos\\frac{\\theta}{2} \\end{bmatrix} \\hspace{5pt} R_z(\\theta) = \\begin{bmatrix} e^{-i\\theta/2} & 0 \\\\ 0 & e^{i\\theta/2} \\end{bmatrix}$$\n",
        "\n",
        "We construct \n",
        "$$R_i \\equiv R(\\theta_i,\\phi_i) = R_z(\\phi_i)R_y(\\theta_i)$$\n",
        "where $$\\phi_i = \\arcsin\\bigg(\\frac{\\text{Im}(\\beta_i)}{|\\beta_i|}\\bigg) - \\arcsin\\bigg(\\frac{\\text{Im}(\\alpha_i)}{|\\alpha_i|}\\bigg)$$ and $$\\theta_i = 2*\\arctan\\bigg(\\frac{e^{-i\\phi_i}\\beta_i}{ \\alpha_i}\\bigg)$$\n",
        "\n",
        "We now apply each of the $R_i$ gates to the corresponding qubits (except those who are the target qubits for entanglement, but more on that later) to take them to $|\\psi_i\\rangle$. \n",
        "\n",
        "\n",
        "### Change of Basis Transformation\n",
        "In Qiksit, all measurements are carried out in the standard $z$-eigenbasis $ = \\{|0\\rangle \\equiv |+z\\rangle,|1\\rangle \\equiv |-z\\rangle\\}$ where $$|0\\rangle = \\begin{bmatrix}0 \\\\ 1\\end{bmatrix},  |1\\rangle = \\begin{bmatrix}1 \\\\ 0\\end{bmatrix}$$\n",
        "\n",
        "A core element of BlocQto gameplay is that each island is measured in different basis, and hence the same configuration, say $a_i,b_i$, will give vastly different results on different islands. Apart from the $z$ eigenbasis, we choose to measure on $x$ and $y$ eigenbases. These correspond to three of the six islands. In the other three islands, we first apply an $X$ gate to the state, hence switching the amplitudes (and hence probabilities) associated with $|0\\rangle$ and $|1\\rangle$. Such *switched* bases are denoted with an overhead line. \n",
        "\n",
        "The six bases in which states are measured in BlocQto are $[Z, \\overline{Z}, X, \\overline{X}, Y, \\overline{Y}]$. It might be a good idea to list them and their eigenvectors. \n",
        "\n",
        "$$X = \\begin{bmatrix} 0 & 1 \\\\ 1 & 0 \\end{bmatrix},\\hspace{10pt} |+x\\rangle = \\frac{1}{\\sqrt{2}}\\begin{bmatrix}1 \\\\ 1\\end{bmatrix}, \\hspace{5pt}|-x\\rangle = \\frac{1}{\\sqrt{2}}\\begin{bmatrix}1 \\\\ -1\\end{bmatrix}$$ \n",
        "\n",
        "$$Y = \\begin{bmatrix} 0 & -i \\\\ i & 0 \\end{bmatrix}, \\hspace{10pt} |+y\\rangle = \\frac{1}{\\sqrt{2}}\\begin{bmatrix}1 \\\\ i\\end{bmatrix}, \\hspace{5pt}|-y\\rangle = \\frac{1}{\\sqrt{2}}\\begin{bmatrix}1 \\\\ -i\\end{bmatrix}$$ \n",
        "\n",
        "$$Z = \\begin{bmatrix} 1 & 0 \\\\ 0 & 1 \\end{bmatrix},\\hspace{10pt} |+z\\rangle = \\begin{bmatrix}1 \\\\ 0\\end{bmatrix},\\hspace{5pt}|-z\\rangle = \\begin{bmatrix}0 \\\\ 1\\end{bmatrix}$$\n",
        "\n",
        "The idea behind change of basis transformation is that since we cannot measure $|\\psi\\rangle$ in $x$ and $y$ eigenbasis, we would like to transform $|\\psi\\rangle$ into $|\\phi\\rangle = T_x^\\dagger|\\psi\\rangle$ such that measuring $|\\phi\\rangle$ in $z$ eigenbasis - the standard basis - is the same as measuring $|\\psi\\rangle$ in $x$ eigenbasis. Mathematically, we need to find transformation $T_x$ such that $$ \\langle\\psi|P_{0}^{x}|\\psi\\rangle = \\langle\\phi|P_{0}|\\phi\\rangle=\\langle\\psi| T_x P_{0} T_x^\\dagger|\\psi\\rangle$$\n",
        "$$ \\langle\\psi|P_{1}^{x}|\\psi\\rangle = \\langle\\phi|P_{1}|\\phi\\rangle=\\langle\\psi| T_x P_{1} T_x^\\dagger|\\psi\\rangle$$\n",
        "\n",
        "with similar results holding for measurement in $y$ eigenbasis as well. Here \n",
        "\n",
        "$$P_0 = P_0^z = |0\\rangle\\langle0| \\hspace{10pt} P_1 =P_1^z = |1\\rangle\\langle1|$$\n",
        "\n",
        "$$P_0^x = |+x\\rangle\\langle+x| \\hspace{10pt} P_1^x = |-x\\rangle\\langle-x|$$\n",
        "\n",
        "$$P_0^y = |+y\\rangle\\langle+y| \\hspace{10pt} P_1^y = |-y\\rangle\\langle-y|$$\n",
        "\n",
        "\n",
        "Take a look at this table for a quick overview on the six bases, how we transform the statevector to emulate measurement on the correspoding basis and the probabilities associated with Alice and Bob winning the island. Note that the math has been done for a single qubit.\n",
        "\n",
        "$$\\begin{matrix} \\text{Basis} & \\text{Statevector}  & P_{Alice} & P_{Bob} \\\\ \n",
        "Z & |\\psi\\rangle = \\alpha|0\\rangle + \\beta|1\\rangle & |\\alpha|^2 & |\\beta|^2 \\\\\n",
        "\\overline{Z} & X|\\psi\\rangle = \\beta|0\\rangle + \\alpha|1\\rangle & |\\beta|^2 & |\\alpha|^2 \\\\\n",
        "X & T_x^\\dagger|\\psi\\rangle = \\frac{\\alpha + \\beta}{\\sqrt{2}}|0\\rangle + \\frac{\\alpha - \\beta}{\\sqrt{2}}|1\\rangle &  \\frac{|\\alpha + \\beta|^2}{2} & \\frac{|\\alpha - \\beta|^2}{2} \\\\\n",
        "\\overline{X} & XT_x^\\dagger|\\psi\\rangle = \\frac{\\alpha - \\beta}{\\sqrt{2}}|0\\rangle + \\frac{\\alpha + \\beta}{\\sqrt{2}}|1\\rangle &  \\frac{|\\alpha - \\beta|^2}{2} & \\frac{|\\alpha + \\beta|^2}{2} \\\\\n",
        "Y & T_y^\\dagger|\\psi\\rangle = \\frac{\\alpha + i \\beta}{\\sqrt{2}}|0\\rangle + \\frac{\\alpha - i\\beta}{\\sqrt{2}}|1\\rangle &  \\frac{|\\alpha + i \\beta|^2}{2} & \\frac{|\\alpha - i \\beta|^2}{2} \\\\\n",
        "\\overline{Y} & XT_y^\\dagger|\\psi\\rangle = \\frac{\\alpha - i\\beta}{\\sqrt{2}}|0\\rangle + \\frac{\\alpha + i\\beta}{\\sqrt{2}}|1\\rangle &  \\frac{|\\alpha - i \\beta|^2}{2} & \\frac{|\\alpha + i \\beta|^2}{2} \\\\\n",
        "\\end{matrix}$$\n",
        "\n",
        "\n",
        "$T_x^\\dagger$ and $T_y^\\dagger$ are the transformation operators, which form the operational part of this section. They are the complex conjugate of $T_x$ and $T_y$ matrices, constructed from the eigenvectors of $X$ and $Y$ as follows:\n",
        "\n",
        "$$T_x = \\frac{1}{\\sqrt{2}}\\begin{bmatrix} 1 & 1\\\\ 1 & -1\\end{bmatrix} \\hspace{5pt} T_y = \\frac{1}{\\sqrt{2}}\\begin{bmatrix} 1 & 1\\\\ i & -i\\end{bmatrix}$$\n",
        "\n",
        "We see that $T_x = T_x^\\dagger$ is the same as Hadamard gate $H$, an important single qubit gate which is available in Qiskit by default. For constructing $T_y^\\dagger$ we make use of the $U_3(\\theta,\\phi,\\lambda)$ gate available in Qiskit, which is given by\n",
        "\n",
        "$$U_3(\\theta,\\phi,\\lambda) = \\begin{bmatrix} \\cos(\\frac{\\theta}{2}) & -e^{i\\lambda}\\sin(\\frac{\\theta}{2})\\\\ e^{i\\phi}\\sin(\\frac{\\theta}{2}) & e^{i(\\lambda+\\phi)}\\cos(\\frac{\\theta}{2})\\end{bmatrix}$$\n",
        "\n",
        "On setting $(\\theta = -\\frac{\\pi}{2} ,\\phi = -\\pi,\\lambda = -\\frac{\\pi}{2})$, we obtain \n",
        "$$U_3(-\\frac{\\pi}{2},-\\pi,-\\frac{\\pi}{2}) = \\frac{1}{\\sqrt{2}}\\begin{bmatrix} 1 & -i\\\\ 1 & i\\end{bmatrix} = T_y^\\dagger$$\n",
        "\n",
        "Using $T_x^\\dagger$ or $T_y^\\dagger$, we transform $|\\psi\\rangle$ to obtain the result of measuring it in $X$ or $Y$ basis. To simulate measurement in $\\overline{X}$ or $\\overline{Y}$ basis, we further pass the transformed state through an $X$ gate. \n",
        "\n",
        "This is how we perform the change of basis transformation in BlocQto. Once you crack the island - basis mapping, you have essentially won, as now you know how to position your troops on each basis.\n",
        "\n",
        "### Incorporating Entanglement\n",
        "\n",
        "By adding entanglement, we introduce another layer of intricacy to the game without making it too complicated. At the beginning of each round, both Alice and Bob pick an island (qubit) each as their control qubit, say $c_A$ and $c_B$ and is made public. $c_A$ must be different from $c_B$, and Alice and Bob will alternate to pick control qubits first. The game then randomly chooses 2 out of the remaining 4 islands as target qubits, say $t_A$ and $t_B$. The identity of the target qubits are not disclosed.\n",
        "\n",
        "For the first five rounds, players cannot pick an island as control qubit if they have already picked it in a previous round. In the sixth and final round, players have no such restriction based on their history. The only restriction, like in every other round, is that both Alice and Bob cannot pick the same island as control.\n",
        "\n",
        "The aim of this process is to entangle the results of target islands and control islands. If Alice were to win in $c_A$ (or $c_B$), then Alice would also win in $t_A$ (or $t_B$) regardless of how well Bob had 'positioned' his troops on the island $t_B$. \n",
        "\n",
        "To achieve this, we do not perform the above two steps on the target qubits. i.e., we neither perform the rotation for state preparation nor perform the change of basis transformation. We only implement $CNOT$ gates between $c_A$  & $t_A$ and $c_B$ & $t_B$ seperately with $c_A,c_B$ being control qubits and $t_A,t_B$ being target qubits. This can be mathematically shown as (for 2 qubits):\n",
        "$$\\begin{matrix}\n",
        "|0\\rangle_\\text{con}|0\\rangle_\\text{tar}  & \\xrightarrow{R(\\theta,\\phi)\\otimes \\mathbb{I}} & |\\psi\\rangle_\\text{con}|0\\rangle_\\text{tar} = (\\alpha|0\\rangle_\\text{con}+ \\beta|1\\rangle_\\text{con})|0\\rangle_\\text{tar} \\\\ \n",
        "|\\psi\\rangle_\\text{con}|0\\rangle_\\text{tar} & \\xrightarrow{T^\\dagger\\otimes \\mathbb{I}} & |\\phi\\rangle_\\text{con}|0\\rangle_\\text{tar} = (\\alpha'|0\\rangle_\\text{con}+ \\beta'|1\\rangle_\\text{con})|0\\rangle_\\text{tar} \\\\\n",
        "(\\alpha'|0\\rangle_\\text{con}+ \\beta'|1\\rangle_\\text{con})|0\\rangle_\\text{tar} \n",
        "& \\xrightarrow{CNOT} & \\alpha'|0\\rangle_\\text{con}|0\\rangle_\\text{tar} + \\beta'|1\\rangle_\\text{con}|1\\rangle_\\text{tar}\n",
        "\\end{matrix}$$\n",
        "\n",
        "We see that on measuring the final state, both control and target qubit will collapse into the same state, as dictated by the amplitudes of the control qubit.\n",
        " \n",
        "### Measurement\n",
        "The last step of a round, is also perhaps the simplest. We measure each of the qubit in computational basis ($z$ eigenbasis) and display the results. Players are now expected to deduce the basis by looking at one's own & opponent's configurations and measurement results. \n",
        "\n",
        "---\n"
      ]
    },
    {
      "cell_type": "markdown",
      "metadata": {
        "id": "BxqHCrYaTiua",
        "colab_type": "text"
      },
      "source": [
        "Let us now take a look at how we constuct the game using Qiskit.\n",
        "\n",
        "We first construct the quantum register (which is a collection of qubits) and the classical register (which is a collection of bits). We store the measurement results of the quantum register in the classical register. We then construct the quantum circuit, which is simply the two registers put together."
      ]
    },
    {
      "cell_type": "code",
      "metadata": {
        "id": "EyW5PqLlrSQU",
        "colab_type": "code",
        "colab": {}
      },
      "source": [
        "qr = QuantumRegister(6)\n",
        "cr = ClassicalRegister(6)\n",
        "qc = QuantumCircuit(qr, cr)"
      ],
      "execution_count": 0,
      "outputs": []
    },
    {
      "cell_type": "markdown",
      "metadata": {
        "id": "vDG1Y4J_UCO9",
        "colab_type": "text"
      },
      "source": [
        "Here we write a function that lets us add a single qubit gate to circuit. In this function, we have five gates, which correspond to the five different change of basis transformations mentioned in the above section, the sixth one being the $Z$ eigenbasis, which the default basis in which measurements are made. "
      ]
    },
    {
      "cell_type": "code",
      "metadata": {
        "id": "UNygyyxArSQX",
        "colab_type": "code",
        "colab": {}
      },
      "source": [
        "\n",
        "\"\"\"Used in constructing the required state, this function adds a particular gate \n",
        "labelled by 'par' to the qubit labelled by 'qubit'\"\"\"\n",
        "def add_gate(par, qubit, qc, qr, cr):\n",
        "    \n",
        "    if par == \"Z'\": #Zbar basis\n",
        "        qc.x(qubit)\n",
        "    if par == 'X':  #X basis\n",
        "        qc.h(qubit)\n",
        "    if par == \"X'\": #Xbar basis\n",
        "        qc.h(qubit)\n",
        "        qc.x(qubit)\n",
        "    if par == 'Y': #Y basis\n",
        "        qc.u3(-math.pi/2, -math.pi, -math.pi/2, qubit)\n",
        "    if par == \"Y'\":  #Ybar basis\n",
        "        qc.u3(-math.pi/2, -math.pi, -math.pi/2, qubit)\n",
        "        qc.x(qubit)\n",
        "    return qc, qr, cr"
      ],
      "execution_count": 0,
      "outputs": []
    },
    {
      "cell_type": "markdown",
      "metadata": {
        "colab_type": "text",
        "id": "WM84pgN3Lk9v"
      },
      "source": [
        "The ``` engine() ``` function takes in a pair of configurations, the basis mappings (which are randomly mapped) and target and control qubits for entanglement, and returns the results of the round.\n",
        "\n"
      ]
    },
    {
      "cell_type": "code",
      "metadata": {
        "id": "HtkTw3OYrSQa",
        "colab_type": "code",
        "colab": {}
      },
      "source": [
        "# pA: Alice's configuration\n",
        "# pB: Bob's configuration\n",
        "# basis_list: island basis mapping as a list of basis using add_gate function\n",
        "# entan_controls: of the form  [Island selected for entanglement by Alice, Island selected for entanglement by Bob]\n",
        "# entan_targets: entan_targets is of the form: [Island to be entangled with entan_controls[0], Island to be entangled with entan_controls[1]]\n",
        "\n",
        "def engine(pA, pB, basis_list, entan_controls, entan_targets, qc, qr, cr):\n",
        "\n",
        "\n",
        "### Calculating thetas and phis from given configurations\n",
        "    thetas = [] # thetas to be rotated in the bloch sphere\n",
        "    phis = [] # phis to be rotated in the bloch sphere\n",
        "    states = [] # each state vector\n",
        "    for i in range(6):\n",
        "        states.append([pA[i]/(((np.absolute(pA[i]) ** 2) + (np.absolute(pB[i]) ** 2)) ** 0.5), \n",
        "                       pB[i]/(((np.absolute(pA[i]) ** 2) + (np.absolute(pB[i]) ** 2)) ** 0.5)])\n",
        "    for i in range(6):\n",
        "        phis.append(math.asin(np.imag(states[i][1])/np.absolute(states[i][1])) - \\\n",
        "                    math.asin(np.imag(states[i][0])/np.absolute(states[i][0])))\n",
        "        \n",
        "        thetas.append(2 * math.atan(states[i][1]/(states[i][0] * (math.cos(phis[i]) + (math.sin(phis[i]) * 1j)))))\n",
        "\n",
        "### Preparing Statevector for all qubits except target qubits\n",
        "    for i in range (6):\n",
        "        if i in entan_targets:\n",
        "            continue\n",
        "        qc.ry(thetas[i],i)\n",
        "        qc.rz(phis[i],i)\n",
        "    \n",
        "    backend_sv_sim = qiskit.BasicAer.get_backend('statevector_simulator') #Extracting information to plot Bloch Sphere\n",
        "    bloch_data = qiskit.execute(qc, backend_sv_sim).result()\n",
        "\n",
        "### Change of basis transformation for all qubits except target qubits\n",
        "    for i in range(6):\n",
        "        if i in entan_targets:\n",
        "            continue\n",
        "        else:    \n",
        "            qc, qr, cr = add_gate(basis_list[i], i, qc, qr, cr)\n",
        "\n",
        "### Applying CNOT for entangling\n",
        "    qc.cx(entan_controls[0], entan_targets[0])\n",
        "    qc.cx(entan_controls[1], entan_targets[1])\n",
        "    \n",
        "### Measurement    \n",
        "    qc.measure(qr, cr)\n",
        "    backend = Aer.get_backend('qasm_simulator')\n",
        "    \n",
        "    job_sim = execute(qc, backend, shots = 10000)\n",
        "    sim_result = job_sim.result()\n",
        "    counts = sim_result.get_counts(qc)\n",
        "\n",
        "### Information processing\n",
        "    sorted_list = sorted(counts.items(), key=operator.itemgetter(1))\n",
        "    ans = sorted_list[-1][0][::-1]\n",
        "    res_dict = {}\n",
        "    for i in range(6):\n",
        "        res_dict[i] = ans[i]\n",
        "    for key in res_dict:\n",
        "        print(key, \" :: \" , res_dict[key])\n",
        "    final_results = list(res_dict.values())\n",
        "    return(ans, counts, bloch_data, final_results)"
      ],
      "execution_count": 0,
      "outputs": []
    },
    {
      "cell_type": "markdown",
      "metadata": {
        "id": "zz8DK-NvL0tn",
        "colab_type": "text"
      },
      "source": [
        "Let us run a single trial round of the game. The results of each island are displayed as the result of the cell. "
      ]
    },
    {
      "cell_type": "code",
      "metadata": {
        "id": "V3CoQnTDrSQf",
        "colab_type": "code",
        "outputId": "a1a87bcb-90e4-4adb-a89b-160dd3355a3a",
        "colab": {
          "base_uri": "https://localhost:8080/",
          "height": 158
        }
      },
      "source": [
        "alice_config = [20, -1, 1, 30, -4j, 4]\n",
        "bob_config = [-15, 5, -10, 10, 10, -10]\n",
        "basis_list = ['Z', \"Z'\", 'X', \"X'\", 'Y', \"Y'\"] #Island-Basis mapping\n",
        "control_qubits = [1,3] #of the form [Alice's control qubit, Bob's control qubit]\n",
        "target_qubits = [2, 5] #of the form [Alice's target qubit, Bob's target qubit]\n",
        "\n",
        "ans, cts, bloch, final_results = engine(alice_config, bob_config, basis_list, control_qubits, target_qubits, qc, qr, cr)"
      ],
      "execution_count": 37,
      "outputs": [
        {
          "output_type": "stream",
          "text": [
            "/usr/local/lib/python3.6/dist-packages/ipykernel_launcher.py:15: ComplexWarning: Casting complex values to real discards the imaginary part\n",
            "  from ipykernel import kernelapp as app\n"
          ],
          "name": "stderr"
        },
        {
          "output_type": "stream",
          "text": [
            "0  ::  0\n",
            "1  ::  0\n",
            "2  ::  0\n",
            "3  ::  1\n",
            "4  ::  0\n",
            "5  ::  1\n"
          ],
          "name": "stdout"
        }
      ]
    },
    {
      "cell_type": "markdown",
      "metadata": {
        "id": "11zOZ2eFM9Dj",
        "colab_type": "text"
      },
      "source": [
        "In the above results, we see that qubit 2 has the same result as of qubit 1 and qubit 5 has the same result as that of qubit 3. Entanglement in action!\n",
        "\n",
        "Qiskit allows us to look at the measurement statistics as a histogram. Note that although there should be $2^6 = 64$ states since are six qubits, we only see $2^4 = 16$ states in the histogram. This is because certain states have zero probability of occuring, thanks to the entanglement we performed. "
      ]
    },
    {
      "cell_type": "code",
      "metadata": {
        "id": "8C8n-MFirSQj",
        "colab_type": "code",
        "outputId": "74015280-6d68-4ab3-c1ba-baee4a83dd43",
        "colab": {
          "base_uri": "https://localhost:8080/",
          "height": 744
        }
      },
      "source": [
        "plot_histogram(cts, figsize = (15,12))"
      ],
      "execution_count": 38,
      "outputs": [
        {
          "output_type": "execute_result",
          "data": {
            "image/png": "[encoded data removed]",
            "text/plain": [
              "<Figure size 1080x864 with 1 Axes>"
            ]
          },
          "metadata": {
            "tags": []
          },
          "execution_count": 38
        }
      ]
    },
    {
      "cell_type": "markdown",
      "metadata": {
        "id": "8KZam6vHNrXk",
        "colab_type": "text"
      },
      "source": [
        "We can also take a look at the quantum circuit constructed to perform this round. We see quantum state preparation, followed by change of basis transformation. We see $q_2$ and $q_5$ don't undergo these transformations, as they are target qubits. We also see the two CNOT operations which produce the entanglement, and finally measurements."
      ]
    },
    {
      "cell_type": "code",
      "metadata": {
        "id": "3n5xXU_CrSQm",
        "colab_type": "code",
        "outputId": "cce76dd4-e28a-4cf7-84aa-ad3a507ec0bd",
        "colab": {
          "base_uri": "https://localhost:8080/",
          "height": 511
        }
      },
      "source": [
        "qc.draw(output = \"mpl\", scale = 1, interactive=True)"
      ],
      "execution_count": 39,
      "outputs": [
        {
          "output_type": "execute_result",
          "data": {
            "image/png": "[encoded data removed]",
            "text/plain": [
              "<Figure size 1185.08x636.4 with 1 Axes>"
            ]
          },
          "metadata": {
            "tags": []
          },
          "execution_count": 39
        }
      ]
    },
    {
      "cell_type": "markdown",
      "metadata": {
        "id": "_9Vt4EbIOX-T",
        "colab_type": "text"
      },
      "source": [
        "Qiskit also allows us to take a look at the Bloch sphere diagrams of the individual qubits. Here we show the Bloch sphere representation of the qubits right after state vector preparation and before the change of basis transformation. We see that qubits $q_2$ and $q_5$ are at $|0\\rangle$ state, which is because the didn't go through any transformation as they target qubits for entanglement."
      ]
    },
    {
      "cell_type": "code",
      "metadata": {
        "id": "TxP4j9Q0rSQp",
        "colab_type": "code",
        "outputId": "8e1e7328-cb51-4b86-a9fa-3ddd93b001cf",
        "colab": {
          "base_uri": "https://localhost:8080/",
          "height": 195
        }
      },
      "source": [
        "qiskit.visualization.plot_bloch_multivector(bloch.get_statevector())"
      ],
      "execution_count": 40,
      "outputs": [
        {
          "output_type": "execute_result",
          "data": {
            "image/png": "[encoded data removed]",
            "text/plain": [
              "<Figure size 1152x192 with 6 Axes>"
            ]
          },
          "metadata": {
            "tags": []
          },
          "execution_count": 40
        }
      ]
    },
    {
      "cell_type": "markdown",
      "metadata": {
        "id": "m-QhiXVT1mbZ",
        "colab_type": "text"
      },
      "source": [
        "## BlocQto - The Game\n"
      ]
    },
    {
      "cell_type": "markdown",
      "metadata": {
        "id": "Xme3DibKBpo9",
        "colab_type": "text"
      },
      "source": [
        "### Initialization\n",
        "These cells contain the necessary code to set up the game. Most of the code here are for quality of life improvements and do not contain much concepts or physics. Before each new game, we generate a new value for ```island_seed``` in the below cell. This seed determines the island-basis mapping. \n",
        "\n"
      ]
    },
    {
      "cell_type": "code",
      "metadata": {
        "id": "AarKSym-TYtZ",
        "colab_type": "code",
        "colab": {}
      },
      "source": [
        "island_seed = random.randint(1,100)"
      ],
      "execution_count": 0,
      "outputs": []
    },
    {
      "cell_type": "markdown",
      "metadata": {
        "id": "2nGGWGtCTeqc",
        "colab_type": "text"
      },
      "source": [
        "We recommend you keep the below cells unchanged."
      ]
    },
    {
      "cell_type": "code",
      "metadata": {
        "id": "I90GQI7UBV6A",
        "colab_type": "code",
        "colab": {}
      },
      "source": [
        "# Initialize the scoreboard\n",
        "tab = pd.DataFrame(columns = [\"Alice's Guess\", \"Bob's Guess\",'Result','Control Islands', \n",
        "                              \"Alice's Row\", \"Bob's Row\",\"Alice's Score\", \"Bob's Score\", \n",
        "                              \"Alice's Total Score\", \"Bob's Total Score\"])\n",
        "# Initialize the island basis map\n",
        "basis_list = ['Z', \"Z'\", 'X', \"X'\", 'Y', \"Y'\"]\n",
        "scoreA = 0\n",
        "scoreB = 0\n",
        "sA = 0\n",
        "sB = 0\n",
        "\n",
        "def play_round(rowA, rowB, entanA, entanB, playlist, basis_list, scoreA, scoreB, qr, cr, qc):    \n",
        "\n",
        "    # Fix a value for random seed. That would define the island basis mapping\n",
        "    random.seed(island_seed)\n",
        "    perm = permutations(basis_list) \n",
        "    perm = list(perm)\n",
        "    basis = list(random.choice(perm))\n",
        "    random.seed()\n",
        "    # EntanList is of the form: [Island selected for entanglement by playerA, Island selected for entanglement by playerB]\n",
        "    entan_controls = [entanA,entanB]\n",
        "    # Random islands are selected here as target for entanglement\n",
        "    rA = random.choice(list(range(6)))\n",
        "    rB = random.choice(list(range(6)))\n",
        "    while(rA == rB or rA in entan_controls or rB in entan_controls):\n",
        "        rA = random.choice(list(range(6)))\n",
        "        rB = random.choice(list(range(6)))\n",
        "    ans, result, bloch, final_res = engine(playlist['Alice'][rowA], playlist['Bob'][rowB], basis, entan_controls, [rA,rB], qc, qr, cr)\n",
        "    # Updating cumulative scores\n",
        "    scoreA += list(ans).count('0')\n",
        "    scoreB += list(ans).count('1')\n",
        "    # Updating current scores\n",
        "    curr_scoreA = list(ans).count('0')\n",
        "    curr_scoreB = list(ans).count('1')\n",
        "\n",
        "    \n",
        "    return(scoreA, scoreB, rowA, rowB, entanA, entanB, curr_scoreA, curr_scoreB, bloch, final_res)"
      ],
      "execution_count": 0,
      "outputs": []
    },
    {
      "cell_type": "code",
      "metadata": {
        "id": "2bl5-qSFBjEI",
        "colab_type": "code",
        "colab": {}
      },
      "source": [
        "\"\"\"\n",
        "config_Alice: Configuration of Alice from the playlist table\n",
        "config_Bob: Configuration of Bob from the playlist table\n",
        "entan_Alice: Island of entanglement for Alice\n",
        "entan_Bob: Island of entanglement for Bob\n",
        "\"\"\"\n",
        "\n",
        "def play_game(tab, playlist, basis_list, sA, sB, first_turn = 0, alice_entan_choices = [], bob_entan_choices = []):\n",
        "    # lists to store already selected choices\n",
        "    alice_row_choices = []\n",
        "    bob_row_choices = []\n",
        "\n",
        "    finish = 0\n",
        "    if len(alice_entan_choices) < 3:\n",
        "\n",
        "        while 1==1 :\n",
        "            first_turn = input('\\n Who wants to go first? \\n\\n Press 0 for Alice \\n\\n Press 1 for Bob\\n')\n",
        "            print('Enter \"exit\" to exit')\n",
        "            if first_turn == 'exit':\n",
        "                return\n",
        "            else:\n",
        "                first_turn = int(first_turn)\n",
        "                break\n",
        "    if len(alice_entan_choices) >= 3:\n",
        "        first_turn = (first_turn + 1)%2\n",
        "        display(tab)\n",
        "    \n",
        "    for i in range(3):\n",
        "        if (i + first_turn)%2 == 0: \n",
        "            if len(alice_entan_choices) >= 3:\n",
        "                print('\\nRound {}\\n'.format(i+4))\n",
        "            else:\n",
        "                print('\\nRound {}\\n'.format(i+1))\n",
        "            print('Enter \"exit\" to exit')\n",
        "            print('Note that configurations or row numbers should be chosesn from {0,1,2,3} and entanglement choice should be chosen from {0,1,2,3,4,5}')\n",
        "            while 1 == 1:\n",
        "                config_Alice = getpass.getpass(prompt = \"Enter configuration row number for Alice: \")\n",
        "                if config_Alice == 'exit':\n",
        "                    print('exit command received')\n",
        "                    return\n",
        "                else:\n",
        "                    config_Alice = int(config_Alice)\n",
        "                    if config_Alice in alice_row_choices:\n",
        "                        print ('Configuration already chosen. Please enter again')\n",
        "                    else:\n",
        "                        if config_Alice not in {0,1,2,3}:\n",
        "                            print('Invalid choice. Please enter again')\n",
        "                        else:\n",
        "                            alice_row_choices.append(config_Alice)\n",
        "                            break\n",
        "            while 1 == 1:\n",
        "                config_Bob = getpass.getpass(prompt = \"Enter configuration row number for Bob: \")\n",
        "                if config_Bob == 'exit':\n",
        "                    print('exit command received')\n",
        "                    return\n",
        "                else:\n",
        "                    config_Bob = int(config_Bob)\n",
        "                    if config_Bob in bob_row_choices:\n",
        "                        print ('Configuration already chosen. Please enter again')\n",
        "                    else:\n",
        "                        if config_Bob not in {0,1,2,3}:\n",
        "                            print('Invalid choice. Please enter again')\n",
        "                        else:\n",
        "                            bob_row_choices.append(config_Bob)\n",
        "                            break\n",
        "            while 1 == 1:\n",
        "                if tab.shape[0] < 5:\n",
        "                    entan_Alice = input(\"Choose island for entanglement for Alice: \")\n",
        "                    if entan_Alice == 'exit':\n",
        "                        print('exit command received')\n",
        "                        return\n",
        "                    else:\n",
        "                        entan_Alice = int(entan_Alice)\n",
        "                        if entan_Alice in alice_entan_choices:\n",
        "                            print ('Island already chosen for entanglement. Please enter again')\n",
        "                        else:\n",
        "                            if entan_Alice not in {0,1,2,3,4,5}:\n",
        "                                print('Invalid choice. Please enter again')\n",
        "                            else:\n",
        "                                alice_entan_choices.append(entan_Alice)\n",
        "                                break\n",
        "                else:\n",
        "                    entan_Alice = input(\"Choose final island for entanglement for Alice: \")\n",
        "                    if entan_Alice == 'exit':\n",
        "                        print('exit command received')\n",
        "                        return\n",
        "                    else:\n",
        "                        entan_Alice = int(entan_Alice)\n",
        "                        if entan_Alice not in {0,1,2,3,4,5}:\n",
        "                            print('Invalid choice. Please enter again')\n",
        "                        else:\n",
        "                            alice_entan_choices.append(entan_Alice)\n",
        "                            break\n",
        "            while 1 == 1:\n",
        "                if tab.shape[0] < 5:\n",
        "                    entan_Bob = input(\"Choose island for entanglement for Bob: \")\n",
        "                    if entan_Bob == 'exit':\n",
        "                        print('exit command received')\n",
        "                        return\n",
        "                    else:\n",
        "                        entan_Bob = int(entan_Bob)\n",
        "                        if entan_Bob in bob_entan_choices:\n",
        "                            print ('Island already chosen for entanglement. Please enter again')\n",
        "                        else:\n",
        "                            if entan_Bob not in {0,1,2,3,4,5}:\n",
        "                                print('Invalid choice. Please enter again')\n",
        "                            elif entan_Bob == entan_Alice:\n",
        "                                print('Island already chosen by Alice. Please choose another island')\n",
        "                            else:\n",
        "                                bob_entan_choices.append(entan_Bob)\n",
        "                                break\n",
        "                else:\n",
        "                    entan_Bob = input(\"Choose final island for entanglement for Bob: \")\n",
        "                    if entan_Bob == 'exit':\n",
        "                        print('exit command received')\n",
        "                        return\n",
        "                    else:\n",
        "                        entan_Bob = int(entan_Bob)\n",
        "                        if entan_Bob not in {0,1,2,3,4,5}:\n",
        "                            print('Invalid choice. Please enter again')\n",
        "                        elif entan_Bob == entan_Alice:\n",
        "                            print('Island already chosen by Alice. Please choose another island')\n",
        "                        else:\n",
        "                            bob_entan_choices.append(entan_Bob)\n",
        "                            break\n",
        "        else:\n",
        "            if len(alice_entan_choices) >= 3:\n",
        "                print('\\nRound {}\\n'.format(i+4))\n",
        "            else:\n",
        "                print('\\nRound {}\\n'.format(i+1))\n",
        "\n",
        "            print('Note that configurations or row numbers should be chosesn from {0,1,2,3} and entanglement choice should be chosen from {0,1,2,3,4,5}')\n",
        "            while 1 == 1:\n",
        "                config_Bob = getpass.getpass(prompt = \"Enter configuration row number for Bob: \")\n",
        "                if config_Bob == 'exit':\n",
        "                    print('exit command received')\n",
        "                    return\n",
        "                else:\n",
        "                    config_Bob = int(config_Bob)\n",
        "                    if config_Bob in bob_row_choices:\n",
        "                        print ('Configuration already chosen. Please enter again')\n",
        "                    else:\n",
        "                        if config_Bob not in {0,1,2,3}:\n",
        "                            print('Invalid choice. Please enter again')\n",
        "                        else:\n",
        "                            bob_row_choices.append(config_Bob)\n",
        "                            break\n",
        "            while 1 == 1:\n",
        "                config_Alice = getpass.getpass(prompt = \"Enter configuration row number for Alice: \")\n",
        "                if config_Alice == 'exit':\n",
        "                    print('exit command received')\n",
        "                    return\n",
        "                else:\n",
        "                    config_Alice = int(config_Alice)\n",
        "                    if config_Alice in alice_row_choices:\n",
        "                        print ('Configuration already chosen. Please enter again')\n",
        "                    else:\n",
        "                        if config_Alice not in {0,1,2,3}:\n",
        "                            print('Invalid choice. Please enter again')\n",
        "                        else:\n",
        "                            alice_row_choices.append(config_Alice)\n",
        "                            break\n",
        "            while 1 == 1:\n",
        "                if tab.shape[0] < 5:\n",
        "                    entan_Bob = input(\"Choose island for entanglement for Bob: \")\n",
        "                    if entan_Bob == 'exit':\n",
        "                        print('exit command received')\n",
        "                        return\n",
        "                    else:\n",
        "                        entan_Bob = int(entan_Bob)\n",
        "                        if entan_Bob in bob_entan_choices:\n",
        "                            print ('Island already chosen for entanglement. Please enter again')\n",
        "                        else:\n",
        "                            if entan_Bob not in {0,1,2,3,4,5}:\n",
        "                                print('Invalid choice. Please enter again')\n",
        "                            else:\n",
        "                                bob_entan_choices.append(entan_Bob)\n",
        "                                break\n",
        "                else:\n",
        "                    entan_Bob = input(\"Choose final island for entanglement for Bob: \")\n",
        "                    if entan_Bob == 'exit':\n",
        "                        print('exit command received')\n",
        "                        return\n",
        "                    else:\n",
        "                        entan_Bob = int(entan_Bob)\n",
        "                        if entan_Bob not in {0,1,2,3,4,5}:\n",
        "                            print('Invalid choice. Please enter again')\n",
        "                        else:\n",
        "                            bob_entan_choices.append(entan_Bob)\n",
        "                            break\n",
        "            while 1 == 1:\n",
        "                if tab.shape[0] < 5:\n",
        "                    entan_Alice = input(\"Choose island for entanglement for Alice: \")\n",
        "                    if entan_Alice == 'exit':\n",
        "                        print('exit command received')\n",
        "                        return\n",
        "                    else:\n",
        "                        entan_Alice = int(entan_Alice)\n",
        "                        if entan_Alice in alice_entan_choices:\n",
        "                            print ('Island already chosen for entanglement. Please enter again')\n",
        "                        else:\n",
        "                            if entan_Alice not in {0,1,2,3,4,5}:\n",
        "                                print('Invalid choice. Please enter again')\n",
        "                            elif entan_Alice == entan_Bob:\n",
        "                                print('Island already chosen by Bob. Please choose another island')\n",
        "                            else:\n",
        "                                alice_entan_choices.append(entan_Alice)\n",
        "                                break\n",
        "                else:\n",
        "                    entan_Alice = input(\"Choose final island for entanglement for Alice: \")\n",
        "                    if entan_Alice == 'exit':\n",
        "                        print('exit command received')\n",
        "                        return\n",
        "                    else:\n",
        "                        entan_Alice = int(entan_Alice)\n",
        "                        if entan_Alice not in {0,1,2,3,4,5}:\n",
        "                            print('Invalid choice. Please enter again')\n",
        "                        elif entan_Alice == entan_Bob:\n",
        "                            print('Island already chosen by Bob. Please choose another island')\n",
        "                        else:\n",
        "                            alice_entan_choices.append(entan_Alice)\n",
        "                            break\n",
        "\n",
        "        qr = QuantumRegister(6)\n",
        "        cr = ClassicalRegister(6)\n",
        "        qc = QuantumCircuit(qr, cr)\n",
        "        # execute one round\n",
        "        sA, sB, rowA, rowB, entanA, entanB, curr_scoreA, curr_scoreB, bloch, final_res = play_round(config_Alice, config_Bob, entan_Alice, entan_Bob, playlist, basis_list, sA, sB, qr, cr, qc)\n",
        "        # Update the scoreboard\n",
        "        print(\"\\n Note that the 'Control Islands' values should be read as [Alice's Island, Bob's Island]\")\n",
        "        tab = tab.append(pd.DataFrame([[playlist['Alice'][rowA], playlist['Bob'][rowB], final_res, [entanA,entanB], rowA, rowB, curr_scoreA, curr_scoreB, sA, sB]], \n",
        "                                      columns = [\"Alice's Guess\", \"Bob's Guess\",'Result', 'Control Islands', \n",
        "                                                 \"Alice's Row\", \"Bob's Row\", \"Alice's Score\", \"Bob's Score\",\"Alice's Total Score\",\n",
        "                                                \"Bob's Total Score\"]), \n",
        "                         ignore_index = True)\n",
        "        print('\\nScoreboard')\n",
        "        display(tab)\n",
        "        if tab.shape[0] == 3 or tab.shape[0] == 6:\n",
        "            print('\\nDiscarded configuration for Alice\\n')\n",
        "        else:\n",
        "            print('\\nAvailable configurations for Alice\\n')\n",
        "        display(pd.DataFrame(playlist.iloc[[x for x in list(range(4)) if x not in alice_row_choices],0]))\n",
        "        if tab.shape[0] < 5:\n",
        "            print('\\nRemaining entanglement options for Alice: {}'.format([x for x in list(range(6)) if x not in alice_entan_choices]))\n",
        "        if tab.shape[0] == 3 or tab.shape[0] == 6:\n",
        "            print('\\nDiscarded configuration for Bob\\n')\n",
        "        else:\n",
        "            print('\\nAvailable configurations for Bob\\n')\n",
        "        display(pd.DataFrame(playlist.iloc[[x for x in list(range(4)) if x not in bob_row_choices],1]))\n",
        "        if tab.shape[0] < 5:\n",
        "            print('\\nRemaining entanglement options for Bob: {}'.format([x for x in list(range(6)) if x not in bob_entan_choices]))\n",
        "        else:\n",
        "            print('\\nLast round. You are now free to choose any island for entanglement\\n')\n",
        "        \n",
        "        finish += 1\n",
        "    if finish == 3:\n",
        "        if tab.shape[0] == 6:\n",
        "            random.seed(10)\n",
        "            perm = permutations(basis_list) \n",
        "            perm = list(perm)\n",
        "            basis = list(random.choice(perm))\n",
        "            print('Island basis mapping for the game: {}'.format(basis))\n",
        "            if tab[\"Alice's Total Score\"].values[-1] > tab[\"Bob's Total Score\"].values[-1]:\n",
        "                print(\"\\n Alice wins\")\n",
        "            elif tab[\"Alice's Total Score\"].values[-1] < tab[\"Bob's Total Score\"].values[-1]:\n",
        "                print(\"\\n Bob wins\")\n",
        "            else:\n",
        "                print(\"\\n The match has ended as a draw\")\n",
        "        else:\n",
        "            print(\"\\n Half Time\")\n",
        "    return tab, sA, sB, first_turn, alice_entan_choices, bob_entan_choices"
      ],
      "execution_count": 0,
      "outputs": []
    },
    {
      "cell_type": "code",
      "metadata": {
        "id": "ibrYEwkaeVVW",
        "colab_type": "code",
        "colab": {}
      },
      "source": [
        "def validity_check(playlist):\n",
        "    flag1 = 0\n",
        "    l = 0\n",
        "    for x in playlist:\n",
        "        p = 0\n",
        "        for y in x:\n",
        "            if sum([np.abs(k) for k in y]) != 60:\n",
        "                print('Not all combinations are valid')\n",
        "                if p == 0:\n",
        "                    print(\"Check Alice's combination in row index {}. It does not sum to 60\".format(l))\n",
        "                else:\n",
        "                    print(\"Check Bob's combination in row  index {}. It does not sum to 60\".format(l))\n",
        "                flag1 += 1\n",
        "                break\n",
        "            elif len(y) != 6:\n",
        "                print('Not all combinations are valid')\n",
        "                if p == 0:\n",
        "                    print('Invalid length of configuration for Alice in row index {}. The length of the configurations should be exaclty 6'.format(l))\n",
        "                else:\n",
        "                    print('Invalid length of configuration for Bob in row index {}. The length of the configurations should be exaclty 6'.format(l))\n",
        "                flag1 += 1\n",
        "                break\n",
        "            elif 0 in y:\n",
        "                print('Not all combinations are valid')\n",
        "                if p == 0:\n",
        "                    print(\"0 encountered in Alice's configuration in row index {}\".format(l))\n",
        "                else:\n",
        "                    print(\"0 encountered in Bob's configuration in row index {}\".format(l))\n",
        "                flag1 += 1\n",
        "                break\n",
        "            else:\n",
        "                for z in y:\n",
        "                    if np.imag(z) != 0 and np.real(z) != 0:\n",
        "                        print('Not all combinations are valid')\n",
        "                        if p == 0:\n",
        "                            print(\"Invalid value encountered in Alice's configuration in row index {}. The values should be either real or imaginary.\".format(l))\n",
        "                        else:\n",
        "                            print(\"Invalid value encountered in Bob's configuration in row index {}. The values should be either real or imaginary.\".format(l))\n",
        "                        flag1 += 1  \n",
        "                        break\n",
        "                p += 1\n",
        "        if flag1 != 0:\n",
        "            break\n",
        "        else:\n",
        "            l += 1\n",
        "\n",
        "    if flag1 == 0:\n",
        "        print('All configurations are valid')\n",
        "        playlist = pd.DataFrame(playlist, columns = ['Alice', 'Bob'])\n",
        "    return playlist"
      ],
      "execution_count": 0,
      "outputs": []
    },
    {
      "cell_type": "markdown",
      "metadata": {
        "id": "Lp84ZZrhBwcl",
        "colab_type": "text"
      },
      "source": [
        "### Playing BlocQto\n",
        "Note that the target islands for each round are never disclosed, they can only be deduced. So while reading the results, players must factor in the fact that, \n",
        "if an island has the same result as the results of the control islands, then it could (or not) be due to entanglement.\n",
        "#### First Half\n",
        "We're here! Let us begin the game. Enter configurations for the first half. The order being [Alice's configuration, Bob's configuration]. "
      ]
    },
    {
      "cell_type": "code",
      "metadata": {
        "id": "EDkDlHfJBxne",
        "colab_type": "code",
        "colab": {}
      },
      "source": [
        "playlist1 = []\n",
        "playlist1.append([[20, 1, -1, -30, -4, 4], [5, 5, 5, 5, 20, 20]])\n",
        "playlist1.append([[2, -20, -9j, 20, 4, 5], [10, 10, 5, 15, 15j, 5]])\n",
        "playlist1.append([[4, -4, 5, -5, -40, -2], [-15, 5, -10, 10, 10, -10]])\n",
        "playlist1.append([[-2, -20j, 9j, 20, -4, 5], [-10, 10, -5, 15j, 15j, 5]])"
      ],
      "execution_count": 0,
      "outputs": []
    },
    {
      "cell_type": "code",
      "metadata": {
        "id": "9jtUsVcKefQ9",
        "colab_type": "code",
        "outputId": "5649ce07-b73b-4518-ce95-6141579df755",
        "colab": {
          "base_uri": "https://localhost:8080/",
          "height": 34
        }
      },
      "source": [
        "playlist1 = validity_check(playlist1)"
      ],
      "execution_count": 39,
      "outputs": [
        {
          "output_type": "stream",
          "text": [
            "All configurations are valid\n"
          ],
          "name": "stdout"
        }
      ]
    },
    {
      "cell_type": "markdown",
      "metadata": {
        "id": "h5JlczSXB4x9",
        "colab_type": "text"
      },
      "source": [
        "Run the below cell to play the first half."
      ]
    },
    {
      "cell_type": "code",
      "metadata": {
        "id": "64vrtCUvB8qg",
        "colab_type": "code",
        "outputId": "07f41cc9-2807-498d-93db-22a93947e516",
        "colab": {
          "base_uri": "https://localhost:8080/",
          "height": 1000
        }
      },
      "source": [
        "tab, sA, sB, first_turn, alice_entan_choices, bob_entan_choices = play_game(tab, playlist1, basis_list, sA, sB)"
      ],
      "execution_count": 40,
      "outputs": [
        {
          "output_type": "stream",
          "text": [
            "\n",
            " Who wants to go first? \n",
            "\n",
            " Press 0 for Alice \n",
            "\n",
            " Press 1 for Bob\n",
            "0\n",
            "Enter \"exit\" to exit\n",
            "\n",
            "Round 1\n",
            "\n",
            "Enter \"exit\" to exit\n",
            "Note that configurations or row numbers should be chosesn from {0,1,2,3} and entanglement choice should be chosen from {0,1,2,3,4,5}\n",
            "Enter configuration row number for Alice: ··········\n",
            "Enter configuration row number for Bob: ··········\n",
            "Choose island for entanglement for Alice: 2\n",
            "Choose island for entanglement for Bob: 3\n",
            "0  ::  1\n",
            "1  ::  1\n",
            "2  ::  1\n",
            "3  ::  1\n",
            "4  ::  0\n",
            "5  ::  1\n",
            "\n",
            " Note that the 'Control Islands' values should be read as [Alice's Island, Bob's Island]\n",
            "\n",
            "Scoreboard\n"
          ],
          "name": "stdout"
        },
        {
          "output_type": "stream",
          "text": [
            "/usr/local/lib/python3.6/dist-packages/ipykernel_launcher.py:15: ComplexWarning: Casting complex values to real discards the imaginary part\n",
            "  from ipykernel import kernelapp as app\n"
          ],
          "name": "stderr"
        },
        {
          "output_type": "display_data",
          "data": {
            "text/html": [
              "<div>\n",
              "<style scoped>\n",
              "    .dataframe tbody tr th:only-of-type {\n",
              "        vertical-align: middle;\n",
              "    }\n",
              "\n",
              "    .dataframe tbody tr th {\n",
              "        vertical-align: top;\n",
              "    }\n",
              "\n",
              "    .dataframe thead th {\n",
              "        text-align: right;\n",
              "    }\n",
              "</style>\n",
              "<table border=\"1\" class=\"dataframe\">\n",
              "  <thead>\n",
              "    <tr style=\"text-align: right;\">\n",
              "      <th></th>\n",
              "      <th>Alice's Guess</th>\n",
              "      <th>Bob's Guess</th>\n",
              "      <th>Result</th>\n",
              "      <th>Control Islands</th>\n",
              "      <th>Alice's Row</th>\n",
              "      <th>Bob's Row</th>\n",
              "      <th>Alice's Score</th>\n",
              "      <th>Bob's Score</th>\n",
              "      <th>Alice's Total Score</th>\n",
              "      <th>Bob's Total Score</th>\n",
              "    </tr>\n",
              "  </thead>\n",
              "  <tbody>\n",
              "    <tr>\n",
              "      <th>0</th>\n",
              "      <td>[20, 1, -1, -30, -4, 4]</td>\n",
              "      <td>[10, 10, 5, 15, 15j, 5]</td>\n",
              "      <td>[1, 1, 1, 1, 0, 1]</td>\n",
              "      <td>[2, 3]</td>\n",
              "      <td>0</td>\n",
              "      <td>1</td>\n",
              "      <td>1</td>\n",
              "      <td>5</td>\n",
              "      <td>1</td>\n",
              "      <td>5</td>\n",
              "    </tr>\n",
              "  </tbody>\n",
              "</table>\n",
              "</div>"
            ],
            "text/plain": [
              "             Alice's Guess  ... Bob's Total Score\n",
              "0  [20, 1, -1, -30, -4, 4]  ...                 5\n",
              "\n",
              "[1 rows x 10 columns]"
            ]
          },
          "metadata": {
            "tags": []
          }
        },
        {
          "output_type": "stream",
          "text": [
            "\n",
            "Available configurations for Alice\n",
            "\n"
          ],
          "name": "stdout"
        },
        {
          "output_type": "display_data",
          "data": {
            "text/html": [
              "<div>\n",
              "<style scoped>\n",
              "    .dataframe tbody tr th:only-of-type {\n",
              "        vertical-align: middle;\n",
              "    }\n",
              "\n",
              "    .dataframe tbody tr th {\n",
              "        vertical-align: top;\n",
              "    }\n",
              "\n",
              "    .dataframe thead th {\n",
              "        text-align: right;\n",
              "    }\n",
              "</style>\n",
              "<table border=\"1\" class=\"dataframe\">\n",
              "  <thead>\n",
              "    <tr style=\"text-align: right;\">\n",
              "      <th></th>\n",
              "      <th>Alice</th>\n",
              "    </tr>\n",
              "  </thead>\n",
              "  <tbody>\n",
              "    <tr>\n",
              "      <th>1</th>\n",
              "      <td>[2, -20, (-0-9j), 20, 4, 5]</td>\n",
              "    </tr>\n",
              "    <tr>\n",
              "      <th>2</th>\n",
              "      <td>[4, -4, 5, -5, -40, -2]</td>\n",
              "    </tr>\n",
              "    <tr>\n",
              "      <th>3</th>\n",
              "      <td>[-2, (-0-20j), 9j, 20, -4, 5]</td>\n",
              "    </tr>\n",
              "  </tbody>\n",
              "</table>\n",
              "</div>"
            ],
            "text/plain": [
              "                           Alice\n",
              "1    [2, -20, (-0-9j), 20, 4, 5]\n",
              "2        [4, -4, 5, -5, -40, -2]\n",
              "3  [-2, (-0-20j), 9j, 20, -4, 5]"
            ]
          },
          "metadata": {
            "tags": []
          }
        },
        {
          "output_type": "stream",
          "text": [
            "\n",
            "Remaining entanglement options for Alice: [0, 1, 3, 4, 5]\n",
            "\n",
            "Available configurations for Bob\n",
            "\n"
          ],
          "name": "stdout"
        },
        {
          "output_type": "display_data",
          "data": {
            "text/html": [
              "<div>\n",
              "<style scoped>\n",
              "    .dataframe tbody tr th:only-of-type {\n",
              "        vertical-align: middle;\n",
              "    }\n",
              "\n",
              "    .dataframe tbody tr th {\n",
              "        vertical-align: top;\n",
              "    }\n",
              "\n",
              "    .dataframe thead th {\n",
              "        text-align: right;\n",
              "    }\n",
              "</style>\n",
              "<table border=\"1\" class=\"dataframe\">\n",
              "  <thead>\n",
              "    <tr style=\"text-align: right;\">\n",
              "      <th></th>\n",
              "      <th>Bob</th>\n",
              "    </tr>\n",
              "  </thead>\n",
              "  <tbody>\n",
              "    <tr>\n",
              "      <th>0</th>\n",
              "      <td>[5, 5, 5, 5, 20, 20]</td>\n",
              "    </tr>\n",
              "    <tr>\n",
              "      <th>2</th>\n",
              "      <td>[-15, 5, -10, 10, 10, -10]</td>\n",
              "    </tr>\n",
              "    <tr>\n",
              "      <th>3</th>\n",
              "      <td>[-10, 10, -5, 15j, 15j, 5]</td>\n",
              "    </tr>\n",
              "  </tbody>\n",
              "</table>\n",
              "</div>"
            ],
            "text/plain": [
              "                          Bob\n",
              "0        [5, 5, 5, 5, 20, 20]\n",
              "2  [-15, 5, -10, 10, 10, -10]\n",
              "3  [-10, 10, -5, 15j, 15j, 5]"
            ]
          },
          "metadata": {
            "tags": []
          }
        },
        {
          "output_type": "stream",
          "text": [
            "\n",
            "Remaining entanglement options for Bob: [0, 1, 2, 4, 5]\n",
            "\n",
            "Round 2\n",
            "\n",
            "Note that configurations or row numbers should be chosesn from {0,1,2,3} and entanglement choice should be chosen from {0,1,2,3,4,5}\n",
            "Enter configuration row number for Bob: ··········\n",
            "Enter configuration row number for Alice: ··········\n",
            "Choose island for entanglement for Bob: 0\n",
            "Choose island for entanglement for Alice: 1\n",
            "0  ::  1\n",
            "1  ::  0\n",
            "2  ::  0\n",
            "3  ::  1\n",
            "4  ::  0\n",
            "5  ::  1\n",
            "\n",
            " Note that the 'Control Islands' values should be read as [Alice's Island, Bob's Island]\n",
            "\n",
            "Scoreboard\n"
          ],
          "name": "stdout"
        },
        {
          "output_type": "display_data",
          "data": {
            "text/html": [
              "<div>\n",
              "<style scoped>\n",
              "    .dataframe tbody tr th:only-of-type {\n",
              "        vertical-align: middle;\n",
              "    }\n",
              "\n",
              "    .dataframe tbody tr th {\n",
              "        vertical-align: top;\n",
              "    }\n",
              "\n",
              "    .dataframe thead th {\n",
              "        text-align: right;\n",
              "    }\n",
              "</style>\n",
              "<table border=\"1\" class=\"dataframe\">\n",
              "  <thead>\n",
              "    <tr style=\"text-align: right;\">\n",
              "      <th></th>\n",
              "      <th>Alice's Guess</th>\n",
              "      <th>Bob's Guess</th>\n",
              "      <th>Result</th>\n",
              "      <th>Control Islands</th>\n",
              "      <th>Alice's Row</th>\n",
              "      <th>Bob's Row</th>\n",
              "      <th>Alice's Score</th>\n",
              "      <th>Bob's Score</th>\n",
              "      <th>Alice's Total Score</th>\n",
              "      <th>Bob's Total Score</th>\n",
              "    </tr>\n",
              "  </thead>\n",
              "  <tbody>\n",
              "    <tr>\n",
              "      <th>0</th>\n",
              "      <td>[20, 1, -1, -30, -4, 4]</td>\n",
              "      <td>[10, 10, 5, 15, 15j, 5]</td>\n",
              "      <td>[1, 1, 1, 1, 0, 1]</td>\n",
              "      <td>[2, 3]</td>\n",
              "      <td>0</td>\n",
              "      <td>1</td>\n",
              "      <td>1</td>\n",
              "      <td>5</td>\n",
              "      <td>1</td>\n",
              "      <td>5</td>\n",
              "    </tr>\n",
              "    <tr>\n",
              "      <th>1</th>\n",
              "      <td>[2, -20, (-0-9j), 20, 4, 5]</td>\n",
              "      <td>[5, 5, 5, 5, 20, 20]</td>\n",
              "      <td>[1, 0, 0, 1, 0, 1]</td>\n",
              "      <td>[1, 0]</td>\n",
              "      <td>1</td>\n",
              "      <td>0</td>\n",
              "      <td>3</td>\n",
              "      <td>3</td>\n",
              "      <td>4</td>\n",
              "      <td>8</td>\n",
              "    </tr>\n",
              "  </tbody>\n",
              "</table>\n",
              "</div>"
            ],
            "text/plain": [
              "                 Alice's Guess  ... Bob's Total Score\n",
              "0      [20, 1, -1, -30, -4, 4]  ...                 5\n",
              "1  [2, -20, (-0-9j), 20, 4, 5]  ...                 8\n",
              "\n",
              "[2 rows x 10 columns]"
            ]
          },
          "metadata": {
            "tags": []
          }
        },
        {
          "output_type": "stream",
          "text": [
            "\n",
            "Available configurations for Alice\n",
            "\n"
          ],
          "name": "stdout"
        },
        {
          "output_type": "display_data",
          "data": {
            "text/html": [
              "<div>\n",
              "<style scoped>\n",
              "    .dataframe tbody tr th:only-of-type {\n",
              "        vertical-align: middle;\n",
              "    }\n",
              "\n",
              "    .dataframe tbody tr th {\n",
              "        vertical-align: top;\n",
              "    }\n",
              "\n",
              "    .dataframe thead th {\n",
              "        text-align: right;\n",
              "    }\n",
              "</style>\n",
              "<table border=\"1\" class=\"dataframe\">\n",
              "  <thead>\n",
              "    <tr style=\"text-align: right;\">\n",
              "      <th></th>\n",
              "      <th>Alice</th>\n",
              "    </tr>\n",
              "  </thead>\n",
              "  <tbody>\n",
              "    <tr>\n",
              "      <th>2</th>\n",
              "      <td>[4, -4, 5, -5, -40, -2]</td>\n",
              "    </tr>\n",
              "    <tr>\n",
              "      <th>3</th>\n",
              "      <td>[-2, (-0-20j), 9j, 20, -4, 5]</td>\n",
              "    </tr>\n",
              "  </tbody>\n",
              "</table>\n",
              "</div>"
            ],
            "text/plain": [
              "                           Alice\n",
              "2        [4, -4, 5, -5, -40, -2]\n",
              "3  [-2, (-0-20j), 9j, 20, -4, 5]"
            ]
          },
          "metadata": {
            "tags": []
          }
        },
        {
          "output_type": "stream",
          "text": [
            "\n",
            "Remaining entanglement options for Alice: [0, 3, 4, 5]\n",
            "\n",
            "Available configurations for Bob\n",
            "\n"
          ],
          "name": "stdout"
        },
        {
          "output_type": "display_data",
          "data": {
            "text/html": [
              "<div>\n",
              "<style scoped>\n",
              "    .dataframe tbody tr th:only-of-type {\n",
              "        vertical-align: middle;\n",
              "    }\n",
              "\n",
              "    .dataframe tbody tr th {\n",
              "        vertical-align: top;\n",
              "    }\n",
              "\n",
              "    .dataframe thead th {\n",
              "        text-align: right;\n",
              "    }\n",
              "</style>\n",
              "<table border=\"1\" class=\"dataframe\">\n",
              "  <thead>\n",
              "    <tr style=\"text-align: right;\">\n",
              "      <th></th>\n",
              "      <th>Bob</th>\n",
              "    </tr>\n",
              "  </thead>\n",
              "  <tbody>\n",
              "    <tr>\n",
              "      <th>2</th>\n",
              "      <td>[-15, 5, -10, 10, 10, -10]</td>\n",
              "    </tr>\n",
              "    <tr>\n",
              "      <th>3</th>\n",
              "      <td>[-10, 10, -5, 15j, 15j, 5]</td>\n",
              "    </tr>\n",
              "  </tbody>\n",
              "</table>\n",
              "</div>"
            ],
            "text/plain": [
              "                          Bob\n",
              "2  [-15, 5, -10, 10, 10, -10]\n",
              "3  [-10, 10, -5, 15j, 15j, 5]"
            ]
          },
          "metadata": {
            "tags": []
          }
        },
        {
          "output_type": "stream",
          "text": [
            "\n",
            "Remaining entanglement options for Bob: [1, 2, 4, 5]\n",
            "\n",
            "Round 3\n",
            "\n",
            "Enter \"exit\" to exit\n",
            "Note that configurations or row numbers should be chosesn from {0,1,2,3} and entanglement choice should be chosen from {0,1,2,3,4,5}\n",
            "Enter configuration row number for Alice: ··········\n",
            "Enter configuration row number for Bob: ··········\n",
            "Choose island for entanglement for Alice: 3\n",
            "Choose island for entanglement for Bob: 5\n",
            "0  ::  0\n",
            "1  ::  0\n",
            "2  ::  0\n",
            "3  ::  0\n",
            "4  ::  0\n",
            "5  ::  0\n",
            "\n",
            " Note that the 'Control Islands' values should be read as [Alice's Island, Bob's Island]\n",
            "\n",
            "Scoreboard\n"
          ],
          "name": "stdout"
        },
        {
          "output_type": "display_data",
          "data": {
            "text/html": [
              "<div>\n",
              "<style scoped>\n",
              "    .dataframe tbody tr th:only-of-type {\n",
              "        vertical-align: middle;\n",
              "    }\n",
              "\n",
              "    .dataframe tbody tr th {\n",
              "        vertical-align: top;\n",
              "    }\n",
              "\n",
              "    .dataframe thead th {\n",
              "        text-align: right;\n",
              "    }\n",
              "</style>\n",
              "<table border=\"1\" class=\"dataframe\">\n",
              "  <thead>\n",
              "    <tr style=\"text-align: right;\">\n",
              "      <th></th>\n",
              "      <th>Alice's Guess</th>\n",
              "      <th>Bob's Guess</th>\n",
              "      <th>Result</th>\n",
              "      <th>Control Islands</th>\n",
              "      <th>Alice's Row</th>\n",
              "      <th>Bob's Row</th>\n",
              "      <th>Alice's Score</th>\n",
              "      <th>Bob's Score</th>\n",
              "      <th>Alice's Total Score</th>\n",
              "      <th>Bob's Total Score</th>\n",
              "    </tr>\n",
              "  </thead>\n",
              "  <tbody>\n",
              "    <tr>\n",
              "      <th>0</th>\n",
              "      <td>[20, 1, -1, -30, -4, 4]</td>\n",
              "      <td>[10, 10, 5, 15, 15j, 5]</td>\n",
              "      <td>[1, 1, 1, 1, 0, 1]</td>\n",
              "      <td>[2, 3]</td>\n",
              "      <td>0</td>\n",
              "      <td>1</td>\n",
              "      <td>1</td>\n",
              "      <td>5</td>\n",
              "      <td>1</td>\n",
              "      <td>5</td>\n",
              "    </tr>\n",
              "    <tr>\n",
              "      <th>1</th>\n",
              "      <td>[2, -20, (-0-9j), 20, 4, 5]</td>\n",
              "      <td>[5, 5, 5, 5, 20, 20]</td>\n",
              "      <td>[1, 0, 0, 1, 0, 1]</td>\n",
              "      <td>[1, 0]</td>\n",
              "      <td>1</td>\n",
              "      <td>0</td>\n",
              "      <td>3</td>\n",
              "      <td>3</td>\n",
              "      <td>4</td>\n",
              "      <td>8</td>\n",
              "    </tr>\n",
              "    <tr>\n",
              "      <th>2</th>\n",
              "      <td>[4, -4, 5, -5, -40, -2]</td>\n",
              "      <td>[-10, 10, -5, 15j, 15j, 5]</td>\n",
              "      <td>[0, 0, 0, 0, 0, 0]</td>\n",
              "      <td>[3, 5]</td>\n",
              "      <td>2</td>\n",
              "      <td>3</td>\n",
              "      <td>6</td>\n",
              "      <td>0</td>\n",
              "      <td>10</td>\n",
              "      <td>8</td>\n",
              "    </tr>\n",
              "  </tbody>\n",
              "</table>\n",
              "</div>"
            ],
            "text/plain": [
              "                 Alice's Guess  ... Bob's Total Score\n",
              "0      [20, 1, -1, -30, -4, 4]  ...                 5\n",
              "1  [2, -20, (-0-9j), 20, 4, 5]  ...                 8\n",
              "2      [4, -4, 5, -5, -40, -2]  ...                 8\n",
              "\n",
              "[3 rows x 10 columns]"
            ]
          },
          "metadata": {
            "tags": []
          }
        },
        {
          "output_type": "stream",
          "text": [
            "\n",
            "Discarded configuration for Alice\n",
            "\n"
          ],
          "name": "stdout"
        },
        {
          "output_type": "display_data",
          "data": {
            "text/html": [
              "<div>\n",
              "<style scoped>\n",
              "    .dataframe tbody tr th:only-of-type {\n",
              "        vertical-align: middle;\n",
              "    }\n",
              "\n",
              "    .dataframe tbody tr th {\n",
              "        vertical-align: top;\n",
              "    }\n",
              "\n",
              "    .dataframe thead th {\n",
              "        text-align: right;\n",
              "    }\n",
              "</style>\n",
              "<table border=\"1\" class=\"dataframe\">\n",
              "  <thead>\n",
              "    <tr style=\"text-align: right;\">\n",
              "      <th></th>\n",
              "      <th>Alice</th>\n",
              "    </tr>\n",
              "  </thead>\n",
              "  <tbody>\n",
              "    <tr>\n",
              "      <th>3</th>\n",
              "      <td>[-2, (-0-20j), 9j, 20, -4, 5]</td>\n",
              "    </tr>\n",
              "  </tbody>\n",
              "</table>\n",
              "</div>"
            ],
            "text/plain": [
              "                           Alice\n",
              "3  [-2, (-0-20j), 9j, 20, -4, 5]"
            ]
          },
          "metadata": {
            "tags": []
          }
        },
        {
          "output_type": "stream",
          "text": [
            "\n",
            "Remaining entanglement options for Alice: [0, 4, 5]\n",
            "\n",
            "Discarded configuration for Bob\n",
            "\n"
          ],
          "name": "stdout"
        },
        {
          "output_type": "display_data",
          "data": {
            "text/html": [
              "<div>\n",
              "<style scoped>\n",
              "    .dataframe tbody tr th:only-of-type {\n",
              "        vertical-align: middle;\n",
              "    }\n",
              "\n",
              "    .dataframe tbody tr th {\n",
              "        vertical-align: top;\n",
              "    }\n",
              "\n",
              "    .dataframe thead th {\n",
              "        text-align: right;\n",
              "    }\n",
              "</style>\n",
              "<table border=\"1\" class=\"dataframe\">\n",
              "  <thead>\n",
              "    <tr style=\"text-align: right;\">\n",
              "      <th></th>\n",
              "      <th>Bob</th>\n",
              "    </tr>\n",
              "  </thead>\n",
              "  <tbody>\n",
              "    <tr>\n",
              "      <th>2</th>\n",
              "      <td>[-15, 5, -10, 10, 10, -10]</td>\n",
              "    </tr>\n",
              "  </tbody>\n",
              "</table>\n",
              "</div>"
            ],
            "text/plain": [
              "                          Bob\n",
              "2  [-15, 5, -10, 10, 10, -10]"
            ]
          },
          "metadata": {
            "tags": []
          }
        },
        {
          "output_type": "stream",
          "text": [
            "\n",
            "Remaining entanglement options for Bob: [1, 2, 4]\n",
            "\n",
            " Half Time\n"
          ],
          "name": "stdout"
        }
      ]
    },
    {
      "cell_type": "markdown",
      "metadata": {
        "id": "oX6gWyeACUs0",
        "colab_type": "text"
      },
      "source": [
        "Enter configuration for second half. "
      ]
    },
    {
      "cell_type": "code",
      "metadata": {
        "id": "kOWwMDnuCXJa",
        "colab_type": "code",
        "colab": {}
      },
      "source": [
        "playlist2= []\n",
        "playlist2.append([[10, 1, -1, -40, -4, 4], [2, 8, 5, -5, 15, 25]])\n",
        "playlist2.append([[2, -20, -9j, 20j, 7, 2], [10, -10, 5, 15, 15j, 5]])\n",
        "playlist2.append([[4, -4j, 8, -2, -30, -12], [-15j, 8, 7, 10, -10j, -10]])\n",
        "playlist2.append([[-2j, -40j, 9j, 1, -4, 4], [-10, 8, -7, 15j, -15, 5]])"
      ],
      "execution_count": 0,
      "outputs": []
    },
    {
      "cell_type": "code",
      "metadata": {
        "id": "rSXEVISxelYp",
        "colab_type": "code",
        "outputId": "c0b634d3-e939-4e05-dedf-dd33487d747f",
        "colab": {
          "base_uri": "https://localhost:8080/",
          "height": 34
        }
      },
      "source": [
        "playlist2 = validity_check(playlist2)"
      ],
      "execution_count": 42,
      "outputs": [
        {
          "output_type": "stream",
          "text": [
            "All configurations are valid\n"
          ],
          "name": "stdout"
        }
      ]
    },
    {
      "cell_type": "markdown",
      "metadata": {
        "id": "mfUY9AbgCagy",
        "colab_type": "text"
      },
      "source": [
        "Run the below cell to play the second half."
      ]
    },
    {
      "cell_type": "code",
      "metadata": {
        "id": "OO51B84QCnMW",
        "colab_type": "code",
        "outputId": "fc89cc04-c215-4b1f-b485-f1e4f18d7106",
        "colab": {
          "base_uri": "https://localhost:8080/",
          "height": 1000
        }
      },
      "source": [
        "tab1, sA1, sB1 , first_turn1, alice_entan_choices1, bob_entan_choices1 = play_game(tab, playlist2, basis_list, sA, sB, first_turn, alice_entan_choices, bob_entan_choices)"
      ],
      "execution_count": 43,
      "outputs": [
        {
          "output_type": "display_data",
          "data": {
            "text/html": [
              "<div>\n",
              "<style scoped>\n",
              "    .dataframe tbody tr th:only-of-type {\n",
              "        vertical-align: middle;\n",
              "    }\n",
              "\n",
              "    .dataframe tbody tr th {\n",
              "        vertical-align: top;\n",
              "    }\n",
              "\n",
              "    .dataframe thead th {\n",
              "        text-align: right;\n",
              "    }\n",
              "</style>\n",
              "<table border=\"1\" class=\"dataframe\">\n",
              "  <thead>\n",
              "    <tr style=\"text-align: right;\">\n",
              "      <th></th>\n",
              "      <th>Alice's Guess</th>\n",
              "      <th>Bob's Guess</th>\n",
              "      <th>Result</th>\n",
              "      <th>Control Islands</th>\n",
              "      <th>Alice's Row</th>\n",
              "      <th>Bob's Row</th>\n",
              "      <th>Alice's Score</th>\n",
              "      <th>Bob's Score</th>\n",
              "      <th>Alice's Total Score</th>\n",
              "      <th>Bob's Total Score</th>\n",
              "    </tr>\n",
              "  </thead>\n",
              "  <tbody>\n",
              "    <tr>\n",
              "      <th>0</th>\n",
              "      <td>[20, 1, -1, -30, -4, 4]</td>\n",
              "      <td>[10, 10, 5, 15, 15j, 5]</td>\n",
              "      <td>[1, 1, 1, 1, 0, 1]</td>\n",
              "      <td>[2, 3]</td>\n",
              "      <td>0</td>\n",
              "      <td>1</td>\n",
              "      <td>1</td>\n",
              "      <td>5</td>\n",
              "      <td>1</td>\n",
              "      <td>5</td>\n",
              "    </tr>\n",
              "    <tr>\n",
              "      <th>1</th>\n",
              "      <td>[2, -20, (-0-9j), 20, 4, 5]</td>\n",
              "      <td>[5, 5, 5, 5, 20, 20]</td>\n",
              "      <td>[1, 0, 0, 1, 0, 1]</td>\n",
              "      <td>[1, 0]</td>\n",
              "      <td>1</td>\n",
              "      <td>0</td>\n",
              "      <td>3</td>\n",
              "      <td>3</td>\n",
              "      <td>4</td>\n",
              "      <td>8</td>\n",
              "    </tr>\n",
              "    <tr>\n",
              "      <th>2</th>\n",
              "      <td>[4, -4, 5, -5, -40, -2]</td>\n",
              "      <td>[-10, 10, -5, 15j, 15j, 5]</td>\n",
              "      <td>[0, 0, 0, 0, 0, 0]</td>\n",
              "      <td>[3, 5]</td>\n",
              "      <td>2</td>\n",
              "      <td>3</td>\n",
              "      <td>6</td>\n",
              "      <td>0</td>\n",
              "      <td>10</td>\n",
              "      <td>8</td>\n",
              "    </tr>\n",
              "  </tbody>\n",
              "</table>\n",
              "</div>"
            ],
            "text/plain": [
              "                 Alice's Guess  ... Bob's Total Score\n",
              "0      [20, 1, -1, -30, -4, 4]  ...                 5\n",
              "1  [2, -20, (-0-9j), 20, 4, 5]  ...                 8\n",
              "2      [4, -4, 5, -5, -40, -2]  ...                 8\n",
              "\n",
              "[3 rows x 10 columns]"
            ]
          },
          "metadata": {
            "tags": []
          }
        },
        {
          "output_type": "stream",
          "text": [
            "\n",
            "Round 4\n",
            "\n",
            "Note that configurations or row numbers should be chosesn from {0,1,2,3} and entanglement choice should be chosen from {0,1,2,3,4,5}\n",
            "Enter configuration row number for Bob: ··········\n",
            "Enter configuration row number for Alice: ··········\n",
            "Choose island for entanglement for Bob: 1\n",
            "Choose island for entanglement for Alice: 4\n",
            "0  ::  1\n",
            "1  ::  1\n",
            "2  ::  1\n",
            "3  ::  1\n",
            "4  ::  1\n",
            "5  ::  1\n",
            "\n",
            " Note that the 'Control Islands' values should be read as [Alice's Island, Bob's Island]\n",
            "\n",
            "Scoreboard\n"
          ],
          "name": "stdout"
        },
        {
          "output_type": "stream",
          "text": [
            "/usr/local/lib/python3.6/dist-packages/ipykernel_launcher.py:15: ComplexWarning: Casting complex values to real discards the imaginary part\n",
            "  from ipykernel import kernelapp as app\n"
          ],
          "name": "stderr"
        },
        {
          "output_type": "display_data",
          "data": {
            "text/html": [
              "<div>\n",
              "<style scoped>\n",
              "    .dataframe tbody tr th:only-of-type {\n",
              "        vertical-align: middle;\n",
              "    }\n",
              "\n",
              "    .dataframe tbody tr th {\n",
              "        vertical-align: top;\n",
              "    }\n",
              "\n",
              "    .dataframe thead th {\n",
              "        text-align: right;\n",
              "    }\n",
              "</style>\n",
              "<table border=\"1\" class=\"dataframe\">\n",
              "  <thead>\n",
              "    <tr style=\"text-align: right;\">\n",
              "      <th></th>\n",
              "      <th>Alice's Guess</th>\n",
              "      <th>Bob's Guess</th>\n",
              "      <th>Result</th>\n",
              "      <th>Control Islands</th>\n",
              "      <th>Alice's Row</th>\n",
              "      <th>Bob's Row</th>\n",
              "      <th>Alice's Score</th>\n",
              "      <th>Bob's Score</th>\n",
              "      <th>Alice's Total Score</th>\n",
              "      <th>Bob's Total Score</th>\n",
              "    </tr>\n",
              "  </thead>\n",
              "  <tbody>\n",
              "    <tr>\n",
              "      <th>0</th>\n",
              "      <td>[20, 1, -1, -30, -4, 4]</td>\n",
              "      <td>[10, 10, 5, 15, 15j, 5]</td>\n",
              "      <td>[1, 1, 1, 1, 0, 1]</td>\n",
              "      <td>[2, 3]</td>\n",
              "      <td>0</td>\n",
              "      <td>1</td>\n",
              "      <td>1</td>\n",
              "      <td>5</td>\n",
              "      <td>1</td>\n",
              "      <td>5</td>\n",
              "    </tr>\n",
              "    <tr>\n",
              "      <th>1</th>\n",
              "      <td>[2, -20, (-0-9j), 20, 4, 5]</td>\n",
              "      <td>[5, 5, 5, 5, 20, 20]</td>\n",
              "      <td>[1, 0, 0, 1, 0, 1]</td>\n",
              "      <td>[1, 0]</td>\n",
              "      <td>1</td>\n",
              "      <td>0</td>\n",
              "      <td>3</td>\n",
              "      <td>3</td>\n",
              "      <td>4</td>\n",
              "      <td>8</td>\n",
              "    </tr>\n",
              "    <tr>\n",
              "      <th>2</th>\n",
              "      <td>[4, -4, 5, -5, -40, -2]</td>\n",
              "      <td>[-10, 10, -5, 15j, 15j, 5]</td>\n",
              "      <td>[0, 0, 0, 0, 0, 0]</td>\n",
              "      <td>[3, 5]</td>\n",
              "      <td>2</td>\n",
              "      <td>3</td>\n",
              "      <td>6</td>\n",
              "      <td>0</td>\n",
              "      <td>10</td>\n",
              "      <td>8</td>\n",
              "    </tr>\n",
              "    <tr>\n",
              "      <th>3</th>\n",
              "      <td>[10, 1, -1, -40, -4, 4]</td>\n",
              "      <td>[2, 8, 5, -5, 15, 25]</td>\n",
              "      <td>[1, 1, 1, 1, 1, 1]</td>\n",
              "      <td>[4, 1]</td>\n",
              "      <td>0</td>\n",
              "      <td>0</td>\n",
              "      <td>0</td>\n",
              "      <td>6</td>\n",
              "      <td>10</td>\n",
              "      <td>14</td>\n",
              "    </tr>\n",
              "  </tbody>\n",
              "</table>\n",
              "</div>"
            ],
            "text/plain": [
              "                 Alice's Guess  ... Bob's Total Score\n",
              "0      [20, 1, -1, -30, -4, 4]  ...                 5\n",
              "1  [2, -20, (-0-9j), 20, 4, 5]  ...                 8\n",
              "2      [4, -4, 5, -5, -40, -2]  ...                 8\n",
              "3      [10, 1, -1, -40, -4, 4]  ...                14\n",
              "\n",
              "[4 rows x 10 columns]"
            ]
          },
          "metadata": {
            "tags": []
          }
        },
        {
          "output_type": "stream",
          "text": [
            "\n",
            "Available configurations for Alice\n",
            "\n"
          ],
          "name": "stdout"
        },
        {
          "output_type": "display_data",
          "data": {
            "text/html": [
              "<div>\n",
              "<style scoped>\n",
              "    .dataframe tbody tr th:only-of-type {\n",
              "        vertical-align: middle;\n",
              "    }\n",
              "\n",
              "    .dataframe tbody tr th {\n",
              "        vertical-align: top;\n",
              "    }\n",
              "\n",
              "    .dataframe thead th {\n",
              "        text-align: right;\n",
              "    }\n",
              "</style>\n",
              "<table border=\"1\" class=\"dataframe\">\n",
              "  <thead>\n",
              "    <tr style=\"text-align: right;\">\n",
              "      <th></th>\n",
              "      <th>Alice</th>\n",
              "    </tr>\n",
              "  </thead>\n",
              "  <tbody>\n",
              "    <tr>\n",
              "      <th>1</th>\n",
              "      <td>[2, -20, (-0-9j), 20j, 7, 2]</td>\n",
              "    </tr>\n",
              "    <tr>\n",
              "      <th>2</th>\n",
              "      <td>[4, (-0-4j), 8, -2, -30, -12]</td>\n",
              "    </tr>\n",
              "    <tr>\n",
              "      <th>3</th>\n",
              "      <td>[(-0-2j), (-0-40j), 9j, 1, -4, 4]</td>\n",
              "    </tr>\n",
              "  </tbody>\n",
              "</table>\n",
              "</div>"
            ],
            "text/plain": [
              "                               Alice\n",
              "1       [2, -20, (-0-9j), 20j, 7, 2]\n",
              "2      [4, (-0-4j), 8, -2, -30, -12]\n",
              "3  [(-0-2j), (-0-40j), 9j, 1, -4, 4]"
            ]
          },
          "metadata": {
            "tags": []
          }
        },
        {
          "output_type": "stream",
          "text": [
            "\n",
            "Remaining entanglement options for Alice: [0, 5]\n",
            "\n",
            "Available configurations for Bob\n",
            "\n"
          ],
          "name": "stdout"
        },
        {
          "output_type": "display_data",
          "data": {
            "text/html": [
              "<div>\n",
              "<style scoped>\n",
              "    .dataframe tbody tr th:only-of-type {\n",
              "        vertical-align: middle;\n",
              "    }\n",
              "\n",
              "    .dataframe tbody tr th {\n",
              "        vertical-align: top;\n",
              "    }\n",
              "\n",
              "    .dataframe thead th {\n",
              "        text-align: right;\n",
              "    }\n",
              "</style>\n",
              "<table border=\"1\" class=\"dataframe\">\n",
              "  <thead>\n",
              "    <tr style=\"text-align: right;\">\n",
              "      <th></th>\n",
              "      <th>Bob</th>\n",
              "    </tr>\n",
              "  </thead>\n",
              "  <tbody>\n",
              "    <tr>\n",
              "      <th>1</th>\n",
              "      <td>[10, -10, 5, 15, 15j, 5]</td>\n",
              "    </tr>\n",
              "    <tr>\n",
              "      <th>2</th>\n",
              "      <td>[(-0-15j), 8, 7, 10, (-0-10j), -10]</td>\n",
              "    </tr>\n",
              "    <tr>\n",
              "      <th>3</th>\n",
              "      <td>[-10, 8, -7, 15j, -15, 5]</td>\n",
              "    </tr>\n",
              "  </tbody>\n",
              "</table>\n",
              "</div>"
            ],
            "text/plain": [
              "                                   Bob\n",
              "1             [10, -10, 5, 15, 15j, 5]\n",
              "2  [(-0-15j), 8, 7, 10, (-0-10j), -10]\n",
              "3            [-10, 8, -7, 15j, -15, 5]"
            ]
          },
          "metadata": {
            "tags": []
          }
        },
        {
          "output_type": "stream",
          "text": [
            "\n",
            "Remaining entanglement options for Bob: [2, 4]\n",
            "\n",
            "Round 5\n",
            "\n",
            "Enter \"exit\" to exit\n",
            "Note that configurations or row numbers should be chosesn from {0,1,2,3} and entanglement choice should be chosen from {0,1,2,3,4,5}\n",
            "Enter configuration row number for Alice: ··········\n",
            "Enter configuration row number for Bob: ··········\n",
            "Choose island for entanglement for Alice: 5\n",
            "Choose island for entanglement for Bob: 2\n",
            "0  ::  0\n",
            "1  ::  0\n",
            "2  ::  0\n",
            "3  ::  0\n",
            "4  ::  1\n",
            "5  ::  0\n",
            "\n",
            " Note that the 'Control Islands' values should be read as [Alice's Island, Bob's Island]\n",
            "\n",
            "Scoreboard\n"
          ],
          "name": "stdout"
        },
        {
          "output_type": "display_data",
          "data": {
            "text/html": [
              "<div>\n",
              "<style scoped>\n",
              "    .dataframe tbody tr th:only-of-type {\n",
              "        vertical-align: middle;\n",
              "    }\n",
              "\n",
              "    .dataframe tbody tr th {\n",
              "        vertical-align: top;\n",
              "    }\n",
              "\n",
              "    .dataframe thead th {\n",
              "        text-align: right;\n",
              "    }\n",
              "</style>\n",
              "<table border=\"1\" class=\"dataframe\">\n",
              "  <thead>\n",
              "    <tr style=\"text-align: right;\">\n",
              "      <th></th>\n",
              "      <th>Alice's Guess</th>\n",
              "      <th>Bob's Guess</th>\n",
              "      <th>Result</th>\n",
              "      <th>Control Islands</th>\n",
              "      <th>Alice's Row</th>\n",
              "      <th>Bob's Row</th>\n",
              "      <th>Alice's Score</th>\n",
              "      <th>Bob's Score</th>\n",
              "      <th>Alice's Total Score</th>\n",
              "      <th>Bob's Total Score</th>\n",
              "    </tr>\n",
              "  </thead>\n",
              "  <tbody>\n",
              "    <tr>\n",
              "      <th>0</th>\n",
              "      <td>[20, 1, -1, -30, -4, 4]</td>\n",
              "      <td>[10, 10, 5, 15, 15j, 5]</td>\n",
              "      <td>[1, 1, 1, 1, 0, 1]</td>\n",
              "      <td>[2, 3]</td>\n",
              "      <td>0</td>\n",
              "      <td>1</td>\n",
              "      <td>1</td>\n",
              "      <td>5</td>\n",
              "      <td>1</td>\n",
              "      <td>5</td>\n",
              "    </tr>\n",
              "    <tr>\n",
              "      <th>1</th>\n",
              "      <td>[2, -20, (-0-9j), 20, 4, 5]</td>\n",
              "      <td>[5, 5, 5, 5, 20, 20]</td>\n",
              "      <td>[1, 0, 0, 1, 0, 1]</td>\n",
              "      <td>[1, 0]</td>\n",
              "      <td>1</td>\n",
              "      <td>0</td>\n",
              "      <td>3</td>\n",
              "      <td>3</td>\n",
              "      <td>4</td>\n",
              "      <td>8</td>\n",
              "    </tr>\n",
              "    <tr>\n",
              "      <th>2</th>\n",
              "      <td>[4, -4, 5, -5, -40, -2]</td>\n",
              "      <td>[-10, 10, -5, 15j, 15j, 5]</td>\n",
              "      <td>[0, 0, 0, 0, 0, 0]</td>\n",
              "      <td>[3, 5]</td>\n",
              "      <td>2</td>\n",
              "      <td>3</td>\n",
              "      <td>6</td>\n",
              "      <td>0</td>\n",
              "      <td>10</td>\n",
              "      <td>8</td>\n",
              "    </tr>\n",
              "    <tr>\n",
              "      <th>3</th>\n",
              "      <td>[10, 1, -1, -40, -4, 4]</td>\n",
              "      <td>[2, 8, 5, -5, 15, 25]</td>\n",
              "      <td>[1, 1, 1, 1, 1, 1]</td>\n",
              "      <td>[4, 1]</td>\n",
              "      <td>0</td>\n",
              "      <td>0</td>\n",
              "      <td>0</td>\n",
              "      <td>6</td>\n",
              "      <td>10</td>\n",
              "      <td>14</td>\n",
              "    </tr>\n",
              "    <tr>\n",
              "      <th>4</th>\n",
              "      <td>[2, -20, (-0-9j), 20j, 7, 2]</td>\n",
              "      <td>[(-0-15j), 8, 7, 10, (-0-10j), -10]</td>\n",
              "      <td>[0, 0, 0, 0, 1, 0]</td>\n",
              "      <td>[5, 2]</td>\n",
              "      <td>1</td>\n",
              "      <td>2</td>\n",
              "      <td>5</td>\n",
              "      <td>1</td>\n",
              "      <td>15</td>\n",
              "      <td>15</td>\n",
              "    </tr>\n",
              "  </tbody>\n",
              "</table>\n",
              "</div>"
            ],
            "text/plain": [
              "                  Alice's Guess  ... Bob's Total Score\n",
              "0       [20, 1, -1, -30, -4, 4]  ...                 5\n",
              "1   [2, -20, (-0-9j), 20, 4, 5]  ...                 8\n",
              "2       [4, -4, 5, -5, -40, -2]  ...                 8\n",
              "3       [10, 1, -1, -40, -4, 4]  ...                14\n",
              "4  [2, -20, (-0-9j), 20j, 7, 2]  ...                15\n",
              "\n",
              "[5 rows x 10 columns]"
            ]
          },
          "metadata": {
            "tags": []
          }
        },
        {
          "output_type": "stream",
          "text": [
            "\n",
            "Available configurations for Alice\n",
            "\n"
          ],
          "name": "stdout"
        },
        {
          "output_type": "display_data",
          "data": {
            "text/html": [
              "<div>\n",
              "<style scoped>\n",
              "    .dataframe tbody tr th:only-of-type {\n",
              "        vertical-align: middle;\n",
              "    }\n",
              "\n",
              "    .dataframe tbody tr th {\n",
              "        vertical-align: top;\n",
              "    }\n",
              "\n",
              "    .dataframe thead th {\n",
              "        text-align: right;\n",
              "    }\n",
              "</style>\n",
              "<table border=\"1\" class=\"dataframe\">\n",
              "  <thead>\n",
              "    <tr style=\"text-align: right;\">\n",
              "      <th></th>\n",
              "      <th>Alice</th>\n",
              "    </tr>\n",
              "  </thead>\n",
              "  <tbody>\n",
              "    <tr>\n",
              "      <th>2</th>\n",
              "      <td>[4, (-0-4j), 8, -2, -30, -12]</td>\n",
              "    </tr>\n",
              "    <tr>\n",
              "      <th>3</th>\n",
              "      <td>[(-0-2j), (-0-40j), 9j, 1, -4, 4]</td>\n",
              "    </tr>\n",
              "  </tbody>\n",
              "</table>\n",
              "</div>"
            ],
            "text/plain": [
              "                               Alice\n",
              "2      [4, (-0-4j), 8, -2, -30, -12]\n",
              "3  [(-0-2j), (-0-40j), 9j, 1, -4, 4]"
            ]
          },
          "metadata": {
            "tags": []
          }
        },
        {
          "output_type": "stream",
          "text": [
            "\n",
            "Available configurations for Bob\n",
            "\n"
          ],
          "name": "stdout"
        },
        {
          "output_type": "display_data",
          "data": {
            "text/html": [
              "<div>\n",
              "<style scoped>\n",
              "    .dataframe tbody tr th:only-of-type {\n",
              "        vertical-align: middle;\n",
              "    }\n",
              "\n",
              "    .dataframe tbody tr th {\n",
              "        vertical-align: top;\n",
              "    }\n",
              "\n",
              "    .dataframe thead th {\n",
              "        text-align: right;\n",
              "    }\n",
              "</style>\n",
              "<table border=\"1\" class=\"dataframe\">\n",
              "  <thead>\n",
              "    <tr style=\"text-align: right;\">\n",
              "      <th></th>\n",
              "      <th>Bob</th>\n",
              "    </tr>\n",
              "  </thead>\n",
              "  <tbody>\n",
              "    <tr>\n",
              "      <th>1</th>\n",
              "      <td>[10, -10, 5, 15, 15j, 5]</td>\n",
              "    </tr>\n",
              "    <tr>\n",
              "      <th>3</th>\n",
              "      <td>[-10, 8, -7, 15j, -15, 5]</td>\n",
              "    </tr>\n",
              "  </tbody>\n",
              "</table>\n",
              "</div>"
            ],
            "text/plain": [
              "                         Bob\n",
              "1   [10, -10, 5, 15, 15j, 5]\n",
              "3  [-10, 8, -7, 15j, -15, 5]"
            ]
          },
          "metadata": {
            "tags": []
          }
        },
        {
          "output_type": "stream",
          "text": [
            "\n",
            "Last round. You are now free to choose any island for entanglement\n",
            "\n",
            "\n",
            "Round 6\n",
            "\n",
            "Note that configurations or row numbers should be chosesn from {0,1,2,3} and entanglement choice should be chosen from {0,1,2,3,4,5}\n",
            "Enter configuration row number for Bob: ··········\n",
            "Enter configuration row number for Alice: ··········\n",
            "Choose final island for entanglement for Bob: 3\n",
            "Choose final island for entanglement for Alice: 2\n",
            "0  ::  0\n",
            "1  ::  0\n",
            "2  ::  0\n",
            "3  ::  0\n",
            "4  ::  0\n",
            "5  ::  1\n",
            "\n",
            " Note that the 'Control Islands' values should be read as [Alice's Island, Bob's Island]\n",
            "\n",
            "Scoreboard\n"
          ],
          "name": "stdout"
        },
        {
          "output_type": "display_data",
          "data": {
            "text/html": [
              "<div>\n",
              "<style scoped>\n",
              "    .dataframe tbody tr th:only-of-type {\n",
              "        vertical-align: middle;\n",
              "    }\n",
              "\n",
              "    .dataframe tbody tr th {\n",
              "        vertical-align: top;\n",
              "    }\n",
              "\n",
              "    .dataframe thead th {\n",
              "        text-align: right;\n",
              "    }\n",
              "</style>\n",
              "<table border=\"1\" class=\"dataframe\">\n",
              "  <thead>\n",
              "    <tr style=\"text-align: right;\">\n",
              "      <th></th>\n",
              "      <th>Alice's Guess</th>\n",
              "      <th>Bob's Guess</th>\n",
              "      <th>Result</th>\n",
              "      <th>Control Islands</th>\n",
              "      <th>Alice's Row</th>\n",
              "      <th>Bob's Row</th>\n",
              "      <th>Alice's Score</th>\n",
              "      <th>Bob's Score</th>\n",
              "      <th>Alice's Total Score</th>\n",
              "      <th>Bob's Total Score</th>\n",
              "    </tr>\n",
              "  </thead>\n",
              "  <tbody>\n",
              "    <tr>\n",
              "      <th>0</th>\n",
              "      <td>[20, 1, -1, -30, -4, 4]</td>\n",
              "      <td>[10, 10, 5, 15, 15j, 5]</td>\n",
              "      <td>[1, 1, 1, 1, 0, 1]</td>\n",
              "      <td>[2, 3]</td>\n",
              "      <td>0</td>\n",
              "      <td>1</td>\n",
              "      <td>1</td>\n",
              "      <td>5</td>\n",
              "      <td>1</td>\n",
              "      <td>5</td>\n",
              "    </tr>\n",
              "    <tr>\n",
              "      <th>1</th>\n",
              "      <td>[2, -20, (-0-9j), 20, 4, 5]</td>\n",
              "      <td>[5, 5, 5, 5, 20, 20]</td>\n",
              "      <td>[1, 0, 0, 1, 0, 1]</td>\n",
              "      <td>[1, 0]</td>\n",
              "      <td>1</td>\n",
              "      <td>0</td>\n",
              "      <td>3</td>\n",
              "      <td>3</td>\n",
              "      <td>4</td>\n",
              "      <td>8</td>\n",
              "    </tr>\n",
              "    <tr>\n",
              "      <th>2</th>\n",
              "      <td>[4, -4, 5, -5, -40, -2]</td>\n",
              "      <td>[-10, 10, -5, 15j, 15j, 5]</td>\n",
              "      <td>[0, 0, 0, 0, 0, 0]</td>\n",
              "      <td>[3, 5]</td>\n",
              "      <td>2</td>\n",
              "      <td>3</td>\n",
              "      <td>6</td>\n",
              "      <td>0</td>\n",
              "      <td>10</td>\n",
              "      <td>8</td>\n",
              "    </tr>\n",
              "    <tr>\n",
              "      <th>3</th>\n",
              "      <td>[10, 1, -1, -40, -4, 4]</td>\n",
              "      <td>[2, 8, 5, -5, 15, 25]</td>\n",
              "      <td>[1, 1, 1, 1, 1, 1]</td>\n",
              "      <td>[4, 1]</td>\n",
              "      <td>0</td>\n",
              "      <td>0</td>\n",
              "      <td>0</td>\n",
              "      <td>6</td>\n",
              "      <td>10</td>\n",
              "      <td>14</td>\n",
              "    </tr>\n",
              "    <tr>\n",
              "      <th>4</th>\n",
              "      <td>[2, -20, (-0-9j), 20j, 7, 2]</td>\n",
              "      <td>[(-0-15j), 8, 7, 10, (-0-10j), -10]</td>\n",
              "      <td>[0, 0, 0, 0, 1, 0]</td>\n",
              "      <td>[5, 2]</td>\n",
              "      <td>1</td>\n",
              "      <td>2</td>\n",
              "      <td>5</td>\n",
              "      <td>1</td>\n",
              "      <td>15</td>\n",
              "      <td>15</td>\n",
              "    </tr>\n",
              "    <tr>\n",
              "      <th>5</th>\n",
              "      <td>[(-0-2j), (-0-40j), 9j, 1, -4, 4]</td>\n",
              "      <td>[10, -10, 5, 15, 15j, 5]</td>\n",
              "      <td>[0, 0, 0, 0, 0, 1]</td>\n",
              "      <td>[2, 3]</td>\n",
              "      <td>3</td>\n",
              "      <td>1</td>\n",
              "      <td>5</td>\n",
              "      <td>1</td>\n",
              "      <td>20</td>\n",
              "      <td>16</td>\n",
              "    </tr>\n",
              "  </tbody>\n",
              "</table>\n",
              "</div>"
            ],
            "text/plain": [
              "                       Alice's Guess  ... Bob's Total Score\n",
              "0            [20, 1, -1, -30, -4, 4]  ...                 5\n",
              "1        [2, -20, (-0-9j), 20, 4, 5]  ...                 8\n",
              "2            [4, -4, 5, -5, -40, -2]  ...                 8\n",
              "3            [10, 1, -1, -40, -4, 4]  ...                14\n",
              "4       [2, -20, (-0-9j), 20j, 7, 2]  ...                15\n",
              "5  [(-0-2j), (-0-40j), 9j, 1, -4, 4]  ...                16\n",
              "\n",
              "[6 rows x 10 columns]"
            ]
          },
          "metadata": {
            "tags": []
          }
        },
        {
          "output_type": "stream",
          "text": [
            "\n",
            "Discarded configuration for Alice\n",
            "\n"
          ],
          "name": "stdout"
        },
        {
          "output_type": "display_data",
          "data": {
            "text/html": [
              "<div>\n",
              "<style scoped>\n",
              "    .dataframe tbody tr th:only-of-type {\n",
              "        vertical-align: middle;\n",
              "    }\n",
              "\n",
              "    .dataframe tbody tr th {\n",
              "        vertical-align: top;\n",
              "    }\n",
              "\n",
              "    .dataframe thead th {\n",
              "        text-align: right;\n",
              "    }\n",
              "</style>\n",
              "<table border=\"1\" class=\"dataframe\">\n",
              "  <thead>\n",
              "    <tr style=\"text-align: right;\">\n",
              "      <th></th>\n",
              "      <th>Alice</th>\n",
              "    </tr>\n",
              "  </thead>\n",
              "  <tbody>\n",
              "    <tr>\n",
              "      <th>2</th>\n",
              "      <td>[4, (-0-4j), 8, -2, -30, -12]</td>\n",
              "    </tr>\n",
              "  </tbody>\n",
              "</table>\n",
              "</div>"
            ],
            "text/plain": [
              "                           Alice\n",
              "2  [4, (-0-4j), 8, -2, -30, -12]"
            ]
          },
          "metadata": {
            "tags": []
          }
        },
        {
          "output_type": "stream",
          "text": [
            "\n",
            "Discarded configuration for Bob\n",
            "\n"
          ],
          "name": "stdout"
        },
        {
          "output_type": "display_data",
          "data": {
            "text/html": [
              "<div>\n",
              "<style scoped>\n",
              "    .dataframe tbody tr th:only-of-type {\n",
              "        vertical-align: middle;\n",
              "    }\n",
              "\n",
              "    .dataframe tbody tr th {\n",
              "        vertical-align: top;\n",
              "    }\n",
              "\n",
              "    .dataframe thead th {\n",
              "        text-align: right;\n",
              "    }\n",
              "</style>\n",
              "<table border=\"1\" class=\"dataframe\">\n",
              "  <thead>\n",
              "    <tr style=\"text-align: right;\">\n",
              "      <th></th>\n",
              "      <th>Bob</th>\n",
              "    </tr>\n",
              "  </thead>\n",
              "  <tbody>\n",
              "    <tr>\n",
              "      <th>3</th>\n",
              "      <td>[-10, 8, -7, 15j, -15, 5]</td>\n",
              "    </tr>\n",
              "  </tbody>\n",
              "</table>\n",
              "</div>"
            ],
            "text/plain": [
              "                         Bob\n",
              "3  [-10, 8, -7, 15j, -15, 5]"
            ]
          },
          "metadata": {
            "tags": []
          }
        },
        {
          "output_type": "stream",
          "text": [
            "\n",
            "Last round. You are now free to choose any island for entanglement\n",
            "\n",
            "Island basis mapping for the game: ['Y', \"Y'\", \"Z'\", 'X', \"X'\", 'Z']\n",
            "\n",
            " Alice wins\n"
          ],
          "name": "stdout"
        }
      ]
    }
  ]
}