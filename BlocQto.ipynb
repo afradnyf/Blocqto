{
  "nbformat": 4,
  "nbformat_minor": 0,
  "metadata": {
    "kernelspec": {
      "name": "python3",
      "display_name": "Python 3"
    },
    "language_info": {
      "codemirror_mode": {
        "name": "ipython",
        "version": 3
      },
      "file_extension": ".py",
      "mimetype": "text/x-python",
      "name": "python",
      "nbconvert_exporter": "python",
      "pygments_lexer": "ipython3",
      "version": "3.7.1"
    },
    "colab": {
      "name": "BlocQto.ipynb",
      "provenance": [],
      "collapsed_sections": [],
      "machine_shape": "hm"
    },
    "accelerator": "TPU"
  },
  "cells": [
    {
      "cell_type": "markdown",
      "metadata": {
        "id": "LZ24ylnJd3jw",
        "colab_type": "text"
      },
      "source": [
        "# BlocQto - The 2 player Strategy Game for built for a Quantum Computer\n"
      ]
    },
    {
      "cell_type": "markdown",
      "metadata": {
        "id": "Nu2Kgs_hQ2sZ",
        "colab_type": "text"
      },
      "source": [
        "\n",
        "If you're reading this, the intrigue you had when you clicked our Medium article has grown into interest, and for that, we are happy. Through this Jupyter notebook, we will understand the mechanics (or quantum mechanics?) of the game and then actually play the game. So let's get started."
      ]
    },
    {
      "cell_type": "markdown",
      "metadata": {
        "id": "7ILSbY3cdzZu",
        "colab_type": "text"
      },
      "source": [
        "## Installing and Importing Packages"
      ]
    },
    {
      "cell_type": "markdown",
      "metadata": {
        "id": "CeUJ0xmKR-Gm",
        "colab_type": "text"
      },
      "source": [
        "\n",
        "\n",
        "We install Qiskit, the open source software development libraries in python by IBM. The game is written completely in python and extensively uses Qiskit. This is useful to run the game in an actual quantum computer.\n"
      ]
    },
    {
      "cell_type": "code",
      "metadata": {
        "id": "I23i7MG90rOK",
        "colab_type": "code",
        "colab": {}
      },
      "source": [
        "#Uncomment the following line to install qiskit if you haven't already.\n",
        "#pip install qiskit"
      ],
      "execution_count": 0,
      "outputs": []
    },
    {
      "cell_type": "code",
      "metadata": {
        "id": "xpU96jjbrSQN",
        "colab_type": "code",
        "colab": {}
      },
      "source": [
        "from qiskit import *\n",
        "import numpy as np\n",
        "import math\n",
        "from qiskit.visualization import plot_histogram\n",
        "import matplotlib as mpl\n",
        "import operator\n",
        "import pandas as pd\n",
        "from random import choices, seed\n",
        "from itertools import permutations\n",
        "import random\n",
        "from IPython.display import display, HTML\n",
        "import getpass"
      ],
      "execution_count": 0,
      "outputs": []
    },
    {
      "cell_type": "markdown",
      "metadata": {
        "id": "ZkIhCH-2dqVE",
        "colab_type": "text"
      },
      "source": [
        "## The Physics and Mathematics of BlocQto"
      ]
    },
    {
      "cell_type": "markdown",
      "metadata": {
        "id": "WAYGOZfTS7qD",
        "colab_type": "text"
      },
      "source": [
        "\n",
        "\n",
        "We first give a brief introduction to and explanation of the game mechanics. A more detailed explanation of the math and physics of the game is available in the accompanying Medium article.\n",
        "\n",
        "The game is designed to be played for six rounds divided into two halves of 3 rounds each. The mechanics of each round is the same, except for the differences in results caused by the strategies adopted by the players. Throughout this notebook, we will refer to Player 1 as Alice and Player 2 as Bob. \n",
        "\n",
        "The game as a whole is played as follows:\n",
        "\n",
        "1.   Alice and Bob enter four troop configurations (which are just 6 numbers, real or imaginary, but not complex) each for the first half of three rounds.\n",
        "2. Rounds 1 is played, where both Alice and Bob picks one out of their entered configuration, and then pick an island each as their control qubits for entanglement. Round mechanics, which will be explained shortly, are conducted. Scores and other relavant statistics are displayed.\n",
        "3. Each island can only be selected once as control for entanglement by a player, barring the last round, where the player is free to chose any island as control for entanglement.\n",
        "4. Round 2 and 3 are played out similarly. \n",
        "5. First half has ended. Players enter four more troop configurations each for the next three rounds. The one remaining pair of configurations is discarded.\n",
        "6. Round 4, 5, 6 are played out.\n",
        "7. The player with higher score, which is the cumulative scores of all the rounds, is the winner.\n",
        "\n",
        "This is the overall structure of the game. We now explain the mechanics of a single round.\n",
        "\n",
        "A single round consists of the following steps:\n",
        "1. Quantum state preparation through application of rotation gates. \n",
        "2. Transformation of states to simulate measurement on a different basis.\n",
        "3. Application of CNOT gates to entangle qubits.\n",
        "4. Measure the qubits and display the results.\n",
        "\n",
        "Each of the above step have mathematics and physics behind it which we will now explain briefly. Detailed explanations are available in the accompanying articles.\n",
        "\n",
        "### Quantum State Preparation\n",
        "The input each round is the troop configuration by Alice and Bob. Let us call one pair of such configuration $C_A$ and $C_B$. where $C_A = [a_i]_{i=1}^6$ and $C_B = [b_i]_{i=1}^6$. Let each island, which corresponds to  single qubit, represented by a state vector $|\\psi_i\\rangle$. Through state preparation, we would like to take each qubit from $|0\\rangle$ to $|\\psi_i\\rangle$ which is defined as $\\alpha_i|0\\rangle + \\beta_i|1\\rangle$ where\n",
        "\n",
        "$$|\\psi_i\\rangle = \\begin{bmatrix}\\alpha_i \\\\ \\beta_i\\end{bmatrix} = \\frac{1}{\\sqrt{a_i^2 + b_i^2}} \\begin{bmatrix}a_i \\\\ b_i\\end{bmatrix}$$\n",
        "\n",
        "We see that $|\\psi_i\\rangle$ are simply the normalised representation of the troops in each island. By the rules of the game, $a_i,b_i$ can only be purely imaginary or purely real, hence so will be $\\alpha_i$ and $\\beta_i$.\n",
        "\n",
        "We must now construct transformations $R_i$ for each island such that $$R_i|0\\rangle = |\\psi_i\\rangle$$\n",
        "as the qubits are always initialised in $|0\\rangle$.\n",
        "\n",
        "This is done through the $R_y$ and  $R_z$ gates which are standard single qubit gates of the form\n",
        "$$R_y(\\theta) = \\begin{bmatrix} cos\\frac{\\theta}{2} & -sin\\frac{\\theta}{2} \\\\ sin\\frac{\\theta}{2}& cos\\frac{\\theta}{2} \\end{bmatrix} \\hspace{5pt} R_z(\\theta) = \\begin{bmatrix} e^{-i\\theta/2} & 0 \\\\ 0 & e^{i\\theta/2} \\end{bmatrix}$$\n",
        "\n",
        "We construct \n",
        "$$R_i \\equiv R(\\theta_i,\\phi_i) = R_z(\\phi_i)R_y(\\theta_i)$$\n",
        "where $$\\phi_i = \\arcsin\\bigg(\\frac{\\text{Im}(\\beta_i)}{|\\beta_i|}\\bigg) - \\arcsin\\bigg(\\frac{\\text{Im}(\\alpha_i)}{|\\alpha_i|}\\bigg)$$ and $$\\theta_i = 2*\\arctan\\bigg(\\frac{e^{-i\\phi_i}\\beta_i}{ \\alpha_i}\\bigg)$$\n",
        "\n",
        "We now apply each of the $R_i$ gates to the corresponding qubits (except those who are the target qubits for entanglement, but more on that later) to take them to $|\\psi_i\\rangle$. \n",
        "\n",
        "\n",
        "### Change of Basis Transformation\n",
        "In Qiksit, all measurements are carried out in the standard $z$-eigenbasis $ = \\{|0\\rangle \\equiv |+z\\rangle,|1\\rangle \\equiv |-z\\rangle\\}$ where $$|0\\rangle = \\begin{bmatrix}0 \\\\ 1\\end{bmatrix},  |1\\rangle = \\begin{bmatrix}1 \\\\ 0\\end{bmatrix}$$\n",
        "\n",
        "A core element of BlocQto gameplay is that each island is measured in different basis, and hence the same configuration, say $a_i,b_i$, will give vastly different results on different islands. Apart from the $z$ eigenbasis, we choose to measure on $x$ and $y$ eigenbases. These correspond to three of the six islands. In the other three islands, we first apply an $X$ gate to the state, hence switching the amplitudes (and hence probabilities) associated with $|0\\rangle$ and $|1\\rangle$. Such *switched* bases are denoted with an overhead line. \n",
        "\n",
        "The six bases in which states are measured in BlocQto are $[Z, \\overline{Z}, X, \\overline{X}, Y, \\overline{Y}]$. It might be a good idea to list them and their eigenvectors. \n",
        "\n",
        "$$X = \\begin{bmatrix} 0 & 1 \\\\ 1 & 0 \\end{bmatrix},\\hspace{10pt} |+x\\rangle = \\frac{1}{\\sqrt{2}}\\begin{bmatrix}1 \\\\ 1\\end{bmatrix}, \\hspace{5pt}|-x\\rangle = \\frac{1}{\\sqrt{2}}\\begin{bmatrix}1 \\\\ -1\\end{bmatrix}$$ \n",
        "\n",
        "$$Y = \\begin{bmatrix} 0 & -i \\\\ i & 0 \\end{bmatrix}, \\hspace{10pt} |+y\\rangle = \\frac{1}{\\sqrt{2}}\\begin{bmatrix}1 \\\\ i\\end{bmatrix}, \\hspace{5pt}|-y\\rangle = \\frac{1}{\\sqrt{2}}\\begin{bmatrix}1 \\\\ -i\\end{bmatrix}$$ \n",
        "\n",
        "$$Z = \\begin{bmatrix} 1 & 0 \\\\ 0 & 1 \\end{bmatrix},\\hspace{10pt} |+z\\rangle = \\begin{bmatrix}1 \\\\ 0\\end{bmatrix},\\hspace{5pt}|-z\\rangle = \\begin{bmatrix}0 \\\\ 1\\end{bmatrix}$$\n",
        "\n",
        "The idea behind change of basis transformation is that since we cannot measure $|\\psi\\rangle$ in $x$ and $y$ eigenbasis, we would like to transform $|\\psi\\rangle$ into $|\\phi\\rangle = T_x^\\dagger|\\psi\\rangle$ such that measuring $|\\phi\\rangle$ in $z$ eigenbasis - the standard basis - is the same as measuring $|\\psi\\rangle$ in $x$ eigenbasis. Mathematically, we need to find transformation $T_x$ such that $$ \\langle\\psi|P_{0}^{x}|\\psi\\rangle = \\langle\\phi|P_{0}|\\phi\\rangle=\\langle\\psi| T_x P_{0} T_x^\\dagger|\\psi\\rangle$$\n",
        "$$ \\langle\\psi|P_{1}^{x}|\\psi\\rangle = \\langle\\phi|P_{1}|\\phi\\rangle=\\langle\\psi| T_x P_{1} T_x^\\dagger|\\psi\\rangle$$\n",
        "\n",
        "with similar results holding for measurement in $y$ eigenbasis as well. Here \n",
        "\n",
        "$$P_0 = P_0^z = |0\\rangle\\langle0| \\hspace{10pt} P_1 =P_1^z = |1\\rangle\\langle1|$$\n",
        "\n",
        "$$P_0^x = |+x\\rangle\\langle+x| \\hspace{10pt} P_1^x = |-x\\rangle\\langle-x|$$\n",
        "\n",
        "$$P_0^y = |+y\\rangle\\langle+y| \\hspace{10pt} P_1^y = |-y\\rangle\\langle-y|$$\n",
        "\n",
        "\n",
        "Take a look at this table for a quick overview on the six bases, how we transform the statevector to emulate measurement on the correspoding basis and the probabilities associated with Alice and Bob winning the island. Note that the math has been done for a single qubit.\n",
        "\n",
        "$$\\begin{matrix} \\text{Basis} & \\text{Statevector}  & P_{Alice} & P_{Bob} \\\\ \n",
        "Z & |\\psi\\rangle = \\alpha|0\\rangle + \\beta|1\\rangle & |\\alpha|^2 & |\\beta|^2 \\\\\n",
        "\\overline{Z} & X|\\psi\\rangle = \\beta|0\\rangle + \\alpha|1\\rangle & |\\beta|^2 & |\\alpha|^2 \\\\\n",
        "X & T_x^\\dagger|\\psi\\rangle = \\frac{\\alpha + \\beta}{\\sqrt{2}}|0\\rangle + \\frac{\\alpha - \\beta}{\\sqrt{2}}|1\\rangle &  \\frac{|\\alpha + \\beta|^2}{2} & \\frac{|\\alpha - \\beta|^2}{2} \\\\\n",
        "\\overline{X} & XT_x^\\dagger|\\psi\\rangle = \\frac{\\alpha - \\beta}{\\sqrt{2}}|0\\rangle + \\frac{\\alpha + \\beta}{\\sqrt{2}}|1\\rangle &  \\frac{|\\alpha - \\beta|^2}{2} & \\frac{|\\alpha + \\beta|^2}{2} \\\\\n",
        "Y & T_y^\\dagger|\\psi\\rangle = \\frac{\\alpha + i \\beta}{\\sqrt{2}}|0\\rangle + \\frac{\\alpha - i\\beta}{\\sqrt{2}}|1\\rangle &  \\frac{|\\alpha + i \\beta|^2}{2} & \\frac{|\\alpha - i \\beta|^2}{2} \\\\\n",
        "\\overline{Y} & XT_y^\\dagger|\\psi\\rangle = \\frac{\\alpha - i\\beta}{\\sqrt{2}}|0\\rangle + \\frac{\\alpha + i\\beta}{\\sqrt{2}}|1\\rangle &  \\frac{|\\alpha - i \\beta|^2}{2} & \\frac{|\\alpha + i \\beta|^2}{2} \\\\\n",
        "\\end{matrix}$$\n",
        "\n",
        "\n",
        "$T_x^\\dagger$ and $T_y^\\dagger$ are the transformation operators, which form the operational part of this section. They are the complex conjugate of $T_x$ and $T_y$ matrices, constructed from the eigenvectors of $X$ and $Y$ as follows:\n",
        "\n",
        "$$T_x = \\frac{1}{\\sqrt{2}}\\begin{bmatrix} 1 & 1\\\\ 1 & -1\\end{bmatrix} \\hspace{5pt} T_y = \\frac{1}{\\sqrt{2}}\\begin{bmatrix} 1 & 1\\\\ i & -i\\end{bmatrix}$$\n",
        "\n",
        "We see that $T_x = T_x^\\dagger$ is the same as Hadamard gate $H$, an important single qubit gate which is available in Qiskit by default. For constructing $T_y^\\dagger$ we make use of the $U_3(\\theta,\\phi,\\lambda)$ gate available in Qiskit, which is given by\n",
        "\n",
        "$$U_3(\\theta,\\phi,\\lambda) = \\begin{bmatrix} \\cos(\\frac{\\theta}{2}) & -e^{i\\lambda}\\sin(\\frac{\\theta}{2})\\\\ e^{i\\phi}\\sin(\\frac{\\theta}{2}) & e^{i(\\lambda+\\phi)}\\cos(\\frac{\\theta}{2})\\end{bmatrix}$$\n",
        "\n",
        "On setting $(\\theta = -\\frac{\\pi}{2} ,\\phi = -\\pi,\\lambda = -\\frac{\\pi}{2})$, we obtain \n",
        "$$U_3(-\\frac{\\pi}{2},-\\pi,-\\frac{\\pi}{2}) = \\frac{1}{\\sqrt{2}}\\begin{bmatrix} 1 & -i\\\\ 1 & i\\end{bmatrix} = T_y^\\dagger$$\n",
        "\n",
        "Using $T_x^\\dagger$ or $T_y^\\dagger$, we transform $|\\psi\\rangle$ to obtain the result of measuring it in $X$ or $Y$ basis. To simulate measurement in $\\overline{X}$ or $\\overline{Y}$ basis, we further pass the transformed state through an $X$ gate. \n",
        "\n",
        "This is how we perform the change of basis transformation in BlocQto. Once you crack the island - basis mapping, you have essentially won, as now you know how to position your troops on each basis.\n",
        "\n",
        "### Incorporating Entanglement\n",
        "\n",
        "By adding entanglement, we introduce another layer of intricacy to the game without making it too complicated. At the beginning of each round, both Alice and Bob pick an island (qubit) each as their control qubit, say $c_A$ and $c_B$ and is made public. $c_A$ must be different from $c_B$, and Alice and Bob will alternate to pick control qubits first. The game then randomly chooses 2 out of the remaining 4 islands as target qubits, say $t_A$ and $t_B$. The identity of the target qubits are not disclosed.\n",
        "\n",
        "For the first five rounds, players cannot pick an island as control qubit if they have already picked it in a previous round. In the sixth and final round, players have no such restriction based on their history. The only restriction, like in every other round, is that both Alice and Bob cannot pick the same island as control.\n",
        "\n",
        "The aim of this process is to entangle the results of target islands and control islands. If Alice were to win in $c_A$ (or $c_B$), then Alice would also win in $t_A$ (or $t_B$) regardless of how well Bob had 'positioned' his troops on the island $t_B$. \n",
        "\n",
        "To achieve this, we do not perform the above two steps on the target qubits. i.e., we neither perform the rotation for state preparation nor perform the change of basis transformation. We only implement $CNOT$ gates between $c_A$  & $t_A$ and $c_B$ & $t_B$ seperately with $c_A,c_B$ being control qubits and $t_A,t_B$ being target qubits. This can be mathematically shown as (for 2 qubits):\n",
        "$$\\begin{matrix}\n",
        "|0\\rangle_\\text{con}|0\\rangle_\\text{tar}  & \\xrightarrow{R(\\theta,\\phi)\\otimes \\mathbb{I}} & |\\psi\\rangle_\\text{con}|0\\rangle_\\text{tar} = (\\alpha|0\\rangle_\\text{con}+ \\beta|1\\rangle_\\text{con})|0\\rangle_\\text{tar} \\\\ \n",
        "|\\psi\\rangle_\\text{con}|0\\rangle_\\text{tar} & \\xrightarrow{T^\\dagger\\otimes \\mathbb{I}} & |\\phi\\rangle_\\text{con}|0\\rangle_\\text{tar} = (\\alpha'|0\\rangle_\\text{con}+ \\beta'|1\\rangle_\\text{con})|0\\rangle_\\text{tar} \\\\\n",
        "(\\alpha'|0\\rangle_\\text{con}+ \\beta'|1\\rangle_\\text{con})|0\\rangle_\\text{tar} \n",
        "& \\xrightarrow{CNOT} & \\alpha'|0\\rangle_\\text{con}|0\\rangle_\\text{tar} + \\beta'|1\\rangle_\\text{con}|1\\rangle_\\text{tar}\n",
        "\\end{matrix}$$\n",
        "\n",
        "We see that on measuring the final state, both control and target qubit will collapse into the same state, as dictated by the amplitudes of the control qubit.\n",
        " \n",
        "### Measurement\n",
        "The last step of a round, is also perhaps the simplest. We measure each of the qubit in computational basis ($z$ eigenbasis) and display the results. Players are now expected to deduce the basis by looking at one's own & opponent's configurations and measurement results. \n",
        "\n",
        "---\n"
      ]
    },
    {
      "cell_type": "markdown",
      "metadata": {
        "id": "BxqHCrYaTiua",
        "colab_type": "text"
      },
      "source": [
        "Let us now take a look at how we constuct the game using Qiskit.\n",
        "\n",
        "We first construct the quantum register (which is a collection of qubits) and the classical register (which is a collection of bits). We store the measurement results of the quantum register in the classical register. We then construct the quantum circuit, which is simply the two registers put together."
      ]
    },
    {
      "cell_type": "code",
      "metadata": {
        "id": "EyW5PqLlrSQU",
        "colab_type": "code",
        "colab": {}
      },
      "source": [
        "qr = QuantumRegister(6)\n",
        "cr = ClassicalRegister(6)\n",
        "qc = QuantumCircuit(qr, cr)"
      ],
      "execution_count": 0,
      "outputs": []
    },
    {
      "cell_type": "markdown",
      "metadata": {
        "id": "vDG1Y4J_UCO9",
        "colab_type": "text"
      },
      "source": [
        "Here we write a function that lets us add a single qubit gate to circuit. In this function, we have five gates, which correspond to the five different change of basis transformations mentioned in the above section, the sixth one being the $Z$ eigenbasis, which the default basis in which measurements are made. "
      ]
    },
    {
      "cell_type": "code",
      "metadata": {
        "id": "UNygyyxArSQX",
        "colab_type": "code",
        "colab": {}
      },
      "source": [
        "\n",
        "\"\"\"Used in constructing the required state, this function adds a particular gate \n",
        "labelled by 'par' to the qubit labelled by 'qubit'\"\"\"\n",
        "def add_gate(par, qubit, qc, qr, cr):\n",
        "    \n",
        "    if par == \"Z'\": #Zbar basis\n",
        "        qc.x(qubit)\n",
        "    if par == 'X':  #X basis\n",
        "        qc.h(qubit)\n",
        "    if par == \"X'\": #Xbar basis\n",
        "        qc.h(qubit)\n",
        "        qc.x(qubit)\n",
        "    if par == 'Y': #Y basis\n",
        "        qc.u3(-math.pi/2, -math.pi, -math.pi/2, qubit)\n",
        "    if par == \"Y'\":  #Ybar basis\n",
        "        qc.u3(-math.pi/2, -math.pi, -math.pi/2, qubit)\n",
        "        qc.x(qubit)\n",
        "    return qc, qr, cr"
      ],
      "execution_count": 0,
      "outputs": []
    },
    {
      "cell_type": "markdown",
      "metadata": {
        "colab_type": "text",
        "id": "WM84pgN3Lk9v"
      },
      "source": [
        "The ``` engine() ``` function takes in a pair of configurations, the basis mappings (which are randomly mapped) and target and control qubits for entanglement, and returns the results of the round.\n",
        "\n"
      ]
    },
    {
      "cell_type": "code",
      "metadata": {
        "id": "HtkTw3OYrSQa",
        "colab_type": "code",
        "colab": {}
      },
      "source": [
        "# pA: Alice's configuration\n",
        "# pB: Bob's configuration\n",
        "# basis_list: island basis mapping as a list of basis using add_gate function\n",
        "# entan_controls: of the form  [Island selected for entanglement by Alice, Island selected for entanglement by Bob]\n",
        "# entan_targets: entan_targets is of the form: [Island to be entangled with entan_controls[0], Island to be entangled with entan_controls[1]]\n",
        "\n",
        "def engine(pA, pB, basis_list, entan_controls, entan_targets, qc, qr, cr):\n",
        "\n",
        "\n",
        "### Calculating thetas and phis from given configurations\n",
        "    thetas = [] # thetas to be rotated in the bloch sphere\n",
        "    phis = [] # phis to be rotated in the bloch sphere\n",
        "    states = [] # each state vector\n",
        "    for i in range(6):\n",
        "        states.append([pA[i]/(((np.absolute(pA[i]) ** 2) + (np.absolute(pB[i]) ** 2)) ** 0.5), \n",
        "                       pB[i]/(((np.absolute(pA[i]) ** 2) + (np.absolute(pB[i]) ** 2)) ** 0.5)])\n",
        "    for i in range(6):\n",
        "        phis.append(math.asin(np.imag(states[i][1])/np.absolute(states[i][1])) - \\\n",
        "                    math.asin(np.imag(states[i][0])/np.absolute(states[i][0])))\n",
        "        thetas.append(2 * math.atan(np.real(states[i][1]/(states[i][0] * (math.cos(phis[i]) + (math.sin(phis[i]) * 1j))))))\n",
        "\n",
        "### Preparing Statevector for all qubits except target qubits\n",
        "    for i in range (6):\n",
        "        if i in entan_targets:\n",
        "            continue\n",
        "        qc.ry(thetas[i],i)\n",
        "        qc.rz(phis[i],i)\n",
        "    \n",
        "    backend_sv_sim = qiskit.BasicAer.get_backend('statevector_simulator') #Extracting information to plot Bloch Sphere\n",
        "    bloch_data = qiskit.execute(qc, backend_sv_sim).result()\n",
        "\n",
        "### Change of basis transformation for all qubits except target qubits\n",
        "    for i in range(6):\n",
        "        if i in entan_targets:\n",
        "            continue\n",
        "        else:    \n",
        "            qc, qr, cr = add_gate(basis_list[i], i, qc, qr, cr)\n",
        "\n",
        "### Applying CNOT for entangling\n",
        "    qc.cx(entan_controls[0], entan_targets[0])\n",
        "    qc.cx(entan_controls[1], entan_targets[1])\n",
        "    \n",
        "### Measurement    \n",
        "    qc.measure(qr, cr)\n",
        "    backend = Aer.get_backend('qasm_simulator')\n",
        "    \n",
        "    job_sim = execute(qc, backend, shots = 10000)\n",
        "    sim_result = job_sim.result()\n",
        "    counts = sim_result.get_counts(qc)\n",
        "\n",
        "### Information processing\n",
        "    sorted_list = sorted(counts.items(), key=operator.itemgetter(1))\n",
        "    ans = sorted_list[-1][0][::-1]\n",
        "    res_dict = {}\n",
        "    for i in range(6):\n",
        "        res_dict[i] = ans[i]\n",
        "    for key in res_dict:\n",
        "        print(key, \" :: \" , res_dict[key])\n",
        "    final_results = list(res_dict.values())\n",
        "    return(ans, counts, bloch_data, final_results)"
      ],
      "execution_count": 0,
      "outputs": []
    },
    {
      "cell_type": "markdown",
      "metadata": {
        "id": "zz8DK-NvL0tn",
        "colab_type": "text"
      },
      "source": [
        "Let us run a single trial round of the game. The results of each island are displayed as the result of the cell. "
      ]
    },
    {
      "cell_type": "code",
      "metadata": {
        "id": "V3CoQnTDrSQf",
        "colab_type": "code",
        "outputId": "04dfe0e6-3bca-47a0-e98d-2517e71aa98a",
        "colab": {
          "base_uri": "https://localhost:8080/",
          "height": 123
        }
      },
      "source": [
        "alice_config = [20, -1, 1, 30, -4j, 4]\n",
        "bob_config = [-15, 5, -10, 10, 10, -10]\n",
        "basis_list = ['Z', \"Z'\", 'X', \"X'\", 'Y', \"Y'\"] #Island-Basis mapping\n",
        "control_qubits = [1,3] #of the form [Alice's control qubit, Bob's control qubit]\n",
        "target_qubits = [2, 5] #of the form [Alice's target qubit, Bob's target qubit]\n",
        "\n",
        "ans, cts, bloch, final_results = engine(alice_config, bob_config, basis_list, control_qubits, target_qubits, qc, qr, cr)"
      ],
      "execution_count": 9,
      "outputs": [
        {
          "output_type": "stream",
          "text": [
            "0  ::  0\n",
            "1  ::  0\n",
            "2  ::  0\n",
            "3  ::  1\n",
            "4  ::  0\n",
            "5  ::  1\n"
          ],
          "name": "stdout"
        }
      ]
    },
    {
      "cell_type": "markdown",
      "metadata": {
        "id": "11zOZ2eFM9Dj",
        "colab_type": "text"
      },
      "source": [
        "In the above results, we see that qubit 2 has the same result as of qubit 1 and qubit 5 has the same result as that of qubit 3. Entanglement in action!\n",
        "\n",
        "Qiskit allows us to look at the measurement statistics as a histogram. Note that although there should be $2^6 = 64$ states since are six qubits, we only see $2^4 = 16$ states in the histogram. This is because certain states have zero probability of occuring, thanks to the entanglement we performed. "
      ]
    },
    {
      "cell_type": "code",
      "metadata": {
        "id": "8C8n-MFirSQj",
        "colab_type": "code",
        "outputId": "f4aa4690-e7bf-43c8-fe72-d8986f65afcd",
        "colab": {
          "base_uri": "https://localhost:8080/",
          "height": 744
        }
      },
      "source": [
        "plot_histogram(cts, figsize = (15,12))"
      ],
      "execution_count": 10,
      "outputs": [
        {
          "output_type": "execute_result",
          "data": {
            "image/png": "[encoded data removed]",
            "text/plain": [
              "<Figure size 1080x864 with 1 Axes>"
            ]
          },
          "metadata": {
            "tags": []
          },
          "execution_count": 10
        }
      ]
    },
    {
      "cell_type": "markdown",
      "metadata": {
        "id": "8KZam6vHNrXk",
        "colab_type": "text"
      },
      "source": [
        "We can also take a look at the quantum circuit constructed to perform this round. We see quantum state preparation, followed by change of basis transformation. We see $q_2$ and $q_5$ don't undergo these transformations, as they are target qubits. We also see the two CNOT operations which produce the entanglement, and finally measurements."
      ]
    },
    {
      "cell_type": "code",
      "metadata": {
        "id": "3n5xXU_CrSQm",
        "colab_type": "code",
        "outputId": "df4edd25-365d-4d0b-a89b-fca97b1eaf0b",
        "colab": {
          "base_uri": "https://localhost:8080/",
          "height": 511
        }
      },
      "source": [
        "qc.draw(output = \"mpl\", scale = 1, interactive=True)"
      ],
      "execution_count": 11,
      "outputs": [
        {
          "output_type": "execute_result",
          "data": {
            "image/png": "[encoded data removed]",
            "text/plain": [
              "<Figure size 1271.08x636.4 with 1 Axes>"
            ]
          },
          "metadata": {
            "tags": []
          },
          "execution_count": 11
        }
      ]
    },
    {
      "cell_type": "markdown",
      "metadata": {
        "id": "_9Vt4EbIOX-T",
        "colab_type": "text"
      },
      "source": [
        "Qiskit also allows us to take a look at the Bloch sphere diagrams of the individual qubits. Here we show the Bloch sphere representation of the qubits right after state vector preparation and before the change of basis transformation. We see that qubits $q_2$ and $q_5$ are at $|0\\rangle$ state, which is because the didn't go through any transformation as they target qubits for entanglement."
      ]
    },
    {
      "cell_type": "code",
      "metadata": {
        "id": "TxP4j9Q0rSQp",
        "colab_type": "code",
        "outputId": "5848fb16-1ac7-43fd-fbb1-a04098382085",
        "colab": {
          "base_uri": "https://localhost:8080/",
          "height": 195
        }
      },
      "source": [
        "qiskit.visualization.plot_bloch_multivector(bloch.get_statevector())"
      ],
      "execution_count": 12,
      "outputs": [
        {
          "output_type": "execute_result",
          "data": {
            "image/png": "[encoded data removed]",
            "text/plain": [
              "<Figure size 1152x192 with 6 Axes>"
            ]
          },
          "metadata": {
            "tags": []
          },
          "execution_count": 12
        }
      ]
    },
    {
      "cell_type": "markdown",
      "metadata": {
        "id": "m-QhiXVT1mbZ",
        "colab_type": "text"
      },
      "source": [
        "## BlocQto - The Game\n"
      ]
    },
    {
      "cell_type": "markdown",
      "metadata": {
        "id": "Xme3DibKBpo9",
        "colab_type": "text"
      },
      "source": [
        "### Initialization\n",
        "These cells contain the necessary code to set up the game. Most of the code here are for quality of life improvements and do not contain much concepts or physics. Before each new game, we generate a new value for ```island_seed``` in the below cell. This seed determines the island-basis mapping. \n",
        "\n"
      ]
    },
    {
      "cell_type": "code",
      "metadata": {
        "id": "AarKSym-TYtZ",
        "colab_type": "code",
        "colab": {}
      },
      "source": [
        "island_seed = random.randint(1,100)"
      ],
      "execution_count": 0,
      "outputs": []
    },
    {
      "cell_type": "markdown",
      "metadata": {
        "id": "2nGGWGtCTeqc",
        "colab_type": "text"
      },
      "source": [
        "We recommend you keep the below cells unchanged."
      ]
    },
    {
      "cell_type": "code",
      "metadata": {
        "id": "I90GQI7UBV6A",
        "colab_type": "code",
        "colab": {}
      },
      "source": [
        "# Initialize the scoreboard\n",
        "tab = pd.DataFrame(columns = [\"Alice's Guess\", \"Bob's Guess\",'Result','Control Islands', \n",
        "                              \"Alice's Row\", \"Bob's Row\",\"Alice's Score\", \"Bob's Score\", \n",
        "                              \"Alice's Total Score\", \"Bob's Total Score\"])\n",
        "# Initialize the island basis map\n",
        "basis_list = [\"Z\", \"Z'\", \"X\", \"X'\", \"Y\", \"Y'\"]\n",
        "scoreA = 0\n",
        "scoreB = 0\n",
        "sA = 0\n",
        "sB = 0\n",
        "\n",
        "def play_round(rowA, rowB, entanA, entanB, playlist, basis_list, scoreA, scoreB, qr, cr, qc):    \n",
        "\n",
        "    # Fix a value for random seed. That would define the island basis mapping\n",
        "    random.seed(island_seed)\n",
        "    perm = permutations(basis_list) \n",
        "    perm = list(perm)\n",
        "    basis = list(random.choice(perm))\n",
        "    random.seed()\n",
        "    # EntanList is of the form: [Island selected for entanglement by playerA, Island selected for entanglement by playerB]\n",
        "    entan_controls = [entanA,entanB]\n",
        "    # Random islands are selected here as target for entanglement\n",
        "    rA = random.choice(list(range(6)))\n",
        "    rB = random.choice(list(range(6)))\n",
        "    while(rA == rB or rA in entan_controls or rB in entan_controls):\n",
        "        rA = random.choice(list(range(6)))\n",
        "        rB = random.choice(list(range(6)))\n",
        "    ans, result, bloch, final_res = engine(playlist['Alice'][rowA], playlist['Bob'][rowB], basis, entan_controls, [rA,rB], qc, qr, cr)\n",
        "    # Updating cumulative scores\n",
        "    scoreA += list(ans).count('0')\n",
        "    scoreB += list(ans).count('1')\n",
        "    # Updating current scores\n",
        "    curr_scoreA = list(ans).count('0')\n",
        "    curr_scoreB = list(ans).count('1')\n",
        "\n",
        "    \n",
        "    return(scoreA, scoreB, rowA, rowB, entanA, entanB, curr_scoreA, curr_scoreB, bloch, final_res)"
      ],
      "execution_count": 0,
      "outputs": []
    },
    {
      "cell_type": "code",
      "metadata": {
        "id": "2bl5-qSFBjEI",
        "colab_type": "code",
        "colab": {}
      },
      "source": [
        "\"\"\"\n",
        "config_Alice: Configuration of Alice from the playlist table\n",
        "config_Bob: Configuration of Bob from the playlist table\n",
        "entan_Alice: Island of entanglement for Alice\n",
        "entan_Bob: Island of entanglement for Bob\n",
        "\"\"\"\n",
        "\n",
        "def play_game(tab, playlist, basis_list, sA, sB, first_turn = 0, alice_entan_choices = [], bob_entan_choices = []):\n",
        "    # lists to store already selected choices\n",
        "    alice_row_choices = []\n",
        "    bob_row_choices = []\n",
        "\n",
        "    finish = 0\n",
        "    if len(alice_entan_choices) < 3:\n",
        "\n",
        "        while 1==1 :\n",
        "            first_turn = input('\\n Who wants to go first? \\n\\n Press 0 for Alice \\n\\n Press 1 for Bob.\\n')\n",
        "            print('Enter \"exit\" to exit.')\n",
        "            if first_turn == 'exit':\n",
        "                return\n",
        "            else:\n",
        "                first_turn = int(first_turn)\n",
        "                break\n",
        "    if len(alice_entan_choices) >= 3:\n",
        "        first_turn = (first_turn + 1)%2\n",
        "        display(tab)\n",
        "    \n",
        "    for i in range(3):\n",
        "        if (i + first_turn)%2 == 0: \n",
        "            if len(alice_entan_choices) >= 3:\n",
        "                print('\\nRound {}\\n'.format(i+4))\n",
        "            else:\n",
        "                print('\\nRound {}\\n'.format(i+1))\n",
        "            print('Enter \"exit\" to exit.')\n",
        "            print('Note that configurations or row numbers should be chosesn from {0,1,2,3} and entanglement choice should be chosen from {0,1,2,3,4,5}.')\n",
        "            while 1 == 1:\n",
        "                config_Alice = getpass.getpass(prompt = \"Enter configuration row number for Alice: \")\n",
        "                if config_Alice == 'exit':\n",
        "                    print('exit command received')\n",
        "                    return\n",
        "                else:\n",
        "                    config_Alice = int(config_Alice)\n",
        "                    if config_Alice in alice_row_choices:\n",
        "                        print ('Configuration already chosen. Please enter again.')\n",
        "                    else:\n",
        "                        if config_Alice not in {0,1,2,3}:\n",
        "                            print('Invalid choice. Please enter again.')\n",
        "                        else:\n",
        "                            alice_row_choices.append(config_Alice)\n",
        "                            break\n",
        "            while 1 == 1:\n",
        "                config_Bob = getpass.getpass(prompt = \"Enter configuration row number for Bob: \")\n",
        "                if config_Bob == 'exit':\n",
        "                    print('exit command received.')\n",
        "                    return\n",
        "                else:\n",
        "                    config_Bob = int(config_Bob)\n",
        "                    if config_Bob in bob_row_choices:\n",
        "                        print ('Configuration already chosen. Please enter again.')\n",
        "                    else:\n",
        "                        if config_Bob not in {0,1,2,3}:\n",
        "                            print('Invalid choice. Please enter again.')\n",
        "                        else:\n",
        "                            bob_row_choices.append(config_Bob)\n",
        "                            break\n",
        "            while 1 == 1:\n",
        "                if tab.shape[0] < 5:\n",
        "                    entan_Alice = input(\"Choose island for entanglement for Alice: \")\n",
        "                    if entan_Alice == 'exit':\n",
        "                        print('exit command received.')\n",
        "                        return\n",
        "                    else:\n",
        "                        entan_Alice = int(entan_Alice)\n",
        "                        if entan_Alice in alice_entan_choices:\n",
        "                            print ('Island already chosen for entanglement. Please enter again.')\n",
        "                        else:\n",
        "                            if entan_Alice not in {0,1,2,3,4,5}:\n",
        "                                print('Invalid choice. Please enter again.')\n",
        "                            else:\n",
        "                                alice_entan_choices.append(entan_Alice)\n",
        "                                break\n",
        "                else:\n",
        "                    entan_Alice = input(\"Choose final island for entanglement for Alice: \")\n",
        "                    if entan_Alice == 'exit':\n",
        "                        print('exit command received.')\n",
        "                        return\n",
        "                    else:\n",
        "                        entan_Alice = int(entan_Alice)\n",
        "                        if entan_Alice not in {0,1,2,3,4,5}:\n",
        "                            print('Invalid choice. Please enter again.')\n",
        "                        else:\n",
        "                            alice_entan_choices.append(entan_Alice)\n",
        "                            break\n",
        "            while 1 == 1:\n",
        "                if tab.shape[0] < 5:\n",
        "                    entan_Bob = input(\"Choose island for entanglement for Bob: \")\n",
        "                    if entan_Bob == 'exit':\n",
        "                        print('exit command received.')\n",
        "                        return\n",
        "                    else:\n",
        "                        entan_Bob = int(entan_Bob)\n",
        "                        if entan_Bob in bob_entan_choices:\n",
        "                            print ('Island already chosen for entanglement. Please enter again.')\n",
        "                        else:\n",
        "                            if entan_Bob not in {0,1,2,3,4,5}:\n",
        "                                print('Invalid choice. Please enter again.')\n",
        "                            elif entan_Bob == entan_Alice:\n",
        "                                print('Island already chosen by Alice. Please choose another island.')\n",
        "                            else:\n",
        "                                bob_entan_choices.append(entan_Bob)\n",
        "                                break\n",
        "                else:\n",
        "                    entan_Bob = input(\"Choose final island for entanglement for Bob: \")\n",
        "                    if entan_Bob == 'exit':\n",
        "                        print('exit command received.')\n",
        "                        return\n",
        "                    else:\n",
        "                        entan_Bob = int(entan_Bob)\n",
        "                        if entan_Bob not in {0,1,2,3,4,5}:\n",
        "                            print('Invalid choice. Please enter again.')\n",
        "                        elif entan_Bob == entan_Alice:\n",
        "                            print('Island already chosen by Alice. Please choose another island.')\n",
        "                        else:\n",
        "                            bob_entan_choices.append(entan_Bob)\n",
        "                            break\n",
        "        else:\n",
        "            if len(alice_entan_choices) >= 3:\n",
        "                print('\\nRound {}\\n'.format(i+4))\n",
        "            else:\n",
        "                print('\\nRound {}\\n'.format(i+1))\n",
        "\n",
        "            print('Note that configurations or row numbers should be chosesn from {0,1,2,3} and entanglement choice should be chosen from {0,1,2,3,4,5}.')\n",
        "            while 1 == 1:\n",
        "                config_Bob = getpass.getpass(prompt = \"Enter configuration row number for Bob: \")\n",
        "                if config_Bob == 'exit':\n",
        "                    print('exit command received.')\n",
        "                    return\n",
        "                else:\n",
        "                    config_Bob = int(config_Bob)\n",
        "                    if config_Bob in bob_row_choices:\n",
        "                        print ('Configuration already chosen. Please enter again.')\n",
        "                    else:\n",
        "                        if config_Bob not in {0,1,2,3}:\n",
        "                            print('Invalid choice. Please enter again.')\n",
        "                        else:\n",
        "                            bob_row_choices.append(config_Bob)\n",
        "                            break\n",
        "            while 1 == 1:\n",
        "                config_Alice = getpass.getpass(prompt = \"Enter configuration row number for Alice: \")\n",
        "                if config_Alice == 'exit':\n",
        "                    print('exit command received.')\n",
        "                    return\n",
        "                else:\n",
        "                    config_Alice = int(config_Alice)\n",
        "                    if config_Alice in alice_row_choices:\n",
        "                        print ('Configuration already chosen. Please enter again.')\n",
        "                    else:\n",
        "                        if config_Alice not in {0,1,2,3}:\n",
        "                            print('Invalid choice. Please enter again.')\n",
        "                        else:\n",
        "                            alice_row_choices.append(config_Alice)\n",
        "                            break\n",
        "            while 1 == 1:\n",
        "                if tab.shape[0] < 5:\n",
        "                    entan_Bob = input(\"Choose island for entanglement for Bob: \")\n",
        "                    if entan_Bob == 'exit':\n",
        "                        print('exit command received.')\n",
        "                        return\n",
        "                    else:\n",
        "                        entan_Bob = int(entan_Bob)\n",
        "                        if entan_Bob in bob_entan_choices:\n",
        "                            print ('Island already chosen for entanglement. Please enter again.')\n",
        "                        else:\n",
        "                            if entan_Bob not in {0,1,2,3,4,5}:\n",
        "                                print('Invalid choice. Please enter again.')\n",
        "                            else:\n",
        "                                bob_entan_choices.append(entan_Bob)\n",
        "                                break\n",
        "                else:\n",
        "                    entan_Bob = input(\"Choose final island for entanglement for Bob: \")\n",
        "                    if entan_Bob == 'exit':\n",
        "                        print('exit command received.')\n",
        "                        return\n",
        "                    else:\n",
        "                        entan_Bob = int(entan_Bob)\n",
        "                        if entan_Bob not in {0,1,2,3,4,5}:\n",
        "                            print('Invalid choice. Please enter again.')\n",
        "                        else:\n",
        "                            bob_entan_choices.append(entan_Bob)\n",
        "                            break\n",
        "            while 1 == 1:\n",
        "                if tab.shape[0] < 5:\n",
        "                    entan_Alice = input(\"Choose island for entanglement for Alice: \")\n",
        "                    if entan_Alice == 'exit':\n",
        "                        print('exit command received.')\n",
        "                        return\n",
        "                    else:\n",
        "                        entan_Alice = int(entan_Alice)\n",
        "                        if entan_Alice in alice_entan_choices:\n",
        "                            print ('Island already chosen for entanglement. Please enter again.')\n",
        "                        else:\n",
        "                            if entan_Alice not in {0,1,2,3,4,5}:\n",
        "                                print('Invalid choice. Please enter again.')\n",
        "                            elif entan_Alice == entan_Bob:\n",
        "                                print('Island already chosen by Bob. Please choose another island.')\n",
        "                            else:\n",
        "                                alice_entan_choices.append(entan_Alice)\n",
        "                                break\n",
        "                else:\n",
        "                    entan_Alice = input(\"Choose final island for entanglement for Alice: \")\n",
        "                    if entan_Alice == 'exit':\n",
        "                        print('exit command received.')\n",
        "                        return\n",
        "                    else:\n",
        "                        entan_Alice = int(entan_Alice)\n",
        "                        if entan_Alice not in {0,1,2,3,4,5}:\n",
        "                            print('Invalid choice. Please enter again.')\n",
        "                        elif entan_Alice == entan_Bob:\n",
        "                            print('Island already chosen by Bob. Please choose another island.')\n",
        "                        else:\n",
        "                            alice_entan_choices.append(entan_Alice)\n",
        "                            break\n",
        "\n",
        "        qr = QuantumRegister(6)\n",
        "        cr = ClassicalRegister(6)\n",
        "        qc = QuantumCircuit(qr, cr)\n",
        "        # execute one round\n",
        "        sA, sB, rowA, rowB, entanA, entanB, curr_scoreA, curr_scoreB, bloch, final_res = play_round(config_Alice, config_Bob, entan_Alice, entan_Bob, playlist, basis_list, sA, sB, qr, cr, qc)\n",
        "        # Update the scoreboard\n",
        "        print(\"\\n Note that the 'Control Islands' values should be read as [Alice's Island, Bob's Island].\")\n",
        "        tab = tab.append(pd.DataFrame([[playlist['Alice'][rowA], playlist['Bob'][rowB], final_res, [entanA,entanB], rowA, rowB, curr_scoreA, curr_scoreB, sA, sB]], \n",
        "                                      columns = [\"Alice's Guess\", \"Bob's Guess\",'Result', 'Control Islands', \n",
        "                                                 \"Alice's Row\", \"Bob's Row\", \"Alice's Score\", \"Bob's Score\",\"Alice's Total Score\",\n",
        "                                                \"Bob's Total Score\"]), \n",
        "                         ignore_index = True)\n",
        "        print('\\nScoreboard')\n",
        "        display(tab)\n",
        "        if tab.shape[0] == 3 or tab.shape[0] == 6:\n",
        "            print('\\nDiscarded configuration for Alice: \\n')\n",
        "        else:\n",
        "            print('\\nAvailable configurations for Alice: \\n')\n",
        "        display(pd.DataFrame(playlist.iloc[[x for x in list(range(4)) if x not in alice_row_choices],0]))\n",
        "        if tab.shape[0] < 5:\n",
        "            print('\\nRemaining entanglement options for Alice: {}'.format([x for x in list(range(6)) if x not in alice_entan_choices]))\n",
        "        if tab.shape[0] == 3 or tab.shape[0] == 6:\n",
        "            print('\\nDiscarded configuration for Bob: \\n')\n",
        "        else:\n",
        "            print('\\nAvailable configurations for Bob: \\n')\n",
        "        display(pd.DataFrame(playlist.iloc[[x for x in list(range(4)) if x not in bob_row_choices],1]))\n",
        "        if tab.shape[0] < 5:\n",
        "            print('\\nRemaining entanglement options for Bob: {}'.format([x for x in list(range(6)) if x not in bob_entan_choices]))\n",
        "        else:\n",
        "            print('\\nLast round. You are now free to choose any island for entanglement.\\n')\n",
        "        \n",
        "        finish += 1\n",
        "    if finish == 3:\n",
        "        if tab.shape[0] == 6:\n",
        "            random.seed(10)\n",
        "            perm = permutations(basis_list) \n",
        "            perm = list(perm)\n",
        "            basis = list(random.choice(perm))\n",
        "            print('The island-basis mapping for the game: \\n')\n",
        "            print('[%s]' % ', '.join(map(str, basis)))\n",
        "            if tab[\"Alice's Total Score\"].values[-1] > tab[\"Bob's Total Score\"].values[-1]:\n",
        "                print(\"\\n Alice wins!!!\")\n",
        "            elif tab[\"Alice's Total Score\"].values[-1] < tab[\"Bob's Total Score\"].values[-1]:\n",
        "                print(\"\\n Bob wins!!!\")\n",
        "            else:\n",
        "                print(\"\\n The match has ended as a draw!!!\")\n",
        "        else:\n",
        "            print(\"\\n Half Time\")\n",
        "    return tab, sA, sB, first_turn, alice_entan_choices, bob_entan_choices"
      ],
      "execution_count": 0,
      "outputs": []
    },
    {
      "cell_type": "code",
      "metadata": {
        "id": "ibrYEwkaeVVW",
        "colab_type": "code",
        "colab": {}
      },
      "source": [
        "def validity_check(playlist):\n",
        "    flag1 = 0\n",
        "    l = 0\n",
        "    for x in playlist:\n",
        "        p = 0\n",
        "        for y in x:\n",
        "            if sum([np.abs(k) for k in y]) != 60:\n",
        "                print('Not all combinations are valid.')\n",
        "                if p == 0:\n",
        "                    print(\"Check Alice's combination in row index {}. It does not sum to 60.\".format(l))\n",
        "                else:\n",
        "                    print(\"Check Bob's combination in row  index {}. It does not sum to 60.\".format(l))\n",
        "                flag1 += 1\n",
        "                break\n",
        "            elif len(y) != 6:\n",
        "                print('Not all combinations are valid.')\n",
        "                if p == 0:\n",
        "                    print('Invalid length of configuration for Alice in row index {}. The length of the configurations should be exaclty 6.'.format(l))\n",
        "                else:\n",
        "                    print('Invalid length of configuration for Bob in row index {}. The length of the configurations should be exaclty 6.'.format(l))\n",
        "                flag1 += 1\n",
        "                break\n",
        "            elif 0 in y:\n",
        "                print('Not all combinations are valid.')\n",
        "                if p == 0:\n",
        "                    print(\"0 encountered in Alice's configuration in row index {}.\".format(l))\n",
        "                else:\n",
        "                    print(\"0 encountered in Bob's configuration in row index {}.\".format(l))\n",
        "                flag1 += 1\n",
        "                break\n",
        "            else:\n",
        "                for z in y:\n",
        "                    if np.imag(z) != 0 and np.real(z) != 0:\n",
        "                        print('Not all combinations are valid.')\n",
        "                        if p == 0:\n",
        "                            print(\"Invalid value encountered in Alice's configuration in row index {}. The values should be either real or imaginary.\".format(l))\n",
        "                        else:\n",
        "                            print(\"Invalid value encountered in Bob's configuration in row index {}. The values should be either real or imaginary.\".format(l))\n",
        "                        flag1 += 1  \n",
        "                        break\n",
        "                p += 1\n",
        "        if flag1 != 0:\n",
        "            break\n",
        "        else:\n",
        "            l += 1\n",
        "\n",
        "    if flag1 == 0:\n",
        "        print('All configurations are valid.')\n",
        "        playlist = pd.DataFrame(playlist, columns = ['Alice', 'Bob'])\n",
        "    return playlist"
      ],
      "execution_count": 0,
      "outputs": []
    },
    {
      "cell_type": "markdown",
      "metadata": {
        "id": "Lp84ZZrhBwcl",
        "colab_type": "text"
      },
      "source": [
        "### Playing BlocQto\n",
        "Note that the target islands for each round are never disclosed, they can only be deduced. So while reading the results, players must factor in the fact that, \n",
        "if an island has the same result as the results of the control islands, then it could (or not) be due to entanglement.\n",
        "#### First Half\n",
        "We're here! Let us begin the game. Enter configurations for the first half. The order being [Alice's configuration, Bob's configuration]. "
      ]
    },
    {
      "cell_type": "code",
      "metadata": {
        "id": "EDkDlHfJBxne",
        "colab_type": "code",
        "colab": {}
      },
      "source": [
        "playlist1 = []\n",
        "playlist1.append([[20, 1, -1, -30, -4, 4], [5, 5, 5, 5, 20, 20]])\n",
        "playlist1.append([[2, -20, -9j, 20, 4, 5], [10, 10, 5, 15, 15j, 5]])\n",
        "playlist1.append([[4, -4, 5, -5, -40, -2], [-15, 5, -10, 10, 10, -10]])\n",
        "playlist1.append([[-2, -20j, 9j, 20, -4, 5], [-10, 10, -5, 15j, 15j, 5]])"
      ],
      "execution_count": 0,
      "outputs": []
    },
    {
      "cell_type": "code",
      "metadata": {
        "id": "9jtUsVcKefQ9",
        "colab_type": "code",
        "outputId": "b9fb5def-a34c-45da-ea38-087c975848fa",
        "colab": {
          "base_uri": "https://localhost:8080/",
          "height": 34
        }
      },
      "source": [
        "playlist1 = validity_check(playlist1)"
      ],
      "execution_count": 40,
      "outputs": [
        {
          "output_type": "stream",
          "text": [
            "All configurations are valid.\n"
          ],
          "name": "stdout"
        }
      ]
    },
    {
      "cell_type": "markdown",
      "metadata": {
        "id": "h5JlczSXB4x9",
        "colab_type": "text"
      },
      "source": [
        "Run the below cell to play the first half."
      ]
    },
    {
      "cell_type": "code",
      "metadata": {
        "id": "64vrtCUvB8qg",
        "colab_type": "code",
        "outputId": "7838d58e-4a94-4490-d0b7-3876b10186ff",
        "colab": {
          "base_uri": "https://localhost:8080/",
          "height": 1000
        }
      },
      "source": [
        "tab, sA, sB, first_turn, alice_entan_choices, bob_entan_choices = play_game(tab, playlist1, basis_list, sA, sB)"
      ],
      "execution_count": 41,
      "outputs": [
        {
          "output_type": "stream",
          "text": [
            "\n",
            " Who wants to go first? \n",
            "\n",
            " Press 0 for Alice \n",
            "\n",
            " Press 1 for Bob.\n",
            "0\n",
            "Enter \"exit\" to exit.\n",
            "\n",
            "Round 1\n",
            "\n",
            "Enter \"exit\" to exit.\n",
            "Note that configurations or row numbers should be chosesn from {0,1,2,3} and entanglement choice should be chosen from {0,1,2,3,4,5}.\n",
            "Enter configuration row number for Alice: ··········\n",
            "Enter configuration row number for Bob: ··········\n",
            "Choose island for entanglement for Alice: 2\n",
            "Choose island for entanglement for Bob: 3\n",
            "0  ::  0\n",
            "1  ::  0\n",
            "2  ::  0\n",
            "3  ::  0\n",
            "4  ::  1\n",
            "5  ::  0\n",
            "\n",
            " Note that the 'Control Islands' values should be read as [Alice's Island, Bob's Island].\n",
            "\n",
            "Scoreboard\n"
          ],
          "name": "stdout"
        },
        {
          "output_type": "display_data",
          "data": {
            "text/html": [
              "<div>\n",
              "<style scoped>\n",
              "    .dataframe tbody tr th:only-of-type {\n",
              "        vertical-align: middle;\n",
              "    }\n",
              "\n",
              "    .dataframe tbody tr th {\n",
              "        vertical-align: top;\n",
              "    }\n",
              "\n",
              "    .dataframe thead th {\n",
              "        text-align: right;\n",
              "    }\n",
              "</style>\n",
              "<table border=\"1\" class=\"dataframe\">\n",
              "  <thead>\n",
              "    <tr style=\"text-align: right;\">\n",
              "      <th></th>\n",
              "      <th>Alice's Guess</th>\n",
              "      <th>Bob's Guess</th>\n",
              "      <th>Result</th>\n",
              "      <th>Control Islands</th>\n",
              "      <th>Alice's Row</th>\n",
              "      <th>Bob's Row</th>\n",
              "      <th>Alice's Score</th>\n",
              "      <th>Bob's Score</th>\n",
              "      <th>Alice's Total Score</th>\n",
              "      <th>Bob's Total Score</th>\n",
              "    </tr>\n",
              "  </thead>\n",
              "  <tbody>\n",
              "    <tr>\n",
              "      <th>0</th>\n",
              "      <td>[20, 1, -1, -30, -4, 4]</td>\n",
              "      <td>[10, 10, 5, 15, 15j, 5]</td>\n",
              "      <td>[0, 0, 0, 0, 1, 0]</td>\n",
              "      <td>[2, 3]</td>\n",
              "      <td>0</td>\n",
              "      <td>1</td>\n",
              "      <td>5</td>\n",
              "      <td>1</td>\n",
              "      <td>5</td>\n",
              "      <td>1</td>\n",
              "    </tr>\n",
              "  </tbody>\n",
              "</table>\n",
              "</div>"
            ],
            "text/plain": [
              "             Alice's Guess  ... Bob's Total Score\n",
              "0  [20, 1, -1, -30, -4, 4]  ...                 1\n",
              "\n",
              "[1 rows x 10 columns]"
            ]
          },
          "metadata": {
            "tags": []
          }
        },
        {
          "output_type": "stream",
          "text": [
            "\n",
            "Available configurations for Alice: \n",
            "\n"
          ],
          "name": "stdout"
        },
        {
          "output_type": "display_data",
          "data": {
            "text/html": [
              "<div>\n",
              "<style scoped>\n",
              "    .dataframe tbody tr th:only-of-type {\n",
              "        vertical-align: middle;\n",
              "    }\n",
              "\n",
              "    .dataframe tbody tr th {\n",
              "        vertical-align: top;\n",
              "    }\n",
              "\n",
              "    .dataframe thead th {\n",
              "        text-align: right;\n",
              "    }\n",
              "</style>\n",
              "<table border=\"1\" class=\"dataframe\">\n",
              "  <thead>\n",
              "    <tr style=\"text-align: right;\">\n",
              "      <th></th>\n",
              "      <th>Alice</th>\n",
              "    </tr>\n",
              "  </thead>\n",
              "  <tbody>\n",
              "    <tr>\n",
              "      <th>1</th>\n",
              "      <td>[2, -20, (-0-9j), 20, 4, 5]</td>\n",
              "    </tr>\n",
              "    <tr>\n",
              "      <th>2</th>\n",
              "      <td>[4, -4, 5, -5, -40, -2]</td>\n",
              "    </tr>\n",
              "    <tr>\n",
              "      <th>3</th>\n",
              "      <td>[-2, (-0-20j), 9j, 20, -4, 5]</td>\n",
              "    </tr>\n",
              "  </tbody>\n",
              "</table>\n",
              "</div>"
            ],
            "text/plain": [
              "                           Alice\n",
              "1    [2, -20, (-0-9j), 20, 4, 5]\n",
              "2        [4, -4, 5, -5, -40, -2]\n",
              "3  [-2, (-0-20j), 9j, 20, -4, 5]"
            ]
          },
          "metadata": {
            "tags": []
          }
        },
        {
          "output_type": "stream",
          "text": [
            "\n",
            "Remaining entanglement options for Alice: [0, 1, 3, 4, 5]\n",
            "\n",
            "Available configurations for Bob: \n",
            "\n"
          ],
          "name": "stdout"
        },
        {
          "output_type": "display_data",
          "data": {
            "text/html": [
              "<div>\n",
              "<style scoped>\n",
              "    .dataframe tbody tr th:only-of-type {\n",
              "        vertical-align: middle;\n",
              "    }\n",
              "\n",
              "    .dataframe tbody tr th {\n",
              "        vertical-align: top;\n",
              "    }\n",
              "\n",
              "    .dataframe thead th {\n",
              "        text-align: right;\n",
              "    }\n",
              "</style>\n",
              "<table border=\"1\" class=\"dataframe\">\n",
              "  <thead>\n",
              "    <tr style=\"text-align: right;\">\n",
              "      <th></th>\n",
              "      <th>Bob</th>\n",
              "    </tr>\n",
              "  </thead>\n",
              "  <tbody>\n",
              "    <tr>\n",
              "      <th>0</th>\n",
              "      <td>[5, 5, 5, 5, 20, 20]</td>\n",
              "    </tr>\n",
              "    <tr>\n",
              "      <th>2</th>\n",
              "      <td>[-15, 5, -10, 10, 10, -10]</td>\n",
              "    </tr>\n",
              "    <tr>\n",
              "      <th>3</th>\n",
              "      <td>[-10, 10, -5, 15j, 15j, 5]</td>\n",
              "    </tr>\n",
              "  </tbody>\n",
              "</table>\n",
              "</div>"
            ],
            "text/plain": [
              "                          Bob\n",
              "0        [5, 5, 5, 5, 20, 20]\n",
              "2  [-15, 5, -10, 10, 10, -10]\n",
              "3  [-10, 10, -5, 15j, 15j, 5]"
            ]
          },
          "metadata": {
            "tags": []
          }
        },
        {
          "output_type": "stream",
          "text": [
            "\n",
            "Remaining entanglement options for Bob: [0, 1, 2, 4, 5]\n",
            "\n",
            "Round 2\n",
            "\n",
            "Note that configurations or row numbers should be chosesn from {0,1,2,3} and entanglement choice should be chosen from {0,1,2,3,4,5}.\n",
            "Enter configuration row number for Bob: ··········\n",
            "Configuration already chosen. Please enter again.\n",
            "Enter configuration row number for Bob: ··········\n",
            "Enter configuration row number for Alice: ··········\n",
            "Configuration already chosen. Please enter again.\n",
            "Enter configuration row number for Alice: ··········\n",
            "Choose island for entanglement for Bob: 3\n",
            "Island already chosen for entanglement. Please enter again.\n",
            "Choose island for entanglement for Bob: 0\n",
            "Choose island for entanglement for Alice: 1\n",
            "0  ::  0\n",
            "1  ::  1\n",
            "2  ::  0\n",
            "3  ::  1\n",
            "4  ::  1\n",
            "5  ::  0\n",
            "\n",
            " Note that the 'Control Islands' values should be read as [Alice's Island, Bob's Island].\n",
            "\n",
            "Scoreboard\n"
          ],
          "name": "stdout"
        },
        {
          "output_type": "display_data",
          "data": {
            "text/html": [
              "<div>\n",
              "<style scoped>\n",
              "    .dataframe tbody tr th:only-of-type {\n",
              "        vertical-align: middle;\n",
              "    }\n",
              "\n",
              "    .dataframe tbody tr th {\n",
              "        vertical-align: top;\n",
              "    }\n",
              "\n",
              "    .dataframe thead th {\n",
              "        text-align: right;\n",
              "    }\n",
              "</style>\n",
              "<table border=\"1\" class=\"dataframe\">\n",
              "  <thead>\n",
              "    <tr style=\"text-align: right;\">\n",
              "      <th></th>\n",
              "      <th>Alice's Guess</th>\n",
              "      <th>Bob's Guess</th>\n",
              "      <th>Result</th>\n",
              "      <th>Control Islands</th>\n",
              "      <th>Alice's Row</th>\n",
              "      <th>Bob's Row</th>\n",
              "      <th>Alice's Score</th>\n",
              "      <th>Bob's Score</th>\n",
              "      <th>Alice's Total Score</th>\n",
              "      <th>Bob's Total Score</th>\n",
              "    </tr>\n",
              "  </thead>\n",
              "  <tbody>\n",
              "    <tr>\n",
              "      <th>0</th>\n",
              "      <td>[20, 1, -1, -30, -4, 4]</td>\n",
              "      <td>[10, 10, 5, 15, 15j, 5]</td>\n",
              "      <td>[0, 0, 0, 0, 1, 0]</td>\n",
              "      <td>[2, 3]</td>\n",
              "      <td>0</td>\n",
              "      <td>1</td>\n",
              "      <td>5</td>\n",
              "      <td>1</td>\n",
              "      <td>5</td>\n",
              "      <td>1</td>\n",
              "    </tr>\n",
              "    <tr>\n",
              "      <th>1</th>\n",
              "      <td>[2, -20, (-0-9j), 20, 4, 5]</td>\n",
              "      <td>[-15, 5, -10, 10, 10, -10]</td>\n",
              "      <td>[0, 1, 0, 1, 1, 0]</td>\n",
              "      <td>[1, 0]</td>\n",
              "      <td>1</td>\n",
              "      <td>2</td>\n",
              "      <td>3</td>\n",
              "      <td>3</td>\n",
              "      <td>8</td>\n",
              "      <td>4</td>\n",
              "    </tr>\n",
              "  </tbody>\n",
              "</table>\n",
              "</div>"
            ],
            "text/plain": [
              "                 Alice's Guess  ... Bob's Total Score\n",
              "0      [20, 1, -1, -30, -4, 4]  ...                 1\n",
              "1  [2, -20, (-0-9j), 20, 4, 5]  ...                 4\n",
              "\n",
              "[2 rows x 10 columns]"
            ]
          },
          "metadata": {
            "tags": []
          }
        },
        {
          "output_type": "stream",
          "text": [
            "\n",
            "Available configurations for Alice: \n",
            "\n"
          ],
          "name": "stdout"
        },
        {
          "output_type": "display_data",
          "data": {
            "text/html": [
              "<div>\n",
              "<style scoped>\n",
              "    .dataframe tbody tr th:only-of-type {\n",
              "        vertical-align: middle;\n",
              "    }\n",
              "\n",
              "    .dataframe tbody tr th {\n",
              "        vertical-align: top;\n",
              "    }\n",
              "\n",
              "    .dataframe thead th {\n",
              "        text-align: right;\n",
              "    }\n",
              "</style>\n",
              "<table border=\"1\" class=\"dataframe\">\n",
              "  <thead>\n",
              "    <tr style=\"text-align: right;\">\n",
              "      <th></th>\n",
              "      <th>Alice</th>\n",
              "    </tr>\n",
              "  </thead>\n",
              "  <tbody>\n",
              "    <tr>\n",
              "      <th>2</th>\n",
              "      <td>[4, -4, 5, -5, -40, -2]</td>\n",
              "    </tr>\n",
              "    <tr>\n",
              "      <th>3</th>\n",
              "      <td>[-2, (-0-20j), 9j, 20, -4, 5]</td>\n",
              "    </tr>\n",
              "  </tbody>\n",
              "</table>\n",
              "</div>"
            ],
            "text/plain": [
              "                           Alice\n",
              "2        [4, -4, 5, -5, -40, -2]\n",
              "3  [-2, (-0-20j), 9j, 20, -4, 5]"
            ]
          },
          "metadata": {
            "tags": []
          }
        },
        {
          "output_type": "stream",
          "text": [
            "\n",
            "Remaining entanglement options for Alice: [0, 3, 4, 5]\n",
            "\n",
            "Available configurations for Bob: \n",
            "\n"
          ],
          "name": "stdout"
        },
        {
          "output_type": "display_data",
          "data": {
            "text/html": [
              "<div>\n",
              "<style scoped>\n",
              "    .dataframe tbody tr th:only-of-type {\n",
              "        vertical-align: middle;\n",
              "    }\n",
              "\n",
              "    .dataframe tbody tr th {\n",
              "        vertical-align: top;\n",
              "    }\n",
              "\n",
              "    .dataframe thead th {\n",
              "        text-align: right;\n",
              "    }\n",
              "</style>\n",
              "<table border=\"1\" class=\"dataframe\">\n",
              "  <thead>\n",
              "    <tr style=\"text-align: right;\">\n",
              "      <th></th>\n",
              "      <th>Bob</th>\n",
              "    </tr>\n",
              "  </thead>\n",
              "  <tbody>\n",
              "    <tr>\n",
              "      <th>0</th>\n",
              "      <td>[5, 5, 5, 5, 20, 20]</td>\n",
              "    </tr>\n",
              "    <tr>\n",
              "      <th>3</th>\n",
              "      <td>[-10, 10, -5, 15j, 15j, 5]</td>\n",
              "    </tr>\n",
              "  </tbody>\n",
              "</table>\n",
              "</div>"
            ],
            "text/plain": [
              "                          Bob\n",
              "0        [5, 5, 5, 5, 20, 20]\n",
              "3  [-10, 10, -5, 15j, 15j, 5]"
            ]
          },
          "metadata": {
            "tags": []
          }
        },
        {
          "output_type": "stream",
          "text": [
            "\n",
            "Remaining entanglement options for Bob: [1, 2, 4, 5]\n",
            "\n",
            "Round 3\n",
            "\n",
            "Enter \"exit\" to exit.\n",
            "Note that configurations or row numbers should be chosesn from {0,1,2,3} and entanglement choice should be chosen from {0,1,2,3,4,5}.\n",
            "Enter configuration row number for Alice: ··········\n",
            "Enter configuration row number for Bob: ··········\n",
            "Choose island for entanglement for Alice: 0\n",
            "Choose island for entanglement for Bob: 1\n",
            "0  ::  0\n",
            "1  ::  0\n",
            "2  ::  0\n",
            "3  ::  0\n",
            "4  ::  1\n",
            "5  ::  0\n",
            "\n",
            " Note that the 'Control Islands' values should be read as [Alice's Island, Bob's Island].\n",
            "\n",
            "Scoreboard\n"
          ],
          "name": "stdout"
        },
        {
          "output_type": "display_data",
          "data": {
            "text/html": [
              "<div>\n",
              "<style scoped>\n",
              "    .dataframe tbody tr th:only-of-type {\n",
              "        vertical-align: middle;\n",
              "    }\n",
              "\n",
              "    .dataframe tbody tr th {\n",
              "        vertical-align: top;\n",
              "    }\n",
              "\n",
              "    .dataframe thead th {\n",
              "        text-align: right;\n",
              "    }\n",
              "</style>\n",
              "<table border=\"1\" class=\"dataframe\">\n",
              "  <thead>\n",
              "    <tr style=\"text-align: right;\">\n",
              "      <th></th>\n",
              "      <th>Alice's Guess</th>\n",
              "      <th>Bob's Guess</th>\n",
              "      <th>Result</th>\n",
              "      <th>Control Islands</th>\n",
              "      <th>Alice's Row</th>\n",
              "      <th>Bob's Row</th>\n",
              "      <th>Alice's Score</th>\n",
              "      <th>Bob's Score</th>\n",
              "      <th>Alice's Total Score</th>\n",
              "      <th>Bob's Total Score</th>\n",
              "    </tr>\n",
              "  </thead>\n",
              "  <tbody>\n",
              "    <tr>\n",
              "      <th>0</th>\n",
              "      <td>[20, 1, -1, -30, -4, 4]</td>\n",
              "      <td>[10, 10, 5, 15, 15j, 5]</td>\n",
              "      <td>[0, 0, 0, 0, 1, 0]</td>\n",
              "      <td>[2, 3]</td>\n",
              "      <td>0</td>\n",
              "      <td>1</td>\n",
              "      <td>5</td>\n",
              "      <td>1</td>\n",
              "      <td>5</td>\n",
              "      <td>1</td>\n",
              "    </tr>\n",
              "    <tr>\n",
              "      <th>1</th>\n",
              "      <td>[2, -20, (-0-9j), 20, 4, 5]</td>\n",
              "      <td>[-15, 5, -10, 10, 10, -10]</td>\n",
              "      <td>[0, 1, 0, 1, 1, 0]</td>\n",
              "      <td>[1, 0]</td>\n",
              "      <td>1</td>\n",
              "      <td>2</td>\n",
              "      <td>3</td>\n",
              "      <td>3</td>\n",
              "      <td>8</td>\n",
              "      <td>4</td>\n",
              "    </tr>\n",
              "    <tr>\n",
              "      <th>2</th>\n",
              "      <td>[4, -4, 5, -5, -40, -2]</td>\n",
              "      <td>[5, 5, 5, 5, 20, 20]</td>\n",
              "      <td>[0, 0, 0, 0, 1, 0]</td>\n",
              "      <td>[0, 1]</td>\n",
              "      <td>2</td>\n",
              "      <td>0</td>\n",
              "      <td>5</td>\n",
              "      <td>1</td>\n",
              "      <td>13</td>\n",
              "      <td>5</td>\n",
              "    </tr>\n",
              "  </tbody>\n",
              "</table>\n",
              "</div>"
            ],
            "text/plain": [
              "                 Alice's Guess  ... Bob's Total Score\n",
              "0      [20, 1, -1, -30, -4, 4]  ...                 1\n",
              "1  [2, -20, (-0-9j), 20, 4, 5]  ...                 4\n",
              "2      [4, -4, 5, -5, -40, -2]  ...                 5\n",
              "\n",
              "[3 rows x 10 columns]"
            ]
          },
          "metadata": {
            "tags": []
          }
        },
        {
          "output_type": "stream",
          "text": [
            "\n",
            "Discarded configuration for Alice: \n",
            "\n"
          ],
          "name": "stdout"
        },
        {
          "output_type": "display_data",
          "data": {
            "text/html": [
              "<div>\n",
              "<style scoped>\n",
              "    .dataframe tbody tr th:only-of-type {\n",
              "        vertical-align: middle;\n",
              "    }\n",
              "\n",
              "    .dataframe tbody tr th {\n",
              "        vertical-align: top;\n",
              "    }\n",
              "\n",
              "    .dataframe thead th {\n",
              "        text-align: right;\n",
              "    }\n",
              "</style>\n",
              "<table border=\"1\" class=\"dataframe\">\n",
              "  <thead>\n",
              "    <tr style=\"text-align: right;\">\n",
              "      <th></th>\n",
              "      <th>Alice</th>\n",
              "    </tr>\n",
              "  </thead>\n",
              "  <tbody>\n",
              "    <tr>\n",
              "      <th>3</th>\n",
              "      <td>[-2, (-0-20j), 9j, 20, -4, 5]</td>\n",
              "    </tr>\n",
              "  </tbody>\n",
              "</table>\n",
              "</div>"
            ],
            "text/plain": [
              "                           Alice\n",
              "3  [-2, (-0-20j), 9j, 20, -4, 5]"
            ]
          },
          "metadata": {
            "tags": []
          }
        },
        {
          "output_type": "stream",
          "text": [
            "\n",
            "Remaining entanglement options for Alice: [3, 4, 5]\n",
            "\n",
            "Discarded configuration for Bob: \n",
            "\n"
          ],
          "name": "stdout"
        },
        {
          "output_type": "display_data",
          "data": {
            "text/html": [
              "<div>\n",
              "<style scoped>\n",
              "    .dataframe tbody tr th:only-of-type {\n",
              "        vertical-align: middle;\n",
              "    }\n",
              "\n",
              "    .dataframe tbody tr th {\n",
              "        vertical-align: top;\n",
              "    }\n",
              "\n",
              "    .dataframe thead th {\n",
              "        text-align: right;\n",
              "    }\n",
              "</style>\n",
              "<table border=\"1\" class=\"dataframe\">\n",
              "  <thead>\n",
              "    <tr style=\"text-align: right;\">\n",
              "      <th></th>\n",
              "      <th>Bob</th>\n",
              "    </tr>\n",
              "  </thead>\n",
              "  <tbody>\n",
              "    <tr>\n",
              "      <th>3</th>\n",
              "      <td>[-10, 10, -5, 15j, 15j, 5]</td>\n",
              "    </tr>\n",
              "  </tbody>\n",
              "</table>\n",
              "</div>"
            ],
            "text/plain": [
              "                          Bob\n",
              "3  [-10, 10, -5, 15j, 15j, 5]"
            ]
          },
          "metadata": {
            "tags": []
          }
        },
        {
          "output_type": "stream",
          "text": [
            "\n",
            "Remaining entanglement options for Bob: [2, 4, 5]\n",
            "\n",
            " Half Time\n"
          ],
          "name": "stdout"
        }
      ]
    },
    {
      "cell_type": "markdown",
      "metadata": {
        "id": "oX6gWyeACUs0",
        "colab_type": "text"
      },
      "source": [
        "Enter configuration for second half. "
      ]
    },
    {
      "cell_type": "code",
      "metadata": {
        "id": "kOWwMDnuCXJa",
        "colab_type": "code",
        "colab": {}
      },
      "source": [
        "playlist2 = []\n",
        "playlist2.append([[10, 1, -1, -40, -4, 4], [2, 8, 5, -5, 15, 25]])\n",
        "playlist2.append([[2, -20, -9j, 20j, 7, 2], [10, -10, 5, 15, 15j, 5]])\n",
        "playlist2.append([[4, -4j, 8, -2, -30, -12], [-15j, 8, 7, 10, -10j, -10]])\n",
        "playlist2.append([[-2j, -40j, 9j, 1, -4, 4], [-10, 8, -7, 15j, -15, 5]])"
      ],
      "execution_count": 0,
      "outputs": []
    },
    {
      "cell_type": "code",
      "metadata": {
        "id": "rSXEVISxelYp",
        "colab_type": "code",
        "outputId": "7173df98-31a5-46f0-e423-dd6327fc6a30",
        "colab": {
          "base_uri": "https://localhost:8080/",
          "height": 34
        }
      },
      "source": [
        "playlist2 = validity_check(playlist2)"
      ],
      "execution_count": 43,
      "outputs": [
        {
          "output_type": "stream",
          "text": [
            "All configurations are valid.\n"
          ],
          "name": "stdout"
        }
      ]
    },
    {
      "cell_type": "markdown",
      "metadata": {
        "id": "mfUY9AbgCagy",
        "colab_type": "text"
      },
      "source": [
        "Run the below cell to play the second half."
      ]
    },
    {
      "cell_type": "code",
      "metadata": {
        "id": "OO51B84QCnMW",
        "colab_type": "code",
        "outputId": "6df8feff-136f-4908-c4ee-112361da19f4",
        "colab": {
          "base_uri": "https://localhost:8080/",
          "height": 1000
        }
      },
      "source": [
        "tab1, sA1, sB1 , first_turn1, alice_entan_choices1, bob_entan_choices1 = play_game(tab, playlist2, basis_list, sA, sB, first_turn, alice_entan_choices, bob_entan_choices)"
      ],
      "execution_count": 44,
      "outputs": [
        {
          "output_type": "display_data",
          "data": {
            "text/html": [
              "<div>\n",
              "<style scoped>\n",
              "    .dataframe tbody tr th:only-of-type {\n",
              "        vertical-align: middle;\n",
              "    }\n",
              "\n",
              "    .dataframe tbody tr th {\n",
              "        vertical-align: top;\n",
              "    }\n",
              "\n",
              "    .dataframe thead th {\n",
              "        text-align: right;\n",
              "    }\n",
              "</style>\n",
              "<table border=\"1\" class=\"dataframe\">\n",
              "  <thead>\n",
              "    <tr style=\"text-align: right;\">\n",
              "      <th></th>\n",
              "      <th>Alice's Guess</th>\n",
              "      <th>Bob's Guess</th>\n",
              "      <th>Result</th>\n",
              "      <th>Control Islands</th>\n",
              "      <th>Alice's Row</th>\n",
              "      <th>Bob's Row</th>\n",
              "      <th>Alice's Score</th>\n",
              "      <th>Bob's Score</th>\n",
              "      <th>Alice's Total Score</th>\n",
              "      <th>Bob's Total Score</th>\n",
              "    </tr>\n",
              "  </thead>\n",
              "  <tbody>\n",
              "    <tr>\n",
              "      <th>0</th>\n",
              "      <td>[20, 1, -1, -30, -4, 4]</td>\n",
              "      <td>[10, 10, 5, 15, 15j, 5]</td>\n",
              "      <td>[0, 0, 0, 0, 1, 0]</td>\n",
              "      <td>[2, 3]</td>\n",
              "      <td>0</td>\n",
              "      <td>1</td>\n",
              "      <td>5</td>\n",
              "      <td>1</td>\n",
              "      <td>5</td>\n",
              "      <td>1</td>\n",
              "    </tr>\n",
              "    <tr>\n",
              "      <th>1</th>\n",
              "      <td>[2, -20, (-0-9j), 20, 4, 5]</td>\n",
              "      <td>[-15, 5, -10, 10, 10, -10]</td>\n",
              "      <td>[0, 1, 0, 1, 1, 0]</td>\n",
              "      <td>[1, 0]</td>\n",
              "      <td>1</td>\n",
              "      <td>2</td>\n",
              "      <td>3</td>\n",
              "      <td>3</td>\n",
              "      <td>8</td>\n",
              "      <td>4</td>\n",
              "    </tr>\n",
              "    <tr>\n",
              "      <th>2</th>\n",
              "      <td>[4, -4, 5, -5, -40, -2]</td>\n",
              "      <td>[5, 5, 5, 5, 20, 20]</td>\n",
              "      <td>[0, 0, 0, 0, 1, 0]</td>\n",
              "      <td>[0, 1]</td>\n",
              "      <td>2</td>\n",
              "      <td>0</td>\n",
              "      <td>5</td>\n",
              "      <td>1</td>\n",
              "      <td>13</td>\n",
              "      <td>5</td>\n",
              "    </tr>\n",
              "  </tbody>\n",
              "</table>\n",
              "</div>"
            ],
            "text/plain": [
              "                 Alice's Guess  ... Bob's Total Score\n",
              "0      [20, 1, -1, -30, -4, 4]  ...                 1\n",
              "1  [2, -20, (-0-9j), 20, 4, 5]  ...                 4\n",
              "2      [4, -4, 5, -5, -40, -2]  ...                 5\n",
              "\n",
              "[3 rows x 10 columns]"
            ]
          },
          "metadata": {
            "tags": []
          }
        },
        {
          "output_type": "stream",
          "text": [
            "\n",
            "Round 4\n",
            "\n",
            "Note that configurations or row numbers should be chosesn from {0,1,2,3} and entanglement choice should be chosen from {0,1,2,3,4,5}.\n",
            "Enter configuration row number for Bob: ··········\n",
            "Enter configuration row number for Alice: ··········\n",
            "Choose island for entanglement for Bob: 0\n",
            "Island already chosen for entanglement. Please enter again.\n",
            "Choose island for entanglement for Bob: 4\n",
            "Choose island for entanglement for Alice: 5\n",
            "0  ::  1\n",
            "1  ::  0\n",
            "2  ::  0\n",
            "3  ::  0\n",
            "4  ::  0\n",
            "5  ::  0\n",
            "\n",
            " Note that the 'Control Islands' values should be read as [Alice's Island, Bob's Island].\n",
            "\n",
            "Scoreboard\n"
          ],
          "name": "stdout"
        },
        {
          "output_type": "display_data",
          "data": {
            "text/html": [
              "<div>\n",
              "<style scoped>\n",
              "    .dataframe tbody tr th:only-of-type {\n",
              "        vertical-align: middle;\n",
              "    }\n",
              "\n",
              "    .dataframe tbody tr th {\n",
              "        vertical-align: top;\n",
              "    }\n",
              "\n",
              "    .dataframe thead th {\n",
              "        text-align: right;\n",
              "    }\n",
              "</style>\n",
              "<table border=\"1\" class=\"dataframe\">\n",
              "  <thead>\n",
              "    <tr style=\"text-align: right;\">\n",
              "      <th></th>\n",
              "      <th>Alice's Guess</th>\n",
              "      <th>Bob's Guess</th>\n",
              "      <th>Result</th>\n",
              "      <th>Control Islands</th>\n",
              "      <th>Alice's Row</th>\n",
              "      <th>Bob's Row</th>\n",
              "      <th>Alice's Score</th>\n",
              "      <th>Bob's Score</th>\n",
              "      <th>Alice's Total Score</th>\n",
              "      <th>Bob's Total Score</th>\n",
              "    </tr>\n",
              "  </thead>\n",
              "  <tbody>\n",
              "    <tr>\n",
              "      <th>0</th>\n",
              "      <td>[20, 1, -1, -30, -4, 4]</td>\n",
              "      <td>[10, 10, 5, 15, 15j, 5]</td>\n",
              "      <td>[0, 0, 0, 0, 1, 0]</td>\n",
              "      <td>[2, 3]</td>\n",
              "      <td>0</td>\n",
              "      <td>1</td>\n",
              "      <td>5</td>\n",
              "      <td>1</td>\n",
              "      <td>5</td>\n",
              "      <td>1</td>\n",
              "    </tr>\n",
              "    <tr>\n",
              "      <th>1</th>\n",
              "      <td>[2, -20, (-0-9j), 20, 4, 5]</td>\n",
              "      <td>[-15, 5, -10, 10, 10, -10]</td>\n",
              "      <td>[0, 1, 0, 1, 1, 0]</td>\n",
              "      <td>[1, 0]</td>\n",
              "      <td>1</td>\n",
              "      <td>2</td>\n",
              "      <td>3</td>\n",
              "      <td>3</td>\n",
              "      <td>8</td>\n",
              "      <td>4</td>\n",
              "    </tr>\n",
              "    <tr>\n",
              "      <th>2</th>\n",
              "      <td>[4, -4, 5, -5, -40, -2]</td>\n",
              "      <td>[5, 5, 5, 5, 20, 20]</td>\n",
              "      <td>[0, 0, 0, 0, 1, 0]</td>\n",
              "      <td>[0, 1]</td>\n",
              "      <td>2</td>\n",
              "      <td>0</td>\n",
              "      <td>5</td>\n",
              "      <td>1</td>\n",
              "      <td>13</td>\n",
              "      <td>5</td>\n",
              "    </tr>\n",
              "    <tr>\n",
              "      <th>3</th>\n",
              "      <td>[2, -20, (-0-9j), 20j, 7, 2]</td>\n",
              "      <td>[2, 8, 5, -5, 15, 25]</td>\n",
              "      <td>[1, 0, 0, 0, 0, 0]</td>\n",
              "      <td>[5, 4]</td>\n",
              "      <td>1</td>\n",
              "      <td>0</td>\n",
              "      <td>5</td>\n",
              "      <td>1</td>\n",
              "      <td>18</td>\n",
              "      <td>6</td>\n",
              "    </tr>\n",
              "  </tbody>\n",
              "</table>\n",
              "</div>"
            ],
            "text/plain": [
              "                  Alice's Guess  ... Bob's Total Score\n",
              "0       [20, 1, -1, -30, -4, 4]  ...                 1\n",
              "1   [2, -20, (-0-9j), 20, 4, 5]  ...                 4\n",
              "2       [4, -4, 5, -5, -40, -2]  ...                 5\n",
              "3  [2, -20, (-0-9j), 20j, 7, 2]  ...                 6\n",
              "\n",
              "[4 rows x 10 columns]"
            ]
          },
          "metadata": {
            "tags": []
          }
        },
        {
          "output_type": "stream",
          "text": [
            "\n",
            "Available configurations for Alice: \n",
            "\n"
          ],
          "name": "stdout"
        },
        {
          "output_type": "display_data",
          "data": {
            "text/html": [
              "<div>\n",
              "<style scoped>\n",
              "    .dataframe tbody tr th:only-of-type {\n",
              "        vertical-align: middle;\n",
              "    }\n",
              "\n",
              "    .dataframe tbody tr th {\n",
              "        vertical-align: top;\n",
              "    }\n",
              "\n",
              "    .dataframe thead th {\n",
              "        text-align: right;\n",
              "    }\n",
              "</style>\n",
              "<table border=\"1\" class=\"dataframe\">\n",
              "  <thead>\n",
              "    <tr style=\"text-align: right;\">\n",
              "      <th></th>\n",
              "      <th>Alice</th>\n",
              "    </tr>\n",
              "  </thead>\n",
              "  <tbody>\n",
              "    <tr>\n",
              "      <th>0</th>\n",
              "      <td>[10, 1, -1, -40, -4, 4]</td>\n",
              "    </tr>\n",
              "    <tr>\n",
              "      <th>2</th>\n",
              "      <td>[4, (-0-4j), 8, -2, -30, -12]</td>\n",
              "    </tr>\n",
              "    <tr>\n",
              "      <th>3</th>\n",
              "      <td>[(-0-2j), (-0-40j), 9j, 1, -4, 4]</td>\n",
              "    </tr>\n",
              "  </tbody>\n",
              "</table>\n",
              "</div>"
            ],
            "text/plain": [
              "                               Alice\n",
              "0            [10, 1, -1, -40, -4, 4]\n",
              "2      [4, (-0-4j), 8, -2, -30, -12]\n",
              "3  [(-0-2j), (-0-40j), 9j, 1, -4, 4]"
            ]
          },
          "metadata": {
            "tags": []
          }
        },
        {
          "output_type": "stream",
          "text": [
            "\n",
            "Remaining entanglement options for Alice: [3, 4]\n",
            "\n",
            "Available configurations for Bob: \n",
            "\n"
          ],
          "name": "stdout"
        },
        {
          "output_type": "display_data",
          "data": {
            "text/html": [
              "<div>\n",
              "<style scoped>\n",
              "    .dataframe tbody tr th:only-of-type {\n",
              "        vertical-align: middle;\n",
              "    }\n",
              "\n",
              "    .dataframe tbody tr th {\n",
              "        vertical-align: top;\n",
              "    }\n",
              "\n",
              "    .dataframe thead th {\n",
              "        text-align: right;\n",
              "    }\n",
              "</style>\n",
              "<table border=\"1\" class=\"dataframe\">\n",
              "  <thead>\n",
              "    <tr style=\"text-align: right;\">\n",
              "      <th></th>\n",
              "      <th>Bob</th>\n",
              "    </tr>\n",
              "  </thead>\n",
              "  <tbody>\n",
              "    <tr>\n",
              "      <th>1</th>\n",
              "      <td>[10, -10, 5, 15, 15j, 5]</td>\n",
              "    </tr>\n",
              "    <tr>\n",
              "      <th>2</th>\n",
              "      <td>[(-0-15j), 8, 7, 10, (-0-10j), -10]</td>\n",
              "    </tr>\n",
              "    <tr>\n",
              "      <th>3</th>\n",
              "      <td>[-10, 8, -7, 15j, -15, 5]</td>\n",
              "    </tr>\n",
              "  </tbody>\n",
              "</table>\n",
              "</div>"
            ],
            "text/plain": [
              "                                   Bob\n",
              "1             [10, -10, 5, 15, 15j, 5]\n",
              "2  [(-0-15j), 8, 7, 10, (-0-10j), -10]\n",
              "3            [-10, 8, -7, 15j, -15, 5]"
            ]
          },
          "metadata": {
            "tags": []
          }
        },
        {
          "output_type": "stream",
          "text": [
            "\n",
            "Remaining entanglement options for Bob: [2, 5]\n",
            "\n",
            "Round 5\n",
            "\n",
            "Enter \"exit\" to exit.\n",
            "Note that configurations or row numbers should be chosesn from {0,1,2,3} and entanglement choice should be chosen from {0,1,2,3,4,5}.\n",
            "Enter configuration row number for Alice: ··········\n",
            "Enter configuration row number for Bob: ··········\n",
            "Choose island for entanglement for Alice: 3\n",
            "Choose island for entanglement for Bob: 5\n",
            "0  ::  0\n",
            "1  ::  0\n",
            "2  ::  1\n",
            "3  ::  0\n",
            "4  ::  0\n",
            "5  ::  1\n",
            "\n",
            " Note that the 'Control Islands' values should be read as [Alice's Island, Bob's Island].\n",
            "\n",
            "Scoreboard\n"
          ],
          "name": "stdout"
        },
        {
          "output_type": "display_data",
          "data": {
            "text/html": [
              "<div>\n",
              "<style scoped>\n",
              "    .dataframe tbody tr th:only-of-type {\n",
              "        vertical-align: middle;\n",
              "    }\n",
              "\n",
              "    .dataframe tbody tr th {\n",
              "        vertical-align: top;\n",
              "    }\n",
              "\n",
              "    .dataframe thead th {\n",
              "        text-align: right;\n",
              "    }\n",
              "</style>\n",
              "<table border=\"1\" class=\"dataframe\">\n",
              "  <thead>\n",
              "    <tr style=\"text-align: right;\">\n",
              "      <th></th>\n",
              "      <th>Alice's Guess</th>\n",
              "      <th>Bob's Guess</th>\n",
              "      <th>Result</th>\n",
              "      <th>Control Islands</th>\n",
              "      <th>Alice's Row</th>\n",
              "      <th>Bob's Row</th>\n",
              "      <th>Alice's Score</th>\n",
              "      <th>Bob's Score</th>\n",
              "      <th>Alice's Total Score</th>\n",
              "      <th>Bob's Total Score</th>\n",
              "    </tr>\n",
              "  </thead>\n",
              "  <tbody>\n",
              "    <tr>\n",
              "      <th>0</th>\n",
              "      <td>[20, 1, -1, -30, -4, 4]</td>\n",
              "      <td>[10, 10, 5, 15, 15j, 5]</td>\n",
              "      <td>[0, 0, 0, 0, 1, 0]</td>\n",
              "      <td>[2, 3]</td>\n",
              "      <td>0</td>\n",
              "      <td>1</td>\n",
              "      <td>5</td>\n",
              "      <td>1</td>\n",
              "      <td>5</td>\n",
              "      <td>1</td>\n",
              "    </tr>\n",
              "    <tr>\n",
              "      <th>1</th>\n",
              "      <td>[2, -20, (-0-9j), 20, 4, 5]</td>\n",
              "      <td>[-15, 5, -10, 10, 10, -10]</td>\n",
              "      <td>[0, 1, 0, 1, 1, 0]</td>\n",
              "      <td>[1, 0]</td>\n",
              "      <td>1</td>\n",
              "      <td>2</td>\n",
              "      <td>3</td>\n",
              "      <td>3</td>\n",
              "      <td>8</td>\n",
              "      <td>4</td>\n",
              "    </tr>\n",
              "    <tr>\n",
              "      <th>2</th>\n",
              "      <td>[4, -4, 5, -5, -40, -2]</td>\n",
              "      <td>[5, 5, 5, 5, 20, 20]</td>\n",
              "      <td>[0, 0, 0, 0, 1, 0]</td>\n",
              "      <td>[0, 1]</td>\n",
              "      <td>2</td>\n",
              "      <td>0</td>\n",
              "      <td>5</td>\n",
              "      <td>1</td>\n",
              "      <td>13</td>\n",
              "      <td>5</td>\n",
              "    </tr>\n",
              "    <tr>\n",
              "      <th>3</th>\n",
              "      <td>[2, -20, (-0-9j), 20j, 7, 2]</td>\n",
              "      <td>[2, 8, 5, -5, 15, 25]</td>\n",
              "      <td>[1, 0, 0, 0, 0, 0]</td>\n",
              "      <td>[5, 4]</td>\n",
              "      <td>1</td>\n",
              "      <td>0</td>\n",
              "      <td>5</td>\n",
              "      <td>1</td>\n",
              "      <td>18</td>\n",
              "      <td>6</td>\n",
              "    </tr>\n",
              "    <tr>\n",
              "      <th>4</th>\n",
              "      <td>[10, 1, -1, -40, -4, 4]</td>\n",
              "      <td>[(-0-15j), 8, 7, 10, (-0-10j), -10]</td>\n",
              "      <td>[0, 0, 1, 0, 0, 1]</td>\n",
              "      <td>[3, 5]</td>\n",
              "      <td>0</td>\n",
              "      <td>2</td>\n",
              "      <td>4</td>\n",
              "      <td>2</td>\n",
              "      <td>22</td>\n",
              "      <td>8</td>\n",
              "    </tr>\n",
              "  </tbody>\n",
              "</table>\n",
              "</div>"
            ],
            "text/plain": [
              "                  Alice's Guess  ... Bob's Total Score\n",
              "0       [20, 1, -1, -30, -4, 4]  ...                 1\n",
              "1   [2, -20, (-0-9j), 20, 4, 5]  ...                 4\n",
              "2       [4, -4, 5, -5, -40, -2]  ...                 5\n",
              "3  [2, -20, (-0-9j), 20j, 7, 2]  ...                 6\n",
              "4       [10, 1, -1, -40, -4, 4]  ...                 8\n",
              "\n",
              "[5 rows x 10 columns]"
            ]
          },
          "metadata": {
            "tags": []
          }
        },
        {
          "output_type": "stream",
          "text": [
            "\n",
            "Available configurations for Alice: \n",
            "\n"
          ],
          "name": "stdout"
        },
        {
          "output_type": "display_data",
          "data": {
            "text/html": [
              "<div>\n",
              "<style scoped>\n",
              "    .dataframe tbody tr th:only-of-type {\n",
              "        vertical-align: middle;\n",
              "    }\n",
              "\n",
              "    .dataframe tbody tr th {\n",
              "        vertical-align: top;\n",
              "    }\n",
              "\n",
              "    .dataframe thead th {\n",
              "        text-align: right;\n",
              "    }\n",
              "</style>\n",
              "<table border=\"1\" class=\"dataframe\">\n",
              "  <thead>\n",
              "    <tr style=\"text-align: right;\">\n",
              "      <th></th>\n",
              "      <th>Alice</th>\n",
              "    </tr>\n",
              "  </thead>\n",
              "  <tbody>\n",
              "    <tr>\n",
              "      <th>2</th>\n",
              "      <td>[4, (-0-4j), 8, -2, -30, -12]</td>\n",
              "    </tr>\n",
              "    <tr>\n",
              "      <th>3</th>\n",
              "      <td>[(-0-2j), (-0-40j), 9j, 1, -4, 4]</td>\n",
              "    </tr>\n",
              "  </tbody>\n",
              "</table>\n",
              "</div>"
            ],
            "text/plain": [
              "                               Alice\n",
              "2      [4, (-0-4j), 8, -2, -30, -12]\n",
              "3  [(-0-2j), (-0-40j), 9j, 1, -4, 4]"
            ]
          },
          "metadata": {
            "tags": []
          }
        },
        {
          "output_type": "stream",
          "text": [
            "\n",
            "Available configurations for Bob: \n",
            "\n"
          ],
          "name": "stdout"
        },
        {
          "output_type": "display_data",
          "data": {
            "text/html": [
              "<div>\n",
              "<style scoped>\n",
              "    .dataframe tbody tr th:only-of-type {\n",
              "        vertical-align: middle;\n",
              "    }\n",
              "\n",
              "    .dataframe tbody tr th {\n",
              "        vertical-align: top;\n",
              "    }\n",
              "\n",
              "    .dataframe thead th {\n",
              "        text-align: right;\n",
              "    }\n",
              "</style>\n",
              "<table border=\"1\" class=\"dataframe\">\n",
              "  <thead>\n",
              "    <tr style=\"text-align: right;\">\n",
              "      <th></th>\n",
              "      <th>Bob</th>\n",
              "    </tr>\n",
              "  </thead>\n",
              "  <tbody>\n",
              "    <tr>\n",
              "      <th>1</th>\n",
              "      <td>[10, -10, 5, 15, 15j, 5]</td>\n",
              "    </tr>\n",
              "    <tr>\n",
              "      <th>3</th>\n",
              "      <td>[-10, 8, -7, 15j, -15, 5]</td>\n",
              "    </tr>\n",
              "  </tbody>\n",
              "</table>\n",
              "</div>"
            ],
            "text/plain": [
              "                         Bob\n",
              "1   [10, -10, 5, 15, 15j, 5]\n",
              "3  [-10, 8, -7, 15j, -15, 5]"
            ]
          },
          "metadata": {
            "tags": []
          }
        },
        {
          "output_type": "stream",
          "text": [
            "\n",
            "Last round. You are now free to choose any island for entanglement.\n",
            "\n",
            "\n",
            "Round 6\n",
            "\n",
            "Note that configurations or row numbers should be chosesn from {0,1,2,3} and entanglement choice should be chosen from {0,1,2,3,4,5}.\n",
            "Enter configuration row number for Bob: ··········\n",
            "Configuration already chosen. Please enter again.\n",
            "Enter configuration row number for Bob: ··········\n",
            "Enter configuration row number for Alice: ··········\n",
            "Choose final island for entanglement for Bob: 1\n",
            "Choose final island for entanglement for Alice: 2\n",
            "0  ::  0\n",
            "1  ::  1\n",
            "2  ::  1\n",
            "3  ::  1\n",
            "4  ::  1\n",
            "5  ::  1\n",
            "\n",
            " Note that the 'Control Islands' values should be read as [Alice's Island, Bob's Island].\n",
            "\n",
            "Scoreboard\n"
          ],
          "name": "stdout"
        },
        {
          "output_type": "display_data",
          "data": {
            "text/html": [
              "<div>\n",
              "<style scoped>\n",
              "    .dataframe tbody tr th:only-of-type {\n",
              "        vertical-align: middle;\n",
              "    }\n",
              "\n",
              "    .dataframe tbody tr th {\n",
              "        vertical-align: top;\n",
              "    }\n",
              "\n",
              "    .dataframe thead th {\n",
              "        text-align: right;\n",
              "    }\n",
              "</style>\n",
              "<table border=\"1\" class=\"dataframe\">\n",
              "  <thead>\n",
              "    <tr style=\"text-align: right;\">\n",
              "      <th></th>\n",
              "      <th>Alice's Guess</th>\n",
              "      <th>Bob's Guess</th>\n",
              "      <th>Result</th>\n",
              "      <th>Control Islands</th>\n",
              "      <th>Alice's Row</th>\n",
              "      <th>Bob's Row</th>\n",
              "      <th>Alice's Score</th>\n",
              "      <th>Bob's Score</th>\n",
              "      <th>Alice's Total Score</th>\n",
              "      <th>Bob's Total Score</th>\n",
              "    </tr>\n",
              "  </thead>\n",
              "  <tbody>\n",
              "    <tr>\n",
              "      <th>0</th>\n",
              "      <td>[20, 1, -1, -30, -4, 4]</td>\n",
              "      <td>[10, 10, 5, 15, 15j, 5]</td>\n",
              "      <td>[0, 0, 0, 0, 1, 0]</td>\n",
              "      <td>[2, 3]</td>\n",
              "      <td>0</td>\n",
              "      <td>1</td>\n",
              "      <td>5</td>\n",
              "      <td>1</td>\n",
              "      <td>5</td>\n",
              "      <td>1</td>\n",
              "    </tr>\n",
              "    <tr>\n",
              "      <th>1</th>\n",
              "      <td>[2, -20, (-0-9j), 20, 4, 5]</td>\n",
              "      <td>[-15, 5, -10, 10, 10, -10]</td>\n",
              "      <td>[0, 1, 0, 1, 1, 0]</td>\n",
              "      <td>[1, 0]</td>\n",
              "      <td>1</td>\n",
              "      <td>2</td>\n",
              "      <td>3</td>\n",
              "      <td>3</td>\n",
              "      <td>8</td>\n",
              "      <td>4</td>\n",
              "    </tr>\n",
              "    <tr>\n",
              "      <th>2</th>\n",
              "      <td>[4, -4, 5, -5, -40, -2]</td>\n",
              "      <td>[5, 5, 5, 5, 20, 20]</td>\n",
              "      <td>[0, 0, 0, 0, 1, 0]</td>\n",
              "      <td>[0, 1]</td>\n",
              "      <td>2</td>\n",
              "      <td>0</td>\n",
              "      <td>5</td>\n",
              "      <td>1</td>\n",
              "      <td>13</td>\n",
              "      <td>5</td>\n",
              "    </tr>\n",
              "    <tr>\n",
              "      <th>3</th>\n",
              "      <td>[2, -20, (-0-9j), 20j, 7, 2]</td>\n",
              "      <td>[2, 8, 5, -5, 15, 25]</td>\n",
              "      <td>[1, 0, 0, 0, 0, 0]</td>\n",
              "      <td>[5, 4]</td>\n",
              "      <td>1</td>\n",
              "      <td>0</td>\n",
              "      <td>5</td>\n",
              "      <td>1</td>\n",
              "      <td>18</td>\n",
              "      <td>6</td>\n",
              "    </tr>\n",
              "    <tr>\n",
              "      <th>4</th>\n",
              "      <td>[10, 1, -1, -40, -4, 4]</td>\n",
              "      <td>[(-0-15j), 8, 7, 10, (-0-10j), -10]</td>\n",
              "      <td>[0, 0, 1, 0, 0, 1]</td>\n",
              "      <td>[3, 5]</td>\n",
              "      <td>0</td>\n",
              "      <td>2</td>\n",
              "      <td>4</td>\n",
              "      <td>2</td>\n",
              "      <td>22</td>\n",
              "      <td>8</td>\n",
              "    </tr>\n",
              "    <tr>\n",
              "      <th>5</th>\n",
              "      <td>[(-0-2j), (-0-40j), 9j, 1, -4, 4]</td>\n",
              "      <td>[-10, 8, -7, 15j, -15, 5]</td>\n",
              "      <td>[0, 1, 1, 1, 1, 1]</td>\n",
              "      <td>[2, 1]</td>\n",
              "      <td>3</td>\n",
              "      <td>3</td>\n",
              "      <td>1</td>\n",
              "      <td>5</td>\n",
              "      <td>23</td>\n",
              "      <td>13</td>\n",
              "    </tr>\n",
              "  </tbody>\n",
              "</table>\n",
              "</div>"
            ],
            "text/plain": [
              "                       Alice's Guess  ... Bob's Total Score\n",
              "0            [20, 1, -1, -30, -4, 4]  ...                 1\n",
              "1        [2, -20, (-0-9j), 20, 4, 5]  ...                 4\n",
              "2            [4, -4, 5, -5, -40, -2]  ...                 5\n",
              "3       [2, -20, (-0-9j), 20j, 7, 2]  ...                 6\n",
              "4            [10, 1, -1, -40, -4, 4]  ...                 8\n",
              "5  [(-0-2j), (-0-40j), 9j, 1, -4, 4]  ...                13\n",
              "\n",
              "[6 rows x 10 columns]"
            ]
          },
          "metadata": {
            "tags": []
          }
        },
        {
          "output_type": "stream",
          "text": [
            "\n",
            "Discarded configuration for Alice: \n",
            "\n"
          ],
          "name": "stdout"
        },
        {
          "output_type": "display_data",
          "data": {
            "text/html": [
              "<div>\n",
              "<style scoped>\n",
              "    .dataframe tbody tr th:only-of-type {\n",
              "        vertical-align: middle;\n",
              "    }\n",
              "\n",
              "    .dataframe tbody tr th {\n",
              "        vertical-align: top;\n",
              "    }\n",
              "\n",
              "    .dataframe thead th {\n",
              "        text-align: right;\n",
              "    }\n",
              "</style>\n",
              "<table border=\"1\" class=\"dataframe\">\n",
              "  <thead>\n",
              "    <tr style=\"text-align: right;\">\n",
              "      <th></th>\n",
              "      <th>Alice</th>\n",
              "    </tr>\n",
              "  </thead>\n",
              "  <tbody>\n",
              "    <tr>\n",
              "      <th>2</th>\n",
              "      <td>[4, (-0-4j), 8, -2, -30, -12]</td>\n",
              "    </tr>\n",
              "  </tbody>\n",
              "</table>\n",
              "</div>"
            ],
            "text/plain": [
              "                           Alice\n",
              "2  [4, (-0-4j), 8, -2, -30, -12]"
            ]
          },
          "metadata": {
            "tags": []
          }
        },
        {
          "output_type": "stream",
          "text": [
            "\n",
            "Discarded configuration for Bob: \n",
            "\n"
          ],
          "name": "stdout"
        },
        {
          "output_type": "display_data",
          "data": {
            "text/html": [
              "<div>\n",
              "<style scoped>\n",
              "    .dataframe tbody tr th:only-of-type {\n",
              "        vertical-align: middle;\n",
              "    }\n",
              "\n",
              "    .dataframe tbody tr th {\n",
              "        vertical-align: top;\n",
              "    }\n",
              "\n",
              "    .dataframe thead th {\n",
              "        text-align: right;\n",
              "    }\n",
              "</style>\n",
              "<table border=\"1\" class=\"dataframe\">\n",
              "  <thead>\n",
              "    <tr style=\"text-align: right;\">\n",
              "      <th></th>\n",
              "      <th>Bob</th>\n",
              "    </tr>\n",
              "  </thead>\n",
              "  <tbody>\n",
              "    <tr>\n",
              "      <th>1</th>\n",
              "      <td>[10, -10, 5, 15, 15j, 5]</td>\n",
              "    </tr>\n",
              "  </tbody>\n",
              "</table>\n",
              "</div>"
            ],
            "text/plain": [
              "                        Bob\n",
              "1  [10, -10, 5, 15, 15j, 5]"
            ]
          },
          "metadata": {
            "tags": []
          }
        },
        {
          "output_type": "stream",
          "text": [
            "\n",
            "Last round. You are now free to choose any island for entanglement.\n",
            "\n",
            "The island-basis mapping for the game: \n",
            "\n",
            "[Y, Y', Z', X, X', Z]\n",
            "\n",
            " Alice wins!!!\n"
          ],
          "name": "stdout"
        }
      ]
    }
  ]
}
